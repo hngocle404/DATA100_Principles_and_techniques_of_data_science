{
 "cells": [
  {
   "cell_type": "markdown",
   "id": "a750c9e0",
   "metadata": {
    "tags": []
   },
   "source": [
    "# Lecture 20 – Data 100, Fall 2023\n",
    "\n",
    "Data 100, Fall 2023\n",
    "\n",
    "[Acknowledgments Page](https://ds100.org/fa23/acks/)"
   ]
  },
  {
   "cell_type": "markdown",
   "id": "851dbb4e-77e5-456e-903f-d8df3aea6707",
   "metadata": {},
   "source": [
    "## Starting Up SQL"
   ]
  },
  {
   "cell_type": "markdown",
   "id": "863c24e4-6422-47c8-a194-575b7b7488ae",
   "metadata": {},
   "source": [
    "Before we look at SQL syntax in detail, let's first get ourselves set up to run SQL queries in Jupyter."
   ]
  },
  {
   "cell_type": "markdown",
   "id": "d4c43259-2e11-4cb3-b2ed-04f2a4148d60",
   "metadata": {},
   "source": [
    "#### Approach #1: SQL Magic"
   ]
  },
  {
   "cell_type": "markdown",
   "id": "f699330c-aee9-4036-bc7d-0fe329410f7b",
   "metadata": {},
   "source": [
    "**1. Load the `sql` Module.** \n",
    "\n",
    "Load `%%sql` cell magic."
   ]
  },
  {
   "cell_type": "code",
   "execution_count": 1,
   "id": "d809a9ab-fe04-4e65-99b9-bd1e0c6a0daf",
   "metadata": {},
   "outputs": [],
   "source": [
    "%load_ext sql"
   ]
  },
  {
   "cell_type": "markdown",
   "id": "b155e056-d307-4f69-8083-dee31155224e",
   "metadata": {},
   "source": [
    "**2. Connect to a database.**  \n",
    "\n",
    "Here, we connect to the SQLite database `basic_examples.db`."
   ]
  },
  {
   "cell_type": "code",
   "execution_count": 2,
   "id": "480982be-9b63-44f4-8ca2-e3b29cd04877",
   "metadata": {},
   "outputs": [],
   "source": [
    "%%sql\n",
    "sqlite:///data/basic_examples.db"
   ]
  },
  {
   "cell_type": "markdown",
   "id": "1b9a53ac-58d6-439f-a33e-926e15144e97",
   "metadata": {},
   "source": [
    "<br/>\n",
    "\n",
    "**3. Run a simple SQL query.** \n",
    "\n",
    "Note the `%%sql` lets Jupyter parse the rest of the lines as a SQL command."
   ]
  },
  {
   "cell_type": "code",
   "execution_count": 3,
   "id": "8c172229-1ae6-408a-80b6-ef7985fbe386",
   "metadata": {},
   "outputs": [
    {
     "data": {
      "text/html": [
       "<span style=\"None\">Running query in &#x27;sqlite:///data/basic_examples.db&#x27;</span>"
      ],
      "text/plain": [
       "Running query in 'sqlite:///data/basic_examples.db'"
      ]
     },
     "metadata": {},
     "output_type": "display_data"
    },
    {
     "data": {
      "text/html": [
       "<table>\n",
       "    <thead>\n",
       "        <tr>\n",
       "            <th>name</th>\n",
       "            <th>year</th>\n",
       "            <th>cute</th>\n",
       "        </tr>\n",
       "    </thead>\n",
       "    <tbody>\n",
       "        <tr>\n",
       "            <td>hiccup</td>\n",
       "            <td>2010</td>\n",
       "            <td>10</td>\n",
       "        </tr>\n",
       "        <tr>\n",
       "            <td>drogon</td>\n",
       "            <td>2011</td>\n",
       "            <td>-100</td>\n",
       "        </tr>\n",
       "        <tr>\n",
       "            <td>dragon 2</td>\n",
       "            <td>2019</td>\n",
       "            <td>0</td>\n",
       "        </tr>\n",
       "        <tr>\n",
       "            <td>puff</td>\n",
       "            <td>2010</td>\n",
       "            <td>100</td>\n",
       "        </tr>\n",
       "        <tr>\n",
       "            <td>smaug</td>\n",
       "            <td>2011</td>\n",
       "            <td>None</td>\n",
       "        </tr>\n",
       "    </tbody>\n",
       "</table>\n",
       "<span style='font-style:italic;font-size:11px'><code>ResultSet</code> : to convert to pandas, call <a href='https://jupysql.ploomber.io/en/latest/integrations/pandas.html'><code>.DataFrame()</code></a> or to polars, call <a href='https://jupysql.ploomber.io/en/latest/integrations/polars.html'><code>.PolarsDataFrame()</code></a></span><br>"
      ],
      "text/plain": [
       "+----------+------+------+\n",
       "|   name   | year | cute |\n",
       "+----------+------+------+\n",
       "|  hiccup  | 2010 |  10  |\n",
       "|  drogon  | 2011 | -100 |\n",
       "| dragon 2 | 2019 |  0   |\n",
       "|   puff   | 2010 | 100  |\n",
       "|  smaug   | 2011 | None |\n",
       "+----------+------+------+"
      ]
     },
     "execution_count": 3,
     "metadata": {},
     "output_type": "execute_result"
    }
   ],
   "source": [
    "%%sql\n",
    "SELECT * FROM Dragon;"
   ]
  },
  {
   "cell_type": "markdown",
   "id": "3e2fbecc-ccf6-4807-b810-7de159a111a1",
   "metadata": {},
   "source": [
    "**Simple query, this time on two different lines.**"
   ]
  },
  {
   "cell_type": "code",
   "execution_count": 4,
   "id": "4cbb0a40-63e7-46aa-a65f-a212e1a7858a",
   "metadata": {},
   "outputs": [
    {
     "data": {
      "text/html": [
       "<span style=\"None\">Running query in &#x27;sqlite:///data/basic_examples.db&#x27;</span>"
      ],
      "text/plain": [
       "Running query in 'sqlite:///data/basic_examples.db'"
      ]
     },
     "metadata": {},
     "output_type": "display_data"
    },
    {
     "data": {
      "text/html": [
       "<table>\n",
       "    <thead>\n",
       "        <tr>\n",
       "            <th>name</th>\n",
       "            <th>year</th>\n",
       "            <th>cute</th>\n",
       "        </tr>\n",
       "    </thead>\n",
       "    <tbody>\n",
       "        <tr>\n",
       "            <td>hiccup</td>\n",
       "            <td>2010</td>\n",
       "            <td>10</td>\n",
       "        </tr>\n",
       "        <tr>\n",
       "            <td>drogon</td>\n",
       "            <td>2011</td>\n",
       "            <td>-100</td>\n",
       "        </tr>\n",
       "        <tr>\n",
       "            <td>dragon 2</td>\n",
       "            <td>2019</td>\n",
       "            <td>0</td>\n",
       "        </tr>\n",
       "        <tr>\n",
       "            <td>puff</td>\n",
       "            <td>2010</td>\n",
       "            <td>100</td>\n",
       "        </tr>\n",
       "        <tr>\n",
       "            <td>smaug</td>\n",
       "            <td>2011</td>\n",
       "            <td>None</td>\n",
       "        </tr>\n",
       "    </tbody>\n",
       "</table>\n",
       "<span style='font-style:italic;font-size:11px'><code>ResultSet</code> : to convert to pandas, call <a href='https://jupysql.ploomber.io/en/latest/integrations/pandas.html'><code>.DataFrame()</code></a> or to polars, call <a href='https://jupysql.ploomber.io/en/latest/integrations/polars.html'><code>.PolarsDataFrame()</code></a></span><br>"
      ],
      "text/plain": [
       "+----------+------+------+\n",
       "|   name   | year | cute |\n",
       "+----------+------+------+\n",
       "|  hiccup  | 2010 |  10  |\n",
       "|  drogon  | 2011 | -100 |\n",
       "| dragon 2 | 2019 |  0   |\n",
       "|   puff   | 2010 | 100  |\n",
       "|  smaug   | 2011 | None |\n",
       "+----------+------+------+"
      ]
     },
     "execution_count": 4,
     "metadata": {},
     "output_type": "execute_result"
    }
   ],
   "source": [
    "%%sql\n",
    "SELECT *\n",
    "FROM Dragon;"
   ]
  },
  {
   "cell_type": "markdown",
   "id": "4d7ac386-94a9-4d3e-9b65-122d5213314a",
   "metadata": {
    "tags": []
   },
   "source": [
    "#### Approach #2: `pd.read_sql`\n",
    "\n",
    "It turns out that `pandas` has a special-purpose function to parse SQL queries. We can pass in a SQL query as a string to return a `pandas` DataFrame. To achieve the same result as we did using cell magic above, we can do the following."
   ]
  },
  {
   "cell_type": "markdown",
   "id": "54b68e95-db18-4bc5-83aa-7631f53520f2",
   "metadata": {},
   "source": [
    "**1. Connect to a database**"
   ]
  },
  {
   "cell_type": "code",
   "execution_count": 5,
   "id": "3a8939f0-cbfc-4891-b575-4730df1d8aa5",
   "metadata": {},
   "outputs": [],
   "source": [
    "import sqlalchemy \n",
    "import pandas as pd\n",
    "\n",
    "engine = sqlalchemy.create_engine(\"sqlite:///data/basic_examples.db\")\n",
    "connection = engine.connect()"
   ]
  },
  {
   "cell_type": "markdown",
   "id": "170c65bd-6971-45fe-a719-46d4f7b67ddd",
   "metadata": {},
   "source": [
    "**2. Run a simple SQL query**"
   ]
  },
  {
   "cell_type": "code",
   "execution_count": 6,
   "id": "f3c78d9d-a192-476d-a1c8-3a6262f940db",
   "metadata": {},
   "outputs": [
    {
     "data": {
      "text/html": [
       "<div>\n",
       "<style scoped>\n",
       "    .dataframe tbody tr th:only-of-type {\n",
       "        vertical-align: middle;\n",
       "    }\n",
       "\n",
       "    .dataframe tbody tr th {\n",
       "        vertical-align: top;\n",
       "    }\n",
       "\n",
       "    .dataframe thead th {\n",
       "        text-align: right;\n",
       "    }\n",
       "</style>\n",
       "<table border=\"1\" class=\"dataframe\">\n",
       "  <thead>\n",
       "    <tr style=\"text-align: right;\">\n",
       "      <th></th>\n",
       "      <th>name</th>\n",
       "      <th>year</th>\n",
       "      <th>cute</th>\n",
       "    </tr>\n",
       "  </thead>\n",
       "  <tbody>\n",
       "    <tr>\n",
       "      <th>0</th>\n",
       "      <td>hiccup</td>\n",
       "      <td>2010</td>\n",
       "      <td>10.0</td>\n",
       "    </tr>\n",
       "    <tr>\n",
       "      <th>1</th>\n",
       "      <td>drogon</td>\n",
       "      <td>2011</td>\n",
       "      <td>-100.0</td>\n",
       "    </tr>\n",
       "    <tr>\n",
       "      <th>2</th>\n",
       "      <td>dragon 2</td>\n",
       "      <td>2019</td>\n",
       "      <td>0.0</td>\n",
       "    </tr>\n",
       "    <tr>\n",
       "      <th>3</th>\n",
       "      <td>puff</td>\n",
       "      <td>2010</td>\n",
       "      <td>100.0</td>\n",
       "    </tr>\n",
       "    <tr>\n",
       "      <th>4</th>\n",
       "      <td>smaug</td>\n",
       "      <td>2011</td>\n",
       "      <td>NaN</td>\n",
       "    </tr>\n",
       "  </tbody>\n",
       "</table>\n",
       "</div>"
      ],
      "text/plain": [
       "       name  year   cute\n",
       "0    hiccup  2010   10.0\n",
       "1    drogon  2011 -100.0\n",
       "2  dragon 2  2019    0.0\n",
       "3      puff  2010  100.0\n",
       "4     smaug  2011    NaN"
      ]
     },
     "execution_count": 6,
     "metadata": {},
     "output_type": "execute_result"
    }
   ],
   "source": [
    "query = \"\"\"\n",
    "SELECT * \n",
    "FROM Dragon;\n",
    "\"\"\"\n",
    "\n",
    "pd.read_sql(query, engine)"
   ]
  },
  {
   "cell_type": "markdown",
   "id": "fc681cfe-8de9-4af0-87dd-46942ea9f1c8",
   "metadata": {},
   "source": [
    "## Tables and Schema\n",
    "\n",
    "A **database** contains a collection of SQL **tables**. Let's connect to our \"toy\" database `basic_examples.db` and explore the tables it stores."
   ]
  },
  {
   "cell_type": "code",
   "execution_count": 7,
   "id": "2e6b0837",
   "metadata": {},
   "outputs": [],
   "source": [
    "%%sql\n",
    "sqlite:///data/basic_examples.db"
   ]
  },
  {
   "cell_type": "code",
   "execution_count": 8,
   "id": "f32da741",
   "metadata": {
    "tags": []
   },
   "outputs": [
    {
     "data": {
      "text/html": [
       "<span style=\"None\">Running query in &#x27;sqlite:///data/basic_examples.db&#x27;</span>"
      ],
      "text/plain": [
       "Running query in 'sqlite:///data/basic_examples.db'"
      ]
     },
     "metadata": {},
     "output_type": "display_data"
    },
    {
     "data": {
      "text/html": [
       "<table>\n",
       "    <thead>\n",
       "        <tr>\n",
       "            <th>type</th>\n",
       "            <th>name</th>\n",
       "            <th>tbl_name</th>\n",
       "            <th>rootpage</th>\n",
       "            <th>sql</th>\n",
       "        </tr>\n",
       "    </thead>\n",
       "    <tbody>\n",
       "        <tr>\n",
       "            <td>table</td>\n",
       "            <td>sqlite_sequence</td>\n",
       "            <td>sqlite_sequence</td>\n",
       "            <td>7</td>\n",
       "            <td>CREATE TABLE sqlite_sequence(name,seq)</td>\n",
       "        </tr>\n",
       "        <tr>\n",
       "            <td>table</td>\n",
       "            <td>Dragon</td>\n",
       "            <td>Dragon</td>\n",
       "            <td>2</td>\n",
       "            <td>CREATE TABLE Dragon (<br>    name TEXT PRIMARY KEY,<br>    year INTEGER CHECK (year >= 2000),<br>    cute INTEGER<br>)</td>\n",
       "        </tr>\n",
       "        <tr>\n",
       "            <td>table</td>\n",
       "            <td>Dish</td>\n",
       "            <td>Dish</td>\n",
       "            <td>4</td>\n",
       "            <td>CREATE TABLE Dish (<br>    name TEXT PRIMARY KEY,<br>    type TEXT,<br>    cost INTEGER CHECK (cost >= 0)<br>)</td>\n",
       "        </tr>\n",
       "        <tr>\n",
       "            <td>table</td>\n",
       "            <td>Scene</td>\n",
       "            <td>Scene</td>\n",
       "            <td>6</td>\n",
       "            <td>CREATE TABLE Scene (<br>    id INTEGER PRIMARY KEY AUTOINCREMENT,<br>    biome TEXT NOT NULL,<br>    city TEXT NOT NULL,<br>    visitors INTEGER CHECK (visitors >= 0),<br>    created_at DATETIME DEFAULT (DATETIME('now'))<br>)</td>\n",
       "        </tr>\n",
       "    </tbody>\n",
       "</table>\n",
       "<span style='font-style:italic;font-size:11px'><code>ResultSet</code> : to convert to pandas, call <a href='https://jupysql.ploomber.io/en/latest/integrations/pandas.html'><code>.DataFrame()</code></a> or to polars, call <a href='https://jupysql.ploomber.io/en/latest/integrations/polars.html'><code>.PolarsDataFrame()</code></a></span><br>"
      ],
      "text/plain": [
       "+-------+-----------------+-----------------+----------+---------------------------------------------------+\n",
       "|  type |       name      |     tbl_name    | rootpage |                        sql                        |\n",
       "+-------+-----------------+-----------------+----------+---------------------------------------------------+\n",
       "| table | sqlite_sequence | sqlite_sequence |    7     |       CREATE TABLE sqlite_sequence(name,seq)      |\n",
       "| table |      Dragon     |      Dragon     |    2     |               CREATE TABLE Dragon (               |\n",
       "|       |                 |                 |          |                 name TEXT PRIMARY KEY,            |\n",
       "|       |                 |                 |          |           year INTEGER CHECK (year >= 2000),      |\n",
       "|       |                 |                 |          |                      cute INTEGER                 |\n",
       "|       |                 |                 |          |                         )                         |\n",
       "| table |       Dish      |       Dish      |    4     |                CREATE TABLE Dish (                |\n",
       "|       |                 |                 |          |                 name TEXT PRIMARY KEY,            |\n",
       "|       |                 |                 |          |                       type TEXT,                  |\n",
       "|       |                 |                 |          |             cost INTEGER CHECK (cost >= 0)        |\n",
       "|       |                 |                 |          |                         )                         |\n",
       "| table |      Scene      |      Scene      |    6     |                CREATE TABLE Scene (               |\n",
       "|       |                 |                 |          |         id INTEGER PRIMARY KEY AUTOINCREMENT,     |\n",
       "|       |                 |                 |          |                  biome TEXT NOT NULL,             |\n",
       "|       |                 |                 |          |                  city TEXT NOT NULL,              |\n",
       "|       |                 |                 |          |        visitors INTEGER CHECK (visitors >= 0),    |\n",
       "|       |                 |                 |          |     created_at DATETIME DEFAULT (DATETIME('now')) |\n",
       "|       |                 |                 |          |                         )                         |\n",
       "+-------+-----------------+-----------------+----------+---------------------------------------------------+"
      ]
     },
     "execution_count": 8,
     "metadata": {},
     "output_type": "execute_result"
    }
   ],
   "source": [
    "%%sql\n",
    "SELECT * FROM sqlite_master WHERE type='table'"
   ]
  },
  {
   "cell_type": "markdown",
   "id": "74946c12-47af-42a2-9de5-b20b41eb0160",
   "metadata": {},
   "source": [
    "## Basic Queries\n",
    "\n",
    "Every SQL query *must* contain a `SELECT` and `FROM` clause.\n",
    "\n",
    "* `SELECT`: specify the column(s) to return in the output\n",
    "* `FROM`: specify the database table from which to extract data"
   ]
  },
  {
   "cell_type": "code",
   "execution_count": 9,
   "id": "8b10641e",
   "metadata": {},
   "outputs": [
    {
     "data": {
      "text/html": [
       "<span style=\"None\">Running query in &#x27;sqlite:///data/basic_examples.db&#x27;</span>"
      ],
      "text/plain": [
       "Running query in 'sqlite:///data/basic_examples.db'"
      ]
     },
     "metadata": {},
     "output_type": "display_data"
    },
    {
     "data": {
      "text/html": [
       "<table>\n",
       "    <thead>\n",
       "        <tr>\n",
       "            <th>name</th>\n",
       "            <th>year</th>\n",
       "            <th>cute</th>\n",
       "        </tr>\n",
       "    </thead>\n",
       "    <tbody>\n",
       "        <tr>\n",
       "            <td>hiccup</td>\n",
       "            <td>2010</td>\n",
       "            <td>10</td>\n",
       "        </tr>\n",
       "        <tr>\n",
       "            <td>drogon</td>\n",
       "            <td>2011</td>\n",
       "            <td>-100</td>\n",
       "        </tr>\n",
       "        <tr>\n",
       "            <td>dragon 2</td>\n",
       "            <td>2019</td>\n",
       "            <td>0</td>\n",
       "        </tr>\n",
       "        <tr>\n",
       "            <td>puff</td>\n",
       "            <td>2010</td>\n",
       "            <td>100</td>\n",
       "        </tr>\n",
       "        <tr>\n",
       "            <td>smaug</td>\n",
       "            <td>2011</td>\n",
       "            <td>None</td>\n",
       "        </tr>\n",
       "    </tbody>\n",
       "</table>\n",
       "<span style='font-style:italic;font-size:11px'><code>ResultSet</code> : to convert to pandas, call <a href='https://jupysql.ploomber.io/en/latest/integrations/pandas.html'><code>.DataFrame()</code></a> or to polars, call <a href='https://jupysql.ploomber.io/en/latest/integrations/polars.html'><code>.PolarsDataFrame()</code></a></span><br>"
      ],
      "text/plain": [
       "+----------+------+------+\n",
       "|   name   | year | cute |\n",
       "+----------+------+------+\n",
       "|  hiccup  | 2010 |  10  |\n",
       "|  drogon  | 2011 | -100 |\n",
       "| dragon 2 | 2019 |  0   |\n",
       "|   puff   | 2010 | 100  |\n",
       "|  smaug   | 2011 | None |\n",
       "+----------+------+------+"
      ]
     },
     "execution_count": 9,
     "metadata": {},
     "output_type": "execute_result"
    }
   ],
   "source": [
    "%%sql\n",
    "SELECT * FROM Dragon;"
   ]
  },
  {
   "cell_type": "code",
   "execution_count": 10,
   "id": "0db25a51",
   "metadata": {},
   "outputs": [
    {
     "data": {
      "text/html": [
       "<span style=\"None\">Running query in &#x27;sqlite:///data/basic_examples.db&#x27;</span>"
      ],
      "text/plain": [
       "Running query in 'sqlite:///data/basic_examples.db'"
      ]
     },
     "metadata": {},
     "output_type": "display_data"
    },
    {
     "data": {
      "text/html": [
       "<table>\n",
       "    <thead>\n",
       "        <tr>\n",
       "            <th>cute</th>\n",
       "            <th>year</th>\n",
       "        </tr>\n",
       "    </thead>\n",
       "    <tbody>\n",
       "        <tr>\n",
       "            <td>10</td>\n",
       "            <td>2010</td>\n",
       "        </tr>\n",
       "        <tr>\n",
       "            <td>-100</td>\n",
       "            <td>2011</td>\n",
       "        </tr>\n",
       "        <tr>\n",
       "            <td>0</td>\n",
       "            <td>2019</td>\n",
       "        </tr>\n",
       "        <tr>\n",
       "            <td>100</td>\n",
       "            <td>2010</td>\n",
       "        </tr>\n",
       "        <tr>\n",
       "            <td>None</td>\n",
       "            <td>2011</td>\n",
       "        </tr>\n",
       "    </tbody>\n",
       "</table>\n",
       "<span style='font-style:italic;font-size:11px'><code>ResultSet</code> : to convert to pandas, call <a href='https://jupysql.ploomber.io/en/latest/integrations/pandas.html'><code>.DataFrame()</code></a> or to polars, call <a href='https://jupysql.ploomber.io/en/latest/integrations/polars.html'><code>.PolarsDataFrame()</code></a></span><br>"
      ],
      "text/plain": [
       "+------+------+\n",
       "| cute | year |\n",
       "+------+------+\n",
       "|  10  | 2010 |\n",
       "| -100 | 2011 |\n",
       "|  0   | 2019 |\n",
       "| 100  | 2010 |\n",
       "| None | 2011 |\n",
       "+------+------+"
      ]
     },
     "execution_count": 10,
     "metadata": {},
     "output_type": "execute_result"
    }
   ],
   "source": [
    "%%sql\n",
    "SELECT cute, year FROM Dragon;"
   ]
  },
  {
   "cell_type": "markdown",
   "id": "9995de9b-c827-48b6-84bc-3b169cc5f549",
   "metadata": {},
   "source": [
    "**Aliasing** with `AS`"
   ]
  },
  {
   "cell_type": "code",
   "execution_count": 11,
   "id": "75596c85-eb17-4d19-b065-984524dec1d8",
   "metadata": {},
   "outputs": [
    {
     "data": {
      "text/html": [
       "<span style=\"None\">Running query in &#x27;sqlite:///data/basic_examples.db&#x27;</span>"
      ],
      "text/plain": [
       "Running query in 'sqlite:///data/basic_examples.db'"
      ]
     },
     "metadata": {},
     "output_type": "display_data"
    },
    {
     "data": {
      "text/html": [
       "<table>\n",
       "    <thead>\n",
       "        <tr>\n",
       "            <th>cuteness</th>\n",
       "            <th>birth</th>\n",
       "        </tr>\n",
       "    </thead>\n",
       "    <tbody>\n",
       "        <tr>\n",
       "            <td>10</td>\n",
       "            <td>2010</td>\n",
       "        </tr>\n",
       "        <tr>\n",
       "            <td>-100</td>\n",
       "            <td>2011</td>\n",
       "        </tr>\n",
       "        <tr>\n",
       "            <td>0</td>\n",
       "            <td>2019</td>\n",
       "        </tr>\n",
       "        <tr>\n",
       "            <td>100</td>\n",
       "            <td>2010</td>\n",
       "        </tr>\n",
       "        <tr>\n",
       "            <td>None</td>\n",
       "            <td>2011</td>\n",
       "        </tr>\n",
       "    </tbody>\n",
       "</table>\n",
       "<span style='font-style:italic;font-size:11px'><code>ResultSet</code> : to convert to pandas, call <a href='https://jupysql.ploomber.io/en/latest/integrations/pandas.html'><code>.DataFrame()</code></a> or to polars, call <a href='https://jupysql.ploomber.io/en/latest/integrations/polars.html'><code>.PolarsDataFrame()</code></a></span><br>"
      ],
      "text/plain": [
       "+----------+-------+\n",
       "| cuteness | birth |\n",
       "+----------+-------+\n",
       "|    10    |  2010 |\n",
       "|   -100   |  2011 |\n",
       "|    0     |  2019 |\n",
       "|   100    |  2010 |\n",
       "|   None   |  2011 |\n",
       "+----------+-------+"
      ]
     },
     "execution_count": 11,
     "metadata": {},
     "output_type": "execute_result"
    }
   ],
   "source": [
    "%%sql\n",
    "SELECT cute AS cuteness,\n",
    "       year AS birth\n",
    "FROM Dragon;"
   ]
  },
  {
   "cell_type": "markdown",
   "id": "8aba7a6c-2e1b-496e-944b-a752023dbb8a",
   "metadata": {},
   "source": [
    "**Uniqueness** with `DISTINCT`"
   ]
  },
  {
   "cell_type": "code",
   "execution_count": 12,
   "id": "734189f7-de89-42ca-84e3-306cb564f34e",
   "metadata": {},
   "outputs": [
    {
     "data": {
      "text/html": [
       "<span style=\"None\">Running query in &#x27;sqlite:///data/basic_examples.db&#x27;</span>"
      ],
      "text/plain": [
       "Running query in 'sqlite:///data/basic_examples.db'"
      ]
     },
     "metadata": {},
     "output_type": "display_data"
    },
    {
     "data": {
      "text/html": [
       "<table>\n",
       "    <thead>\n",
       "        <tr>\n",
       "            <th>year</th>\n",
       "        </tr>\n",
       "    </thead>\n",
       "    <tbody>\n",
       "        <tr>\n",
       "            <td>2010</td>\n",
       "        </tr>\n",
       "        <tr>\n",
       "            <td>2011</td>\n",
       "        </tr>\n",
       "        <tr>\n",
       "            <td>2019</td>\n",
       "        </tr>\n",
       "    </tbody>\n",
       "</table>\n",
       "<span style='font-style:italic;font-size:11px'><code>ResultSet</code> : to convert to pandas, call <a href='https://jupysql.ploomber.io/en/latest/integrations/pandas.html'><code>.DataFrame()</code></a> or to polars, call <a href='https://jupysql.ploomber.io/en/latest/integrations/polars.html'><code>.PolarsDataFrame()</code></a></span><br>"
      ],
      "text/plain": [
       "+------+\n",
       "| year |\n",
       "+------+\n",
       "| 2010 |\n",
       "| 2011 |\n",
       "| 2019 |\n",
       "+------+"
      ]
     },
     "execution_count": 12,
     "metadata": {},
     "output_type": "execute_result"
    }
   ],
   "source": [
    "%%sql\n",
    "SELECT DISTINCT year\n",
    "FROM Dragon;"
   ]
  },
  {
   "cell_type": "markdown",
   "id": "fca8c73c-ca03-4f65-9dfe-72e2368bd795",
   "metadata": {},
   "source": [
    "**Filtering** with `WHERE`"
   ]
  },
  {
   "cell_type": "code",
   "execution_count": 13,
   "id": "2a28705b-7d0d-4252-b544-346194d2eea0",
   "metadata": {},
   "outputs": [
    {
     "data": {
      "text/html": [
       "<span style=\"None\">Running query in &#x27;sqlite:///data/basic_examples.db&#x27;</span>"
      ],
      "text/plain": [
       "Running query in 'sqlite:///data/basic_examples.db'"
      ]
     },
     "metadata": {},
     "output_type": "display_data"
    },
    {
     "data": {
      "text/html": [
       "<table>\n",
       "    <thead>\n",
       "        <tr>\n",
       "            <th>name</th>\n",
       "            <th>year</th>\n",
       "        </tr>\n",
       "    </thead>\n",
       "    <tbody>\n",
       "        <tr>\n",
       "            <td>hiccup</td>\n",
       "            <td>2010</td>\n",
       "        </tr>\n",
       "        <tr>\n",
       "            <td>puff</td>\n",
       "            <td>2010</td>\n",
       "        </tr>\n",
       "    </tbody>\n",
       "</table>\n",
       "<span style='font-style:italic;font-size:11px'><code>ResultSet</code> : to convert to pandas, call <a href='https://jupysql.ploomber.io/en/latest/integrations/pandas.html'><code>.DataFrame()</code></a> or to polars, call <a href='https://jupysql.ploomber.io/en/latest/integrations/polars.html'><code>.PolarsDataFrame()</code></a></span><br>"
      ],
      "text/plain": [
       "+--------+------+\n",
       "|  name  | year |\n",
       "+--------+------+\n",
       "| hiccup | 2010 |\n",
       "|  puff  | 2010 |\n",
       "+--------+------+"
      ]
     },
     "execution_count": 13,
     "metadata": {},
     "output_type": "execute_result"
    }
   ],
   "source": [
    "%%sql\n",
    "SELECT name, year\n",
    "FROM Dragon\n",
    "WHERE cute > 0;"
   ]
  },
  {
   "cell_type": "code",
   "execution_count": 14,
   "id": "b8a3e2ce-9be3-41fa-8fcb-02b63095d269",
   "metadata": {},
   "outputs": [
    {
     "data": {
      "text/html": [
       "<span style=\"None\">Running query in &#x27;sqlite:///data/basic_examples.db&#x27;</span>"
      ],
      "text/plain": [
       "Running query in 'sqlite:///data/basic_examples.db'"
      ]
     },
     "metadata": {},
     "output_type": "display_data"
    },
    {
     "data": {
      "text/html": [
       "<table>\n",
       "    <thead>\n",
       "        <tr>\n",
       "            <th>name</th>\n",
       "            <th>cute</th>\n",
       "            <th>year</th>\n",
       "        </tr>\n",
       "    </thead>\n",
       "    <tbody>\n",
       "        <tr>\n",
       "            <td>hiccup</td>\n",
       "            <td>10</td>\n",
       "            <td>2010</td>\n",
       "        </tr>\n",
       "        <tr>\n",
       "            <td>dragon 2</td>\n",
       "            <td>0</td>\n",
       "            <td>2019</td>\n",
       "        </tr>\n",
       "        <tr>\n",
       "            <td>puff</td>\n",
       "            <td>100</td>\n",
       "            <td>2010</td>\n",
       "        </tr>\n",
       "    </tbody>\n",
       "</table>\n",
       "<span style='font-style:italic;font-size:11px'><code>ResultSet</code> : to convert to pandas, call <a href='https://jupysql.ploomber.io/en/latest/integrations/pandas.html'><code>.DataFrame()</code></a> or to polars, call <a href='https://jupysql.ploomber.io/en/latest/integrations/polars.html'><code>.PolarsDataFrame()</code></a></span><br>"
      ],
      "text/plain": [
       "+----------+------+------+\n",
       "|   name   | cute | year |\n",
       "+----------+------+------+\n",
       "|  hiccup  |  10  | 2010 |\n",
       "| dragon 2 |  0   | 2019 |\n",
       "|   puff   | 100  | 2010 |\n",
       "+----------+------+------+"
      ]
     },
     "execution_count": 14,
     "metadata": {},
     "output_type": "execute_result"
    }
   ],
   "source": [
    "%%sql\n",
    "SELECT name, cute, year\n",
    "FROM Dragon\n",
    "WHERE cute > 0 OR year > 2013;"
   ]
  },
  {
   "cell_type": "code",
   "execution_count": 15,
   "id": "9cbbfe9a-7098-48c4-b015-c81b6ff5acb8",
   "metadata": {},
   "outputs": [
    {
     "data": {
      "text/html": [
       "<span style=\"None\">Running query in &#x27;sqlite:///data/basic_examples.db&#x27;</span>"
      ],
      "text/plain": [
       "Running query in 'sqlite:///data/basic_examples.db'"
      ]
     },
     "metadata": {},
     "output_type": "display_data"
    },
    {
     "data": {
      "text/html": [
       "<table>\n",
       "    <thead>\n",
       "        <tr>\n",
       "            <th>name</th>\n",
       "            <th>year</th>\n",
       "        </tr>\n",
       "    </thead>\n",
       "    <tbody>\n",
       "        <tr>\n",
       "            <td>hiccup</td>\n",
       "            <td>2010</td>\n",
       "        </tr>\n",
       "        <tr>\n",
       "            <td>puff</td>\n",
       "            <td>2010</td>\n",
       "        </tr>\n",
       "    </tbody>\n",
       "</table>\n",
       "<span style='font-style:italic;font-size:11px'><code>ResultSet</code> : to convert to pandas, call <a href='https://jupysql.ploomber.io/en/latest/integrations/pandas.html'><code>.DataFrame()</code></a> or to polars, call <a href='https://jupysql.ploomber.io/en/latest/integrations/polars.html'><code>.PolarsDataFrame()</code></a></span><br>"
      ],
      "text/plain": [
       "+--------+------+\n",
       "|  name  | year |\n",
       "+--------+------+\n",
       "| hiccup | 2010 |\n",
       "|  puff  | 2010 |\n",
       "+--------+------+"
      ]
     },
     "execution_count": 15,
     "metadata": {},
     "output_type": "execute_result"
    }
   ],
   "source": [
    "%%sql\n",
    "SELECT name, year\n",
    "FROM Dragon \n",
    "WHERE name IN (\"puff\", \"hiccup\");"
   ]
  },
  {
   "cell_type": "code",
   "execution_count": 16,
   "id": "03dac425-d2e2-4699-99b9-5ca9bbbc1ab0",
   "metadata": {},
   "outputs": [
    {
     "data": {
      "text/html": [
       "<span style=\"None\">Running query in &#x27;sqlite:///data/basic_examples.db&#x27;</span>"
      ],
      "text/plain": [
       "Running query in 'sqlite:///data/basic_examples.db'"
      ]
     },
     "metadata": {},
     "output_type": "display_data"
    },
    {
     "data": {
      "text/html": [
       "<table>\n",
       "    <thead>\n",
       "        <tr>\n",
       "            <th>name</th>\n",
       "            <th>cute</th>\n",
       "        </tr>\n",
       "    </thead>\n",
       "    <tbody>\n",
       "        <tr>\n",
       "            <td>hiccup</td>\n",
       "            <td>10</td>\n",
       "        </tr>\n",
       "        <tr>\n",
       "            <td>drogon</td>\n",
       "            <td>-100</td>\n",
       "        </tr>\n",
       "        <tr>\n",
       "            <td>dragon 2</td>\n",
       "            <td>0</td>\n",
       "        </tr>\n",
       "        <tr>\n",
       "            <td>puff</td>\n",
       "            <td>100</td>\n",
       "        </tr>\n",
       "    </tbody>\n",
       "</table>\n",
       "<span style='font-style:italic;font-size:11px'><code>ResultSet</code> : to convert to pandas, call <a href='https://jupysql.ploomber.io/en/latest/integrations/pandas.html'><code>.DataFrame()</code></a> or to polars, call <a href='https://jupysql.ploomber.io/en/latest/integrations/polars.html'><code>.PolarsDataFrame()</code></a></span><br>"
      ],
      "text/plain": [
       "+----------+------+\n",
       "|   name   | cute |\n",
       "+----------+------+\n",
       "|  hiccup  |  10  |\n",
       "|  drogon  | -100 |\n",
       "| dragon 2 |  0   |\n",
       "|   puff   | 100  |\n",
       "+----------+------+"
      ]
     },
     "execution_count": 16,
     "metadata": {},
     "output_type": "execute_result"
    }
   ],
   "source": [
    "%%sql\n",
    "SELECT name, cute\n",
    "FROM Dragon\n",
    "WHERE cute IS NOT NULL;"
   ]
  },
  {
   "cell_type": "markdown",
   "id": "fc92df7a-14b4-4379-9c68-b1326c2a6b7d",
   "metadata": {},
   "source": [
    "**Ordering** data using `ORDER BY`"
   ]
  },
  {
   "cell_type": "code",
   "execution_count": 17,
   "id": "e92fcdcb-7b45-486c-a1f7-8d6c7e25413c",
   "metadata": {},
   "outputs": [
    {
     "data": {
      "text/html": [
       "<span style=\"None\">Running query in &#x27;sqlite:///data/basic_examples.db&#x27;</span>"
      ],
      "text/plain": [
       "Running query in 'sqlite:///data/basic_examples.db'"
      ]
     },
     "metadata": {},
     "output_type": "display_data"
    },
    {
     "data": {
      "text/html": [
       "<table>\n",
       "    <thead>\n",
       "        <tr>\n",
       "            <th>name</th>\n",
       "            <th>year</th>\n",
       "            <th>cute</th>\n",
       "        </tr>\n",
       "    </thead>\n",
       "    <tbody>\n",
       "        <tr>\n",
       "            <td>puff</td>\n",
       "            <td>2010</td>\n",
       "            <td>100</td>\n",
       "        </tr>\n",
       "        <tr>\n",
       "            <td>hiccup</td>\n",
       "            <td>2010</td>\n",
       "            <td>10</td>\n",
       "        </tr>\n",
       "        <tr>\n",
       "            <td>dragon 2</td>\n",
       "            <td>2019</td>\n",
       "            <td>0</td>\n",
       "        </tr>\n",
       "        <tr>\n",
       "            <td>drogon</td>\n",
       "            <td>2011</td>\n",
       "            <td>-100</td>\n",
       "        </tr>\n",
       "        <tr>\n",
       "            <td>smaug</td>\n",
       "            <td>2011</td>\n",
       "            <td>None</td>\n",
       "        </tr>\n",
       "    </tbody>\n",
       "</table>\n",
       "<span style='font-style:italic;font-size:11px'><code>ResultSet</code> : to convert to pandas, call <a href='https://jupysql.ploomber.io/en/latest/integrations/pandas.html'><code>.DataFrame()</code></a> or to polars, call <a href='https://jupysql.ploomber.io/en/latest/integrations/polars.html'><code>.PolarsDataFrame()</code></a></span><br>"
      ],
      "text/plain": [
       "+----------+------+------+\n",
       "|   name   | year | cute |\n",
       "+----------+------+------+\n",
       "|   puff   | 2010 | 100  |\n",
       "|  hiccup  | 2010 |  10  |\n",
       "| dragon 2 | 2019 |  0   |\n",
       "|  drogon  | 2011 | -100 |\n",
       "|  smaug   | 2011 | None |\n",
       "+----------+------+------+"
      ]
     },
     "execution_count": 17,
     "metadata": {},
     "output_type": "execute_result"
    }
   ],
   "source": [
    "%%sql\n",
    "SELECT *\n",
    "FROM Dragon\n",
    "ORDER BY cute DESC;"
   ]
  },
  {
   "cell_type": "markdown",
   "id": "7972bc77-a058-477e-a945-828888c48147",
   "metadata": {},
   "source": [
    "**Restricting** output with `LIMIT` and `OFFSET`"
   ]
  },
  {
   "cell_type": "code",
   "execution_count": 18,
   "id": "afc34d86-ab22-4b0b-aad2-959247fe2494",
   "metadata": {},
   "outputs": [
    {
     "data": {
      "text/html": [
       "<span style=\"None\">Running query in &#x27;sqlite:///data/basic_examples.db&#x27;</span>"
      ],
      "text/plain": [
       "Running query in 'sqlite:///data/basic_examples.db'"
      ]
     },
     "metadata": {},
     "output_type": "display_data"
    },
    {
     "data": {
      "text/html": [
       "<table>\n",
       "    <thead>\n",
       "        <tr>\n",
       "            <th>name</th>\n",
       "            <th>year</th>\n",
       "            <th>cute</th>\n",
       "        </tr>\n",
       "    </thead>\n",
       "    <tbody>\n",
       "        <tr>\n",
       "            <td>hiccup</td>\n",
       "            <td>2010</td>\n",
       "            <td>10</td>\n",
       "        </tr>\n",
       "        <tr>\n",
       "            <td>drogon</td>\n",
       "            <td>2011</td>\n",
       "            <td>-100</td>\n",
       "        </tr>\n",
       "    </tbody>\n",
       "</table>\n",
       "<span style='font-style:italic;font-size:11px'><code>ResultSet</code> : to convert to pandas, call <a href='https://jupysql.ploomber.io/en/latest/integrations/pandas.html'><code>.DataFrame()</code></a> or to polars, call <a href='https://jupysql.ploomber.io/en/latest/integrations/polars.html'><code>.PolarsDataFrame()</code></a></span><br>"
      ],
      "text/plain": [
       "+--------+------+------+\n",
       "|  name  | year | cute |\n",
       "+--------+------+------+\n",
       "| hiccup | 2010 |  10  |\n",
       "| drogon | 2011 | -100 |\n",
       "+--------+------+------+"
      ]
     },
     "execution_count": 18,
     "metadata": {},
     "output_type": "execute_result"
    }
   ],
   "source": [
    "%%sql\n",
    "SELECT *\n",
    "FROM Dragon\n",
    "LIMIT 2;"
   ]
  },
  {
   "cell_type": "code",
   "execution_count": 19,
   "id": "80802839-9169-4768-b2b1-49368ded674b",
   "metadata": {},
   "outputs": [
    {
     "data": {
      "text/html": [
       "<span style=\"None\">Running query in &#x27;sqlite:///data/basic_examples.db&#x27;</span>"
      ],
      "text/plain": [
       "Running query in 'sqlite:///data/basic_examples.db'"
      ]
     },
     "metadata": {},
     "output_type": "display_data"
    },
    {
     "data": {
      "text/html": [
       "<table>\n",
       "    <thead>\n",
       "        <tr>\n",
       "            <th>name</th>\n",
       "            <th>year</th>\n",
       "            <th>cute</th>\n",
       "        </tr>\n",
       "    </thead>\n",
       "    <tbody>\n",
       "        <tr>\n",
       "            <td>drogon</td>\n",
       "            <td>2011</td>\n",
       "            <td>-100</td>\n",
       "        </tr>\n",
       "        <tr>\n",
       "            <td>dragon 2</td>\n",
       "            <td>2019</td>\n",
       "            <td>0</td>\n",
       "        </tr>\n",
       "    </tbody>\n",
       "</table>\n",
       "<span style='font-style:italic;font-size:11px'><code>ResultSet</code> : to convert to pandas, call <a href='https://jupysql.ploomber.io/en/latest/integrations/pandas.html'><code>.DataFrame()</code></a> or to polars, call <a href='https://jupysql.ploomber.io/en/latest/integrations/polars.html'><code>.PolarsDataFrame()</code></a></span><br>"
      ],
      "text/plain": [
       "+----------+------+------+\n",
       "|   name   | year | cute |\n",
       "+----------+------+------+\n",
       "|  drogon  | 2011 | -100 |\n",
       "| dragon 2 | 2019 |  0   |\n",
       "+----------+------+------+"
      ]
     },
     "execution_count": 19,
     "metadata": {},
     "output_type": "execute_result"
    }
   ],
   "source": [
    "%%sql\n",
    "SELECT *\n",
    "FROM Dragon\n",
    "LIMIT 2\n",
    "OFFSET 1;"
   ]
  },
  {
   "cell_type": "markdown",
   "id": "62f0b944-eead-44e7-8c3c-35a2326cbe01",
   "metadata": {},
   "source": [
    "## Grouping Data with `GROUP BY`"
   ]
  },
  {
   "cell_type": "code",
   "execution_count": 20,
   "id": "660cd78d-7639-4875-aa3e-7a840d0d37a4",
   "metadata": {},
   "outputs": [
    {
     "data": {
      "text/html": [
       "<span style=\"None\">Running query in &#x27;sqlite:///data/basic_examples.db&#x27;</span>"
      ],
      "text/plain": [
       "Running query in 'sqlite:///data/basic_examples.db'"
      ]
     },
     "metadata": {},
     "output_type": "display_data"
    },
    {
     "data": {
      "text/html": [
       "<table>\n",
       "    <thead>\n",
       "        <tr>\n",
       "            <th>name</th>\n",
       "            <th>type</th>\n",
       "            <th>cost</th>\n",
       "        </tr>\n",
       "    </thead>\n",
       "    <tbody>\n",
       "        <tr>\n",
       "            <td>ravioli</td>\n",
       "            <td>entree</td>\n",
       "            <td>10</td>\n",
       "        </tr>\n",
       "        <tr>\n",
       "            <td>ramen</td>\n",
       "            <td>entree</td>\n",
       "            <td>13</td>\n",
       "        </tr>\n",
       "        <tr>\n",
       "            <td>taco</td>\n",
       "            <td>entree</td>\n",
       "            <td>7</td>\n",
       "        </tr>\n",
       "        <tr>\n",
       "            <td>edamame</td>\n",
       "            <td>appetizer</td>\n",
       "            <td>4</td>\n",
       "        </tr>\n",
       "        <tr>\n",
       "            <td>fries</td>\n",
       "            <td>appetizer</td>\n",
       "            <td>4</td>\n",
       "        </tr>\n",
       "        <tr>\n",
       "            <td>potsticker</td>\n",
       "            <td>appetizer</td>\n",
       "            <td>4</td>\n",
       "        </tr>\n",
       "        <tr>\n",
       "            <td>ice cream</td>\n",
       "            <td>dessert</td>\n",
       "            <td>5</td>\n",
       "        </tr>\n",
       "    </tbody>\n",
       "</table>\n",
       "<span style='font-style:italic;font-size:11px'><code>ResultSet</code> : to convert to pandas, call <a href='https://jupysql.ploomber.io/en/latest/integrations/pandas.html'><code>.DataFrame()</code></a> or to polars, call <a href='https://jupysql.ploomber.io/en/latest/integrations/polars.html'><code>.PolarsDataFrame()</code></a></span><br>"
      ],
      "text/plain": [
       "+------------+-----------+------+\n",
       "|    name    |    type   | cost |\n",
       "+------------+-----------+------+\n",
       "|  ravioli   |   entree  |  10  |\n",
       "|   ramen    |   entree  |  13  |\n",
       "|    taco    |   entree  |  7   |\n",
       "|  edamame   | appetizer |  4   |\n",
       "|   fries    | appetizer |  4   |\n",
       "| potsticker | appetizer |  4   |\n",
       "| ice cream  |  dessert  |  5   |\n",
       "+------------+-----------+------+"
      ]
     },
     "execution_count": 20,
     "metadata": {},
     "output_type": "execute_result"
    }
   ],
   "source": [
    "%%sql\n",
    "SELECT *\n",
    "FROM Dish;"
   ]
  },
  {
   "cell_type": "markdown",
   "id": "bb8b961a-57d6-4488-aa2a-e14e82e30f35",
   "metadata": {},
   "source": [
    "A small note: the fact that `type` is highlighted in green below is a consequence of Jupyter assuming that we are writing Python code (where `type` is a built-in keyword). `type` does *not* have a special meaning in SQL, so the color below does not indicate any special functionality. When we run the cell, Jupyter realizes it should recognize the code as SQL. "
   ]
  },
  {
   "cell_type": "code",
   "execution_count": 21,
   "id": "b8fdab3a-0f93-4e39-b344-3a5068ae228b",
   "metadata": {},
   "outputs": [
    {
     "data": {
      "text/html": [
       "<span style=\"None\">Running query in &#x27;sqlite:///data/basic_examples.db&#x27;</span>"
      ],
      "text/plain": [
       "Running query in 'sqlite:///data/basic_examples.db'"
      ]
     },
     "metadata": {},
     "output_type": "display_data"
    },
    {
     "data": {
      "text/html": [
       "<table>\n",
       "    <thead>\n",
       "        <tr>\n",
       "            <th>type</th>\n",
       "        </tr>\n",
       "    </thead>\n",
       "    <tbody>\n",
       "        <tr>\n",
       "            <td>entree</td>\n",
       "        </tr>\n",
       "        <tr>\n",
       "            <td>entree</td>\n",
       "        </tr>\n",
       "        <tr>\n",
       "            <td>entree</td>\n",
       "        </tr>\n",
       "        <tr>\n",
       "            <td>appetizer</td>\n",
       "        </tr>\n",
       "        <tr>\n",
       "            <td>appetizer</td>\n",
       "        </tr>\n",
       "        <tr>\n",
       "            <td>appetizer</td>\n",
       "        </tr>\n",
       "        <tr>\n",
       "            <td>dessert</td>\n",
       "        </tr>\n",
       "    </tbody>\n",
       "</table>\n",
       "<span style='font-style:italic;font-size:11px'><code>ResultSet</code> : to convert to pandas, call <a href='https://jupysql.ploomber.io/en/latest/integrations/pandas.html'><code>.DataFrame()</code></a> or to polars, call <a href='https://jupysql.ploomber.io/en/latest/integrations/polars.html'><code>.PolarsDataFrame()</code></a></span><br>"
      ],
      "text/plain": [
       "+-----------+\n",
       "|    type   |\n",
       "+-----------+\n",
       "|   entree  |\n",
       "|   entree  |\n",
       "|   entree  |\n",
       "| appetizer |\n",
       "| appetizer |\n",
       "| appetizer |\n",
       "|  dessert  |\n",
       "+-----------+"
      ]
     },
     "execution_count": 21,
     "metadata": {},
     "output_type": "execute_result"
    }
   ],
   "source": [
    "%%sql\n",
    "SELECT type\n",
    "FROM Dish;"
   ]
  },
  {
   "cell_type": "code",
   "execution_count": 22,
   "id": "6369bcf3-c7ae-46e3-8b63-c6adfd6e9611",
   "metadata": {},
   "outputs": [
    {
     "data": {
      "text/html": [
       "<span style=\"None\">Running query in &#x27;sqlite:///data/basic_examples.db&#x27;</span>"
      ],
      "text/plain": [
       "Running query in 'sqlite:///data/basic_examples.db'"
      ]
     },
     "metadata": {},
     "output_type": "display_data"
    },
    {
     "data": {
      "text/html": [
       "<table>\n",
       "    <thead>\n",
       "        <tr>\n",
       "            <th>type</th>\n",
       "        </tr>\n",
       "    </thead>\n",
       "    <tbody>\n",
       "        <tr>\n",
       "            <td>appetizer</td>\n",
       "        </tr>\n",
       "        <tr>\n",
       "            <td>dessert</td>\n",
       "        </tr>\n",
       "        <tr>\n",
       "            <td>entree</td>\n",
       "        </tr>\n",
       "    </tbody>\n",
       "</table>\n",
       "<span style='font-style:italic;font-size:11px'><code>ResultSet</code> : to convert to pandas, call <a href='https://jupysql.ploomber.io/en/latest/integrations/pandas.html'><code>.DataFrame()</code></a> or to polars, call <a href='https://jupysql.ploomber.io/en/latest/integrations/polars.html'><code>.PolarsDataFrame()</code></a></span><br>"
      ],
      "text/plain": [
       "+-----------+\n",
       "|    type   |\n",
       "+-----------+\n",
       "| appetizer |\n",
       "|  dessert  |\n",
       "|   entree  |\n",
       "+-----------+"
      ]
     },
     "execution_count": 22,
     "metadata": {},
     "output_type": "execute_result"
    }
   ],
   "source": [
    "%%sql\n",
    "SELECT type\n",
    "FROM Dish\n",
    "GROUP BY type;"
   ]
  },
  {
   "cell_type": "code",
   "execution_count": 23,
   "id": "50792e27-c504-43a3-9e65-a1f2aa891828",
   "metadata": {},
   "outputs": [
    {
     "data": {
      "text/html": [
       "<span style=\"None\">Running query in &#x27;sqlite:///data/basic_examples.db&#x27;</span>"
      ],
      "text/plain": [
       "Running query in 'sqlite:///data/basic_examples.db'"
      ]
     },
     "metadata": {},
     "output_type": "display_data"
    },
    {
     "data": {
      "text/html": [
       "<table>\n",
       "    <thead>\n",
       "        <tr>\n",
       "            <th>type</th>\n",
       "            <th>SUM(cost)</th>\n",
       "        </tr>\n",
       "    </thead>\n",
       "    <tbody>\n",
       "        <tr>\n",
       "            <td>appetizer</td>\n",
       "            <td>12</td>\n",
       "        </tr>\n",
       "        <tr>\n",
       "            <td>dessert</td>\n",
       "            <td>5</td>\n",
       "        </tr>\n",
       "        <tr>\n",
       "            <td>entree</td>\n",
       "            <td>30</td>\n",
       "        </tr>\n",
       "    </tbody>\n",
       "</table>\n",
       "<span style='font-style:italic;font-size:11px'><code>ResultSet</code> : to convert to pandas, call <a href='https://jupysql.ploomber.io/en/latest/integrations/pandas.html'><code>.DataFrame()</code></a> or to polars, call <a href='https://jupysql.ploomber.io/en/latest/integrations/polars.html'><code>.PolarsDataFrame()</code></a></span><br>"
      ],
      "text/plain": [
       "+-----------+-----------+\n",
       "|    type   | SUM(cost) |\n",
       "+-----------+-----------+\n",
       "| appetizer |     12    |\n",
       "|  dessert  |     5     |\n",
       "|   entree  |     30    |\n",
       "+-----------+-----------+"
      ]
     },
     "execution_count": 23,
     "metadata": {},
     "output_type": "execute_result"
    }
   ],
   "source": [
    "%%sql\n",
    "SELECT type, SUM(cost)\n",
    "FROM Dish\n",
    "GROUP BY type;"
   ]
  },
  {
   "cell_type": "code",
   "execution_count": 24,
   "id": "cd7495a5-0008-49ba-abb7-4e9da953f5a6",
   "metadata": {},
   "outputs": [
    {
     "data": {
      "text/html": [
       "<span style=\"None\">Running query in &#x27;sqlite:///data/basic_examples.db&#x27;</span>"
      ],
      "text/plain": [
       "Running query in 'sqlite:///data/basic_examples.db'"
      ]
     },
     "metadata": {},
     "output_type": "display_data"
    },
    {
     "data": {
      "text/html": [
       "<table>\n",
       "    <thead>\n",
       "        <tr>\n",
       "            <th>type</th>\n",
       "            <th>SUM(cost)</th>\n",
       "            <th>MIN(cost)</th>\n",
       "            <th>MAX(name)</th>\n",
       "        </tr>\n",
       "    </thead>\n",
       "    <tbody>\n",
       "        <tr>\n",
       "            <td>appetizer</td>\n",
       "            <td>12</td>\n",
       "            <td>4</td>\n",
       "            <td>potsticker</td>\n",
       "        </tr>\n",
       "        <tr>\n",
       "            <td>dessert</td>\n",
       "            <td>5</td>\n",
       "            <td>5</td>\n",
       "            <td>ice cream</td>\n",
       "        </tr>\n",
       "        <tr>\n",
       "            <td>entree</td>\n",
       "            <td>30</td>\n",
       "            <td>7</td>\n",
       "            <td>taco</td>\n",
       "        </tr>\n",
       "    </tbody>\n",
       "</table>\n",
       "<span style='font-style:italic;font-size:11px'><code>ResultSet</code> : to convert to pandas, call <a href='https://jupysql.ploomber.io/en/latest/integrations/pandas.html'><code>.DataFrame()</code></a> or to polars, call <a href='https://jupysql.ploomber.io/en/latest/integrations/polars.html'><code>.PolarsDataFrame()</code></a></span><br>"
      ],
      "text/plain": [
       "+-----------+-----------+-----------+------------+\n",
       "|    type   | SUM(cost) | MIN(cost) | MAX(name)  |\n",
       "+-----------+-----------+-----------+------------+\n",
       "| appetizer |     12    |     4     | potsticker |\n",
       "|  dessert  |     5     |     5     | ice cream  |\n",
       "|   entree  |     30    |     7     |    taco    |\n",
       "+-----------+-----------+-----------+------------+"
      ]
     },
     "execution_count": 24,
     "metadata": {},
     "output_type": "execute_result"
    }
   ],
   "source": [
    "%%sql\n",
    "SELECT type, \n",
    "       SUM(cost), \n",
    "       MIN(cost),\n",
    "       MAX(name)\n",
    "FROM Dish\n",
    "GROUP BY type;"
   ]
  },
  {
   "cell_type": "code",
   "execution_count": 25,
   "id": "342216ee-2ee0-477f-978c-f5e817ab9dd8",
   "metadata": {},
   "outputs": [
    {
     "data": {
      "text/html": [
       "<span style=\"None\">Running query in &#x27;sqlite:///data/basic_examples.db&#x27;</span>"
      ],
      "text/plain": [
       "Running query in 'sqlite:///data/basic_examples.db'"
      ]
     },
     "metadata": {},
     "output_type": "display_data"
    },
    {
     "data": {
      "text/html": [
       "<table>\n",
       "    <thead>\n",
       "        <tr>\n",
       "            <th>year</th>\n",
       "            <th>COUNT(cute)</th>\n",
       "        </tr>\n",
       "    </thead>\n",
       "    <tbody>\n",
       "        <tr>\n",
       "            <td>2010</td>\n",
       "            <td>2</td>\n",
       "        </tr>\n",
       "        <tr>\n",
       "            <td>2011</td>\n",
       "            <td>1</td>\n",
       "        </tr>\n",
       "        <tr>\n",
       "            <td>2019</td>\n",
       "            <td>1</td>\n",
       "        </tr>\n",
       "    </tbody>\n",
       "</table>\n",
       "<span style='font-style:italic;font-size:11px'><code>ResultSet</code> : to convert to pandas, call <a href='https://jupysql.ploomber.io/en/latest/integrations/pandas.html'><code>.DataFrame()</code></a> or to polars, call <a href='https://jupysql.ploomber.io/en/latest/integrations/polars.html'><code>.PolarsDataFrame()</code></a></span><br>"
      ],
      "text/plain": [
       "+------+-------------+\n",
       "| year | COUNT(cute) |\n",
       "+------+-------------+\n",
       "| 2010 |      2      |\n",
       "| 2011 |      1      |\n",
       "| 2019 |      1      |\n",
       "+------+-------------+"
      ]
     },
     "execution_count": 25,
     "metadata": {},
     "output_type": "execute_result"
    }
   ],
   "source": [
    "%%sql\n",
    "SELECT year, COUNT(cute)\n",
    "FROM Dragon\n",
    "GROUP BY year;"
   ]
  },
  {
   "cell_type": "code",
   "execution_count": 26,
   "id": "17fbbb43-1b95-4756-9446-ae8cfaa8e7ad",
   "metadata": {},
   "outputs": [
    {
     "data": {
      "text/html": [
       "<span style=\"None\">Running query in &#x27;sqlite:///data/basic_examples.db&#x27;</span>"
      ],
      "text/plain": [
       "Running query in 'sqlite:///data/basic_examples.db'"
      ]
     },
     "metadata": {},
     "output_type": "display_data"
    },
    {
     "data": {
      "text/html": [
       "<table>\n",
       "    <thead>\n",
       "        <tr>\n",
       "            <th>year</th>\n",
       "            <th>COUNT(*)</th>\n",
       "        </tr>\n",
       "    </thead>\n",
       "    <tbody>\n",
       "        <tr>\n",
       "            <td>2010</td>\n",
       "            <td>2</td>\n",
       "        </tr>\n",
       "        <tr>\n",
       "            <td>2011</td>\n",
       "            <td>2</td>\n",
       "        </tr>\n",
       "        <tr>\n",
       "            <td>2019</td>\n",
       "            <td>1</td>\n",
       "        </tr>\n",
       "    </tbody>\n",
       "</table>\n",
       "<span style='font-style:italic;font-size:11px'><code>ResultSet</code> : to convert to pandas, call <a href='https://jupysql.ploomber.io/en/latest/integrations/pandas.html'><code>.DataFrame()</code></a> or to polars, call <a href='https://jupysql.ploomber.io/en/latest/integrations/polars.html'><code>.PolarsDataFrame()</code></a></span><br>"
      ],
      "text/plain": [
       "+------+----------+\n",
       "| year | COUNT(*) |\n",
       "+------+----------+\n",
       "| 2010 |    2     |\n",
       "| 2011 |    2     |\n",
       "| 2019 |    1     |\n",
       "+------+----------+"
      ]
     },
     "execution_count": 26,
     "metadata": {},
     "output_type": "execute_result"
    }
   ],
   "source": [
    "%%sql\n",
    "SELECT year, COUNT(*)\n",
    "FROM Dragon\n",
    "GROUP BY year;"
   ]
  },
  {
   "cell_type": "markdown",
   "id": "ce5ba9fe-3bba-4be6-8101-54ce57a7d041",
   "metadata": {},
   "source": [
    "## Working with the `sql` results as Python variables\n",
    "\n",
    "By default, executing a query with a magic command produces output but doesn't save it into any Python variable:"
   ]
  },
  {
   "cell_type": "code",
   "execution_count": 27,
   "id": "5af3fbfc-484c-4981-90a6-d793040c17a1",
   "metadata": {},
   "outputs": [
    {
     "data": {
      "text/html": [
       "<span style=\"None\">Running query in &#x27;sqlite:///data/basic_examples.db&#x27;</span>"
      ],
      "text/plain": [
       "Running query in 'sqlite:///data/basic_examples.db'"
      ]
     },
     "metadata": {},
     "output_type": "display_data"
    },
    {
     "data": {
      "text/html": [
       "<table>\n",
       "    <thead>\n",
       "        <tr>\n",
       "            <th>name</th>\n",
       "            <th>year</th>\n",
       "            <th>cute</th>\n",
       "        </tr>\n",
       "    </thead>\n",
       "    <tbody>\n",
       "        <tr>\n",
       "            <td>hiccup</td>\n",
       "            <td>2010</td>\n",
       "            <td>10</td>\n",
       "        </tr>\n",
       "        <tr>\n",
       "            <td>drogon</td>\n",
       "            <td>2011</td>\n",
       "            <td>-100</td>\n",
       "        </tr>\n",
       "        <tr>\n",
       "            <td>dragon 2</td>\n",
       "            <td>2019</td>\n",
       "            <td>0</td>\n",
       "        </tr>\n",
       "        <tr>\n",
       "            <td>puff</td>\n",
       "            <td>2010</td>\n",
       "            <td>100</td>\n",
       "        </tr>\n",
       "        <tr>\n",
       "            <td>smaug</td>\n",
       "            <td>2011</td>\n",
       "            <td>None</td>\n",
       "        </tr>\n",
       "    </tbody>\n",
       "</table>\n",
       "<span style='font-style:italic;font-size:11px'><code>ResultSet</code> : to convert to pandas, call <a href='https://jupysql.ploomber.io/en/latest/integrations/pandas.html'><code>.DataFrame()</code></a> or to polars, call <a href='https://jupysql.ploomber.io/en/latest/integrations/polars.html'><code>.PolarsDataFrame()</code></a></span><br>"
      ],
      "text/plain": [
       "+----------+------+------+\n",
       "|   name   | year | cute |\n",
       "+----------+------+------+\n",
       "|  hiccup  | 2010 |  10  |\n",
       "|  drogon  | 2011 | -100 |\n",
       "| dragon 2 | 2019 |  0   |\n",
       "|   puff   | 2010 | 100  |\n",
       "|  smaug   | 2011 | None |\n",
       "+----------+------+------+"
      ]
     },
     "execution_count": 27,
     "metadata": {},
     "output_type": "execute_result"
    }
   ],
   "source": [
    "%sql SELECT * FROM Dragon"
   ]
  },
  {
   "cell_type": "markdown",
   "id": "5861cf8d-828e-4dd8-a85f-caf4905ec95d",
   "metadata": {},
   "source": [
    "This can be inconvenient if you later want to do further processing of these data in Python."
   ]
  },
  {
   "cell_type": "markdown",
   "id": "72eadb81-d00f-4ae5-91e1-b401f7c00060",
   "metadata": {},
   "source": [
    "### Storing one-line `%sql` queries\n",
    "\n",
    "For simple one-line queries, you can use IPython's ability to store the result of a magic command like `%sql` as if it were any other Python statement, and save the output to a variable:"
   ]
  },
  {
   "cell_type": "code",
   "execution_count": 28,
   "id": "ab49b102-b47b-4304-b131-169ddb5c8d9d",
   "metadata": {},
   "outputs": [
    {
     "data": {
      "text/html": [
       "<span style=\"None\">Running query in &#x27;sqlite:///data/basic_examples.db&#x27;</span>"
      ],
      "text/plain": [
       "Running query in 'sqlite:///data/basic_examples.db'"
      ]
     },
     "metadata": {},
     "output_type": "display_data"
    },
    {
     "data": {
      "text/html": [
       "<table>\n",
       "    <thead>\n",
       "        <tr>\n",
       "            <th>name</th>\n",
       "            <th>year</th>\n",
       "            <th>cute</th>\n",
       "        </tr>\n",
       "    </thead>\n",
       "    <tbody>\n",
       "        <tr>\n",
       "            <td>hiccup</td>\n",
       "            <td>2010</td>\n",
       "            <td>10</td>\n",
       "        </tr>\n",
       "        <tr>\n",
       "            <td>drogon</td>\n",
       "            <td>2011</td>\n",
       "            <td>-100</td>\n",
       "        </tr>\n",
       "        <tr>\n",
       "            <td>dragon 2</td>\n",
       "            <td>2019</td>\n",
       "            <td>0</td>\n",
       "        </tr>\n",
       "        <tr>\n",
       "            <td>puff</td>\n",
       "            <td>2010</td>\n",
       "            <td>100</td>\n",
       "        </tr>\n",
       "        <tr>\n",
       "            <td>smaug</td>\n",
       "            <td>2011</td>\n",
       "            <td>None</td>\n",
       "        </tr>\n",
       "    </tbody>\n",
       "</table>\n",
       "<span style='font-style:italic;font-size:11px'><code>ResultSet</code> : to convert to pandas, call <a href='https://jupysql.ploomber.io/en/latest/integrations/pandas.html'><code>.DataFrame()</code></a> or to polars, call <a href='https://jupysql.ploomber.io/en/latest/integrations/polars.html'><code>.PolarsDataFrame()</code></a></span><br>"
      ],
      "text/plain": [
       "+----------+------+------+\n",
       "|   name   | year | cute |\n",
       "+----------+------+------+\n",
       "|  hiccup  | 2010 |  10  |\n",
       "|  drogon  | 2011 | -100 |\n",
       "| dragon 2 | 2019 |  0   |\n",
       "|   puff   | 2010 | 100  |\n",
       "|  smaug   | 2011 | None |\n",
       "+----------+------+------+"
      ]
     },
     "execution_count": 28,
     "metadata": {},
     "output_type": "execute_result"
    }
   ],
   "source": [
    "dragon_table = %sql SELECT * FROM Dragon\n",
    "dragon_table"
   ]
  },
  {
   "cell_type": "markdown",
   "id": "01fadebc-7c50-494e-a364-48f5ab0afb82",
   "metadata": {},
   "source": [
    "As noted above, the result of the query is a Python variable of type `ResultSet`, more specifically:"
   ]
  },
  {
   "cell_type": "code",
   "execution_count": 29,
   "id": "bb205d1e-3456-458b-ba1d-04166dd355f7",
   "metadata": {},
   "outputs": [
    {
     "data": {
      "text/plain": [
       "sql.run.ResultSet"
      ]
     },
     "execution_count": 29,
     "metadata": {},
     "output_type": "execute_result"
    }
   ],
   "source": [
    "type(dragon_table)"
   ]
  },
  {
   "cell_type": "markdown",
   "id": "e3db136e-3c3f-48fd-a75a-012c5d9b9609",
   "metadata": {},
   "source": [
    "You need to manually convert it to a Pandas DataFrame if you want to do pandas-things with its content:"
   ]
  },
  {
   "cell_type": "code",
   "execution_count": 30,
   "id": "3c35735a-e30e-47a2-acfe-5486550a52bf",
   "metadata": {},
   "outputs": [
    {
     "data": {
      "text/html": [
       "<div>\n",
       "<style scoped>\n",
       "    .dataframe tbody tr th:only-of-type {\n",
       "        vertical-align: middle;\n",
       "    }\n",
       "\n",
       "    .dataframe tbody tr th {\n",
       "        vertical-align: top;\n",
       "    }\n",
       "\n",
       "    .dataframe thead th {\n",
       "        text-align: right;\n",
       "    }\n",
       "</style>\n",
       "<table border=\"1\" class=\"dataframe\">\n",
       "  <thead>\n",
       "    <tr style=\"text-align: right;\">\n",
       "      <th></th>\n",
       "      <th>name</th>\n",
       "      <th>year</th>\n",
       "      <th>cute</th>\n",
       "    </tr>\n",
       "  </thead>\n",
       "  <tbody>\n",
       "    <tr>\n",
       "      <th>0</th>\n",
       "      <td>hiccup</td>\n",
       "      <td>2010</td>\n",
       "      <td>10.0</td>\n",
       "    </tr>\n",
       "    <tr>\n",
       "      <th>1</th>\n",
       "      <td>drogon</td>\n",
       "      <td>2011</td>\n",
       "      <td>-100.0</td>\n",
       "    </tr>\n",
       "    <tr>\n",
       "      <th>2</th>\n",
       "      <td>dragon 2</td>\n",
       "      <td>2019</td>\n",
       "      <td>0.0</td>\n",
       "    </tr>\n",
       "    <tr>\n",
       "      <th>3</th>\n",
       "      <td>puff</td>\n",
       "      <td>2010</td>\n",
       "      <td>100.0</td>\n",
       "    </tr>\n",
       "    <tr>\n",
       "      <th>4</th>\n",
       "      <td>smaug</td>\n",
       "      <td>2011</td>\n",
       "      <td>NaN</td>\n",
       "    </tr>\n",
       "  </tbody>\n",
       "</table>\n",
       "</div>"
      ],
      "text/plain": [
       "       name  year   cute\n",
       "0    hiccup  2010   10.0\n",
       "1    drogon  2011 -100.0\n",
       "2  dragon 2  2019    0.0\n",
       "3      puff  2010  100.0\n",
       "4     smaug  2011    NaN"
      ]
     },
     "execution_count": 30,
     "metadata": {},
     "output_type": "execute_result"
    }
   ],
   "source": [
    "dragon_df = dragon_table.DataFrame()\n",
    "dragon_df"
   ]
  },
  {
   "cell_type": "markdown",
   "id": "63e0c53b-4481-4727-b72d-2aa7f3b66184",
   "metadata": {},
   "source": [
    "You can configure `jupysql` to _automatically_ convert all outputs to Pandas DataFrames. This can be handy if you intend all your Python-side work to be done with Pandas, as it saves you from manually having to call `.DataFrame()` first on all outputs. On the other hand, you don't get access to the original SQL `ResultSet` object, which have a number of interesting properties and capabilities. You can learn more about those in the [jupysql documentation](https://jupysql.ploomber.io).\n",
    "\n",
    "For now, let's turn this on so you can see how this simplified, \"pandas all the way\" worfklow looks like:"
   ]
  },
  {
   "cell_type": "code",
   "execution_count": 31,
   "id": "997ad531-c5e0-4b60-96b7-4d8c0d78890c",
   "metadata": {},
   "outputs": [],
   "source": [
    "%config SqlMagic.autopandas = True"
   ]
  },
  {
   "cell_type": "code",
   "execution_count": 32,
   "id": "c4b32c92-97d1-4044-b8e3-7a0ccbded620",
   "metadata": {},
   "outputs": [
    {
     "data": {
      "text/html": [
       "<span style=\"None\">Running query in &#x27;sqlite:///data/basic_examples.db&#x27;</span>"
      ],
      "text/plain": [
       "Running query in 'sqlite:///data/basic_examples.db'"
      ]
     },
     "metadata": {},
     "output_type": "display_data"
    },
    {
     "data": {
      "text/html": [
       "<div>\n",
       "<style scoped>\n",
       "    .dataframe tbody tr th:only-of-type {\n",
       "        vertical-align: middle;\n",
       "    }\n",
       "\n",
       "    .dataframe tbody tr th {\n",
       "        vertical-align: top;\n",
       "    }\n",
       "\n",
       "    .dataframe thead th {\n",
       "        text-align: right;\n",
       "    }\n",
       "</style>\n",
       "<table border=\"1\" class=\"dataframe\">\n",
       "  <thead>\n",
       "    <tr style=\"text-align: right;\">\n",
       "      <th></th>\n",
       "      <th>name</th>\n",
       "      <th>year</th>\n",
       "      <th>cute</th>\n",
       "    </tr>\n",
       "  </thead>\n",
       "  <tbody>\n",
       "    <tr>\n",
       "      <th>0</th>\n",
       "      <td>hiccup</td>\n",
       "      <td>2010</td>\n",
       "      <td>10.0</td>\n",
       "    </tr>\n",
       "    <tr>\n",
       "      <th>1</th>\n",
       "      <td>drogon</td>\n",
       "      <td>2011</td>\n",
       "      <td>-100.0</td>\n",
       "    </tr>\n",
       "    <tr>\n",
       "      <th>2</th>\n",
       "      <td>dragon 2</td>\n",
       "      <td>2019</td>\n",
       "      <td>0.0</td>\n",
       "    </tr>\n",
       "    <tr>\n",
       "      <th>3</th>\n",
       "      <td>puff</td>\n",
       "      <td>2010</td>\n",
       "      <td>100.0</td>\n",
       "    </tr>\n",
       "    <tr>\n",
       "      <th>4</th>\n",
       "      <td>smaug</td>\n",
       "      <td>2011</td>\n",
       "      <td>NaN</td>\n",
       "    </tr>\n",
       "  </tbody>\n",
       "</table>\n",
       "</div>"
      ],
      "text/plain": [
       "       name  year   cute\n",
       "0    hiccup  2010   10.0\n",
       "1    drogon  2011 -100.0\n",
       "2  dragon 2  2019    0.0\n",
       "3      puff  2010  100.0\n",
       "4     smaug  2011    NaN"
      ]
     },
     "execution_count": 32,
     "metadata": {},
     "output_type": "execute_result"
    }
   ],
   "source": [
    "dragon_df = %sql SELECT * FROM Dragon\n",
    "dragon_df"
   ]
  },
  {
   "cell_type": "code",
   "execution_count": 33,
   "id": "18f834c2-8511-4c9a-8562-ddd6ed4a6ff4",
   "metadata": {},
   "outputs": [
    {
     "data": {
      "text/plain": [
       "pandas.core.frame.DataFrame"
      ]
     },
     "execution_count": 33,
     "metadata": {},
     "output_type": "execute_result"
    }
   ],
   "source": [
    "type(dragon_df)"
   ]
  },
  {
   "cell_type": "markdown",
   "id": "930ed96a-fdcd-492b-96b6-8cc596942fe7",
   "metadata": {},
   "source": [
    "### Storing multi-line `%%sql` queries"
   ]
  },
  {
   "cell_type": "markdown",
   "id": "3d2bd891-0ffe-43a7-913e-b6f2cea10c19",
   "metadata": {},
   "source": [
    "For a more complex query that won't fit in one line, such as for example:"
   ]
  },
  {
   "cell_type": "code",
   "execution_count": 34,
   "id": "7f5f9312-e60b-4b56-a31a-54494b185271",
   "metadata": {},
   "outputs": [
    {
     "data": {
      "text/html": [
       "<span style=\"None\">Running query in &#x27;sqlite:///data/basic_examples.db&#x27;</span>"
      ],
      "text/plain": [
       "Running query in 'sqlite:///data/basic_examples.db'"
      ]
     },
     "metadata": {},
     "output_type": "display_data"
    },
    {
     "data": {
      "text/html": [
       "<div>\n",
       "<style scoped>\n",
       "    .dataframe tbody tr th:only-of-type {\n",
       "        vertical-align: middle;\n",
       "    }\n",
       "\n",
       "    .dataframe tbody tr th {\n",
       "        vertical-align: top;\n",
       "    }\n",
       "\n",
       "    .dataframe thead th {\n",
       "        text-align: right;\n",
       "    }\n",
       "</style>\n",
       "<table border=\"1\" class=\"dataframe\">\n",
       "  <thead>\n",
       "    <tr style=\"text-align: right;\">\n",
       "      <th></th>\n",
       "      <th>year</th>\n",
       "      <th>COUNT(*)</th>\n",
       "    </tr>\n",
       "  </thead>\n",
       "  <tbody>\n",
       "    <tr>\n",
       "      <th>0</th>\n",
       "      <td>2010</td>\n",
       "      <td>2</td>\n",
       "    </tr>\n",
       "    <tr>\n",
       "      <th>1</th>\n",
       "      <td>2011</td>\n",
       "      <td>2</td>\n",
       "    </tr>\n",
       "    <tr>\n",
       "      <th>2</th>\n",
       "      <td>2019</td>\n",
       "      <td>1</td>\n",
       "    </tr>\n",
       "  </tbody>\n",
       "</table>\n",
       "</div>"
      ],
      "text/plain": [
       "   year  COUNT(*)\n",
       "0  2010         2\n",
       "1  2011         2\n",
       "2  2019         1"
      ]
     },
     "execution_count": 34,
     "metadata": {},
     "output_type": "execute_result"
    }
   ],
   "source": [
    "%%sql\n",
    "SELECT year, COUNT(*)\n",
    "FROM Dragon\n",
    "GROUP BY year;"
   ]
  },
  {
   "cell_type": "markdown",
   "id": "be733f9a-d903-46a7-96a3-ee427af6848f",
   "metadata": {},
   "source": [
    "You can use the `variable <<` syntax in jupysql to store its output (this will honor your `autopandas` state and store either a `sql.run.ResultState` or a Pandas `DataFrame`):"
   ]
  },
  {
   "cell_type": "code",
   "execution_count": 35,
   "id": "a063ab8d-5e97-4bee-b2a1-d1120bd5a947",
   "metadata": {},
   "outputs": [
    {
     "data": {
      "text/html": [
       "<span style=\"None\">Running query in &#x27;sqlite:///data/basic_examples.db&#x27;</span>"
      ],
      "text/plain": [
       "Running query in 'sqlite:///data/basic_examples.db'"
      ]
     },
     "metadata": {},
     "output_type": "display_data"
    }
   ],
   "source": [
    "%%sql dragon_years <<\n",
    "SELECT year, COUNT(*)\n",
    "FROM Dragon\n",
    "GROUP BY year;"
   ]
  },
  {
   "cell_type": "code",
   "execution_count": 36,
   "id": "983c5be0-f248-4da4-b934-79491a312ffe",
   "metadata": {},
   "outputs": [
    {
     "data": {
      "text/html": [
       "<div>\n",
       "<style scoped>\n",
       "    .dataframe tbody tr th:only-of-type {\n",
       "        vertical-align: middle;\n",
       "    }\n",
       "\n",
       "    .dataframe tbody tr th {\n",
       "        vertical-align: top;\n",
       "    }\n",
       "\n",
       "    .dataframe thead th {\n",
       "        text-align: right;\n",
       "    }\n",
       "</style>\n",
       "<table border=\"1\" class=\"dataframe\">\n",
       "  <thead>\n",
       "    <tr style=\"text-align: right;\">\n",
       "      <th></th>\n",
       "      <th>year</th>\n",
       "      <th>COUNT(*)</th>\n",
       "    </tr>\n",
       "  </thead>\n",
       "  <tbody>\n",
       "    <tr>\n",
       "      <th>0</th>\n",
       "      <td>2010</td>\n",
       "      <td>2</td>\n",
       "    </tr>\n",
       "    <tr>\n",
       "      <th>1</th>\n",
       "      <td>2011</td>\n",
       "      <td>2</td>\n",
       "    </tr>\n",
       "    <tr>\n",
       "      <th>2</th>\n",
       "      <td>2019</td>\n",
       "      <td>1</td>\n",
       "    </tr>\n",
       "  </tbody>\n",
       "</table>\n",
       "</div>"
      ],
      "text/plain": [
       "   year  COUNT(*)\n",
       "0  2010         2\n",
       "1  2011         2\n",
       "2  2019         1"
      ]
     },
     "execution_count": 36,
     "metadata": {},
     "output_type": "execute_result"
    }
   ],
   "source": [
    "dragon_years"
   ]
  }
 ],
 "metadata": {
  "kernelspec": {
   "display_name": "Python 3 (ipykernel)",
   "language": "python",
   "name": "python3"
  },
  "language_info": {
   "codemirror_mode": {
    "name": "ipython",
    "version": 3
   },
   "file_extension": ".py",
   "mimetype": "text/x-python",
   "name": "python",
   "nbconvert_exporter": "python",
   "pygments_lexer": "ipython3",
   "version": "3.11.0"
  }
 },
 "nbformat": 4,
 "nbformat_minor": 5
}
