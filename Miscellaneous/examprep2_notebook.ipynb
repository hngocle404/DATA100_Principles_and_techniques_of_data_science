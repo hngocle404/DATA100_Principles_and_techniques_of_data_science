{
 "cells": [
  {
   "cell_type": "code",
   "execution_count": null,
   "metadata": {
    "id": "8Tyq6Ipr3kAe"
   },
   "outputs": [],
   "source": [
    "import pandas as pd\n",
    "import numpy as np"
   ]
  },
  {
   "cell_type": "markdown",
   "metadata": {
    "id": "r6KSM8MF3lCe"
   },
   "source": [
    "# Cleaning Up the Billboard Hot 100"
   ]
  },
  {
   "cell_type": "markdown",
   "metadata": {},
   "source": [
    "Onika Tanya Maraj (better known by her stage name Nicki Minaj) knows she’s the\n",
    "baddest alive, but nonetheless, she wants to learn more about the popularity of her\n",
    "greatest hits.\n",
    "\n",
    "She obtains a dataset of entries from the Billboard Hot 100, an American\n",
    "music chart updated weekly containing the 100 most popular songs of that week. The\n",
    "dataset has 100 entries per week (corresponding to each song on the chart for that\n",
    "particular week), for every week from 1958 until today in 2022.\n",
    "\n",
    "As of 2018, rank is\n",
    "determined by a specific combination of physical/digital sales, radio play, and online\n",
    "streaming. However, the dataset is large and messy, so she enlists you, a Data 100\n",
    "student, as a consultant to help her clean and understand the data.\n",
    "\n",
    "You load the data\n",
    "into a Pandas DataFrame called billboard. A call to billboard.head(10) is shown\n",
    "below:"
   ]
  },
  {
   "cell_type": "code",
   "execution_count": null,
   "metadata": {
    "id": "jr0Yk6wc3j5D"
   },
   "outputs": [],
   "source": [
    "billboard = pd.read_csv('billboard.csv')"
   ]
  },
  {
   "cell_type": "code",
   "execution_count": null,
   "metadata": {
    "colab": {
     "base_uri": "https://localhost:8080/",
     "height": 363
    },
    "id": "rjjudpjX3j2t",
    "outputId": "bee0b41d-0330-47ea-cdfa-db8800723d20",
    "scrolled": true
   },
   "outputs": [],
   "source": [
    "billboard.head(10)"
   ]
  },
  {
   "cell_type": "markdown",
   "metadata": {
    "id": "VNXYvnNy3jkE"
   },
   "source": [
    "### 1c\n",
    "Since Onika only wants an assessment of her music, you need to obtain a DataFrame\n",
    "of only her Billboard Hot 100 entries. Write a line of code to accomplish this (be\n",
    "sure to use her stage name ”Nicki Minaj”). Store your result in a variable called\n",
    "`nicki`."
   ]
  },
  {
   "cell_type": "code",
   "execution_count": null,
   "metadata": {
    "colab": {
     "base_uri": "https://localhost:8080/",
     "height": 206
    },
    "id": "12A8AFIS-_-G",
    "outputId": "74397313-e497-4d89-d571-a6e85c0bccac"
   },
   "outputs": [],
   "source": [
    "nicki = ...\n",
    "nicki.head()"
   ]
  },
  {
   "cell_type": "markdown",
   "metadata": {
    "id": "MEVewuSfAFcM"
   },
   "source": [
    "### 1d\n",
    "In this new `nicki` DataFrame, are there any missing values in the consecutive weeks\n",
    "column? Write a line of Pandas code to return the amount of missing values in this\n",
    "column."
   ]
  },
  {
   "cell_type": "code",
   "execution_count": null,
   "metadata": {
    "colab": {
     "base_uri": "https://localhost:8080/"
    },
    "id": "PLXM0ygs-_0s",
    "outputId": "251bf223-ba2a-4dee-e7c0-9ad5a853662a"
   },
   "outputs": [],
   "source": []
  },
  {
   "cell_type": "markdown",
   "metadata": {
    "id": "mO_lsireAIKE"
   },
   "source": [
    "### 1f\n",
    "Onika wants to know what her most successful year was, where success is measured \n",
    "by the number of Billboard Hot 100 entries she had across all weeks of a give year.\n",
    "\n",
    "Write e two lines of Pandas code to return a Series whose index is the year, a d\n",
    "whose values are the number of entri\n",
    "*s. (Hint: you might want to add a col cn\n",
    "corresponding to the year of each observation, and Series.str.split(‘-’) is  our\n",
    "fri*end!)"
   ]
  },
  {
   "cell_type": "code",
   "execution_count": null,
   "metadata": {
    "colab": {
     "base_uri": "https://localhost:8080/"
    },
    "id": "mzjU2HPu-_ov",
    "outputId": "33ee56ee-32d5-46e0-8ab3-e74f8d48889a"
   },
   "outputs": [],
   "source": []
  },
  {
   "cell_type": "markdown",
   "metadata": {
    "id": "FPrx0gIZ1xZH"
   },
   "source": [
    "## Percy Jackson"
   ]
  },
  {
   "cell_type": "code",
   "execution_count": null,
   "metadata": {
    "id": "GAn8m4Th0Zex"
   },
   "outputs": [],
   "source": [
    "import re"
   ]
  },
  {
   "cell_type": "markdown",
   "metadata": {},
   "source": [
    "Morgan is reading all the Percy Jackson books in one setting, and she wants to use \n",
    "REGEX to find out some interesting facts about the books! Assume that a newline\n",
    "denotes the start of a new paragraph and that any standard punctuation such as a\n",
    "period, question mark or exclamation denotes the end of a sentenc\n",
    "e.\n",
    "Assume the entirety of the book, including newlines, are stored in a string book -  his\n",
    "would imply the string begins in chapter 1 and ends at the end of the book."
   ]
  },
  {
   "cell_type": "code",
   "execution_count": null,
   "metadata": {
    "id": "rIlZm9q60gLo"
   },
   "outputs": [],
   "source": [
    "book = \"\"\"\n",
    "Lorem ipsum dolor prophecy sit amet, consectetur adipiscing elit. Etiam urna quam, luctus nec congue eu, efficitur non enim. Lorem ipsum dolor sit amet, consectetur adipiscing elit. Curabitur dapibus dolor est, ut luctus diam venenatis vitae. Nullam erat urna, aliquam id turpis accumsan, facilisis commodo ligula. Maecenas faucibus tellus a enim porta tincidunt. Sed sollicitudin turpis vulputate orci finibus molestie. Morbi finibus quam dignissim eros venenatis laoreet. Vivamus ante purus, semper vitae finibus euismod, lacinia a est. Donec quam tortor, vestibulum eget semper ac, posuere quis odio. Nulla facilisi.\n",
    "\n",
    "Prophecy Proin quis ipsum interdum, rutrum ante sit amet, hendrerit orci. Quisque in sapien non justo commodo tempor vel in urna. Morbi aliquam tincidunt metus. Sed id sapien aliquet, semper ligula ut, faucibus nulla. Suspendisse et purus vitae enim rhoncus feugiat nec vel lacus. Duis justo quam, interdum ac suscipit eu, fringilla at sem. Donec eleifend tincidunt justo sed placerat. Proin at ante velit. Aliquam porttitor lectus sed ipsum vehicula bibendum. Nullam iaculis tincidunt ante, ac molestie leo tincidunt a.\n",
    "\n",
    "Sed vel tincidunt diam, sed aliquam turpis. Nunc ac aliquet nisl. Cras pulvinar ornare libero interdum dictum. Aliquam pulvinar at dolor nec consectetur. Praesent et blandit risus. Nullam lacinia felis id aliquam accumsan. Proin id sem eros. Donec commodo rutrum orci, a semper ex eleifend at.\n",
    "\n",
    "Nullam tincidunt? \"My math class is so hard!\" eu tellus non Faucibus? Aenean id sem suscipit, eleifend ipsum eget, tincidunt tortor. Donec sit amet nunc urna. Pellentesque commodo volutpat sagittis. Donec semper leo nec nibh egestas, nec dapibus urna viverra. Phasellus dolor tellus, eleifend eget dictum viverra, suscipit sit amet elit. Pellentesque habitant morbi tristique senectus et netus et malesuada fames ac turpis egestas. In est purus, scelerisque in tempus et, feugiat ac eros. In a nisi elementum, elementum lectus non, imperdiet est. Nam mattis lectus sed tortor faucibus, quis vulputate sem eleifend. Aenean ac lacus purus. Morbi eleifend ante et lectus mattis dictum.\n",
    "\n",
    "Praesent vestibulum vel nisl \"Two words!\" sed aliquam. Nullam ac aliquet ipsum. Sed ornare eros in convallis laoreet. Morbi quis dignissim augue. Nunc faucibus mauris eu posuere sodales. Aenean non arcu libero. Aenean a mi mauris. Vestibulum ante ipsum primis in faucibus orci luctus et ultrices posuere cubilia curae; Curabitur ut ante eu purus ultrices malesuada. Curabitur non posuere tortor, quis volutpat nisi. Curabitur ex risus, posuere sit amet maximus id, convallis sit amet est. Nam ut aliquet nunc. Cras pharetra ut lacus vel varius. Duis sodales viverra leo vel suscipit. Vestibulum molestie nunc ac ligula tempor gravida. Praesent vitae massa ut leo cursus convallis.\n",
    "\n",
    "Phasellus bibendum finibus \"This is Test!\"augue, sed fringilla risus posuere eget. Lorem ipsum dolor sit amet, consectetur adipiscing elit. Phasellus ac turpis sapien. Proin ultricies, nibh nec vestibulum vulputate, mauris enim sollicitudin nunc, ac consequat sem enim et tortor. Suspendisse consectetur quis enim vitae maximus. Praesent semper condimentum leo, vulputate mollis purus laoreet ac. Aenean posuere faucibus nibh et faucibus. In magna tellus, placerat sed metus sed, hendrerit auctor odio. Quisque iaculis cursus sem, ac consequat neque laoreet pulvinar. Vestibulum vel laoreet erat. Phasellus gravida mi congue consequat imperdiet.\n",
    "\n",
    "Sed prophecy nec magna prophecy ut orci molestie facilisis non a ipsum. Curabitur sit amet consectetur odio. Vestibulum a nunc ultricies, rutrum justo a, tincidunt libero. Cras eu neque condimentum augue sodales porta. Maecenas sagittis in turpis in sagittis. Nam pulvinar convallis blandit. Aenean laoreet, tellus a auctor fringilla, massa neque consectetur massa, in cursus nisl erat sit amet lacus. Nam est sapien, finibus quis congue in, iaculis non augue. Sed tempus leo in erat ultrices ullamcorper. Donec malesuada volutpat laoreet. Curabitur ac velit placerat, varius risus vitae, consectetur nunc.\n",
    "\n",
    "Nam egestas orci semper, ultricies \"!\" ipsum et, fringilla justo. Donec blandit pretium dolor ac porttitor. Aenean hendrerit imperdiet metus, ultrices auctor ligula elementum vel. Vestibulum vitae lorem vel mi ultricies porttitor id sit amet dolor. Vestibulum mattis, nulla vitae molestie ultricies, diam leo semper elit, id ornare tellus dui non dui. Nulla ipsum nisi, auctor sit amet dignissim et, sagittis a magna. Integer nec nulla consequat, bibendum mi mattis, tempus felis. Donec commodo facilisis ipsum at aliquam. Donec a scelerisque dolor, id ornare ipsum. Mauris sagittis orci orci. In condimentum est vel libero eleifend posuere. Vivamus ex lectus, mollis et interdum nec, finibus at ante.\n",
    "\n",
    "Aenean eget odio et enim rutrum pulvinar. Nulla cursus magna vitae nisl ultrices vulputate. Vestibulum ullamcorper, nunc et facilisis feugiat, odio lorem convallis orci, ac commodo ipsum odio a risus. Etiam quis tortor leo. Phasellus vulputate ligula in arcu molestie, vitae hendrerit sapien blandit. In sollicitudin arcu vel justo bibendum, eu finibus quam blandit. Nunc arcu lacus, rhoncus sed egestas eu, pulvinar sed ante. Curabitur non efficitur dolor. Nullam pulvinar erat id vestibulum consectetur.\n",
    "\n",
    "Pellentesque tincidunt enim magna, sit \"This is four words!\" amet ultrices diam euismod et. Sed eu condimentum quam, in placerat nisi. Curabitur tincidunt urna dui, eget efficitur ex scelerisque at. Curabitur feugiat commodo erat, et placerat mauris lobortis at. Aenean a pellentesque quam. In hac habitasse platea dictumst. Maecenas non maximus est. Pellentesque nec leo ut ipsum vehicula iaculis ut eget lorem. Nulla in porttitor nisi, nec fringilla mauris. Fusce accumsan dolor eros, ut ullamcorper ex consequat eget. Duis condimentum tellus et vestibulum imperdiet.\n",
    "\n",
    "Quisque prophecy fermentum in felis eu dictum? Nulla odio arcu, dapibus ac bibendum tristique, mollis a risus. Sed interdum dictum ligula, ac tristique justo. Mauris finibus consequat diam, eu consequat elit fringilla ut. Donec sed ligula in orci fringilla varius ac consectetur risus. Vestibulum at risus eros. Ut at auctor nunc. Sed nulla tortor, vestibulum at egestas a, lacinia eu nulla. Cras aliquet pretium iaculis. Morbi at enim luctus, fermentum metus non, hendrerit eros. Phasellus eu urna scelerisque, vestibulum orci in, pretium dui.\n",
    "\n",
    "Suspendisse bibendum diam non quam fermentum porta. Nullam ornare posuere erat. Integer leo arcu, consequat eu pharetra ac, pulvinar rutrum magna. Suspendisse sed tempor metus, sed scelerisque nisl. Praesent non volutpat eros. Pellentesque ut viverra nulla. Mauris efficitur feugiat vestibulum. Donec maximus erat eget nibh pretium tristique. Quisque purus mauris, commodo eget mi a, eleifend luctus nunc.\n",
    "\n",
    "Sed enim tortor, dignissim ac tellus a, consequat gravida nibh. Curabitur a tellus turpis. Nulla pulvinar turpis cursus arcu interdum, non gravida risus maximus. Proin aliquet libero sed mi efficitur, vitae lacinia justo facilisis. Etiam ut purus ut velit bibendum bibendum et eu dolor. Vestibulum a euismod mi, id sagittis mauris. Maecenas dignissim mi id lectus suscipit gravida.\n",
    "\"I am Persephone! hi!\" she said, her voice thin and papery.\n",
    "\"I am Persephone!\" Morbi vulputate gravida Blandit? Aenean consectetur purus lorem, non commodo nunc vestibulum ut. Sed id maximus mi. Nullam dui leo, sollicitudin ut diam non, porttitor facilisis arcu. Ut et dolor sit amet massa facilisis congue. Ut eleifend cursus arcu quis lobortis. Duis vel augue eu lorem rutrum convallis. Lorem ipsum dolor sit amet, consectetur adipiscing elit. Sed ipsum augue, ornare ut sapien vitae, feugiat maximus ante. Morbi id vehicula dui. Vivamus luctus sed dui nec suscipit.\n",
    "\"I nobody sidekick!\" Annabeth growled. \"And, Percy, his accent sounds familiar because he sounds like his mother. We killed her in New Jersey.\"\n",
    "\n",
    "Donec sed diam vulputate, laoreet felis non, fringilla nunc. Pellentesque sed mi nunc. Morbi id cursus libero. Sed dolor nibh, bibendum ut bibendum et, aliquet ut eros. Pellentesque aliquam hendrerit dapibus. Etiam iaculis mauris sem. Proin nulla risus, dapibus id mi sit amet, sagittis blandit libero. Lorem ipsum dolor sit amet, consectetur adipiscing elit. Duis imperdiet interdum felis, ut consectetur massa. Sed sit amet felis vel leo posuere posuere. Sed ullamcorper nisl mi, non congue risus lacinia at. Orci varius natoque penatibus et magnis dis parturient montes, nascetur ridiculus mus. Fusce imperdiet congue nisi at facilisis. Etiam tempus consequat ante, vel posuere tellus molestie non. Nulla pulvinar sit amet eros nec consectetur.\n",
    "\n",
    "This is a sentence with the word prophecy. This is a sentence without it. Does this one include prophecy? Yes, it did. \n",
    "\n",
    "\n",
    "Sed prophecy nec magna prophecy ut orci molestie facilisis non a ipsum. Curabitur sit amet consectetur odio. Vestibulum a nunc ultricies, rutrum justo a, tincidunt libero. Cras eu neque condimentum augue sodales porta. Maecenas sagittis in turpis in sagittis. Nam pulvinar convallis blandit. Aenean laoreet, tellus a auctor fringilla, massa neque consectetur massa, in cursus nisl erat sit amet lacus. Nam est sapien, finibus quis congue in, iaculis non augue. Sed tempus leo in erat ultrices ullamcorper. Donec malesuada volutpat laoreet. Curabitur ac velit placerat, varius risus vitae, consectetur nunc.Quisque prophecy fermentum in felis eu dictum? Nulla odio arcu, dapibus ac bibendum tristique, mollis a risus.\n",
    "\"\"\""
   ]
  },
  {
   "cell_type": "markdown",
   "metadata": {
    "id": "nJbkbPI813Xr"
   },
   "source": [
    "### 2a\n",
    "Define an exclamation as any quoted sequence of three words or fewer that ends\n",
    "with an exclamation point. In other words, an exclamation should begin with a\n",
    "quotation mark, include 0-3 words followed by an exclamation point, then end with\n",
    "a quotation mark. Using REGEX, write Python code to capture all exclamations\n",
    "(without the exclamation mark itself) and assign the result to the varia`ble re`sult."
   ]
  },
  {
   "cell_type": "code",
   "execution_count": null,
   "metadata": {
    "colab": {
     "base_uri": "https://localhost:8080/"
    },
    "id": "jLxQE7GJP5gY",
    "outputId": "3cd8e6b7-b00a-49fb-c57c-ae6f936f9f3c"
   },
   "outputs": [],
   "source": [
    "pattern = r'' #TODO\n",
    "group_number = \n",
    "result = [group[group_number] for group in re.findall(pattern, book)]\n",
    "result"
   ]
  },
  {
   "cell_type": "code",
   "execution_count": null,
   "metadata": {
    "colab": {
     "base_uri": "https://localhost:8080/"
    },
    "id": "2BgXMho21HJR",
    "outputId": "6e7e39b3-ffe3-4808-f234-d7de3c60a195"
   },
   "outputs": [],
   "source": [
    "#Another example\n",
    "book2 =  \"\"\" \n",
    "\n",
    "\"I am Thor!\", Thor continued angrily \"Obey me!\"\n",
    "\"I am Persephone!\" she said, her voice thin and papery.\n",
    "\"\"\"\n",
    "result = [group[group_number] for group in re.findall(pattern, book2)]\n",
    "result"
   ]
  },
  {
   "cell_type": "markdown",
   "metadata": {
    "id": "8e-brPW12BNd"
   },
   "source": [
    "### 2b\n",
    "Using REGEX, write Python code to capture all sentences that constitute an entire\n",
    "paragraph and assign the result to the variable` resul`t."
   ]
  },
  {
   "cell_type": "code",
   "execution_count": null,
   "metadata": {
    "colab": {
     "base_uri": "https://localhost:8080/"
    },
    "id": "HIPNtxGb1HLo",
    "outputId": "b3a9ce2b-c50e-406c-c8f4-ee54629d60ea"
   },
   "outputs": [],
   "source": [
    "pattern = ...\n",
    "result = ...\n",
    "result[:3]"
   ]
  },
  {
   "cell_type": "markdown",
   "metadata": {
    "id": "DwA5GPku2RKV"
   },
   "source": [
    "### 2c\n",
    "Using REGEX, write Python code to return a list of the first word of each sentence\n",
    "that contains the word ”prophecy” at least once. You can ignore sentences which\n",
    "start with the word ”prophecy."
   ]
  },
  {
   "cell_type": "code",
   "execution_count": null,
   "metadata": {
    "colab": {
     "base_uri": "https://localhost:8080/"
    },
    "id": "3c6u0TiJ2PGb",
    "outputId": "dd75aa2e-615e-4d2f-dac6-5afc654c8a3b"
   },
   "outputs": [],
   "source": []
  },
  {
   "cell_type": "markdown",
   "metadata": {
    "id": "ZAXK9wdz3L_8"
   },
   "source": [
    "### 2d\n",
    "Suppose we wish to extract the most common name(s) preceding a question mark.\n",
    "We do this first by extracting all words that begin with capital letters that precede\n",
    "a question mark. Which of the following REGEX patterns will accomplish this first\n",
    "goal? Select all that apply."
   ]
  },
  {
   "cell_type": "code",
   "execution_count": null,
   "metadata": {
    "colab": {
     "base_uri": "https://localhost:8080/"
    },
    "id": "LPn9T5X52FjF",
    "outputId": "5bce0b62-3d8d-46b4-d24a-a515256960f8"
   },
   "outputs": [],
   "source": [
    "pattern = r''\n",
    "re.findall(pattern, book)"
   ]
  },
  {
   "cell_type": "markdown",
   "metadata": {},
   "source": [
    "### 2e\n",
    "Suppose now we wish to extract any sentence that fully matches the following\n",
    "behavior:\n",
    "1. Begins with a single quotation mark\n",
    "2. Ends with a period\n",
    "3. Has non-empty content before the period and after the beginning quotation\n",
    "\n",
    "mark.\n",
    "For each of the option below, report an error in the expression or write one test case\n",
    "that would pass the provided pattern but violate the prompt. The content after\n",
    "the starting single quotation does not matter as long as the sentence ends with a\n",
    "period."
   ]
  },
  {
   "cell_type": "code",
   "execution_count": null,
   "metadata": {},
   "outputs": [],
   "source": [
    "pattern = r'^\\'.+\\.'\n",
    "re.findall(pattern, book)"
   ]
  },
  {
   "cell_type": "code",
   "execution_count": null,
   "metadata": {},
   "outputs": [],
   "source": [
    "pattern = r\"'.{1,}.$\"\n",
    "re.findall(pattern, book)"
   ]
  },
  {
   "cell_type": "code",
   "execution_count": null,
   "metadata": {},
   "outputs": [],
   "source": [
    "pattern = r'^\\'.*\\.$'\n",
    "re.findall(pattern, book)"
   ]
  }
 ],
 "metadata": {
  "colab": {
   "provenance": []
  },
  "kernelspec": {
   "display_name": "Python 3",
   "language": "python",
   "name": "python3"
  },
  "language_info": {
   "codemirror_mode": {
    "name": "ipython",
    "version": 3
   },
   "file_extension": ".py",
   "mimetype": "text/x-python",
   "name": "python",
   "nbconvert_exporter": "python",
   "pygments_lexer": "ipython3",
   "version": "3.8.8"
  }
 },
 "nbformat": 4,
 "nbformat_minor": 4
}
