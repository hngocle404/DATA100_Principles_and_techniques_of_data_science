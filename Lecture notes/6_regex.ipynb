{
 "cells": [
  {
   "cell_type": "markdown",
   "metadata": {},
   "source": [
    "# Text Wrangling and Regex\n",
    "\n",
    "Adapted from Lisa Yan, Will Fithian, Joseph Gonzalez, Deborah Nolan, Sam Lau\n",
    "\n",
    "Updated by Bella Crouch\n",
    "\n",
    "Working with text: applying string methods and regular expressions"
   ]
  },
  {
   "cell_type": "code",
   "execution_count": 1,
   "metadata": {
    "ExecuteTime": {
     "end_time": "2018-02-02T15:15:15.363920Z",
     "start_time": "2018-02-02T15:15:14.337886Z"
    }
   },
   "outputs": [],
   "source": [
    "import matplotlib.pyplot as plt\n",
    "import numpy as np\n",
    "import pandas as pd\n",
    "import seaborn as sns\n",
    "import zipfile\n",
    "import pandas as pd\n",
    "import re"
   ]
  },
  {
   "cell_type": "markdown",
   "metadata": {},
   "source": [
    "## Demo 1: Canonicalising County Names"
   ]
  },
  {
   "cell_type": "code",
   "execution_count": 2,
   "metadata": {},
   "outputs": [
    {
     "data": {
      "text/html": [
       "<div>\n",
       "<style scoped>\n",
       "    .dataframe tbody tr th:only-of-type {\n",
       "        vertical-align: middle;\n",
       "    }\n",
       "\n",
       "    .dataframe tbody tr th {\n",
       "        vertical-align: top;\n",
       "    }\n",
       "\n",
       "    .dataframe thead th {\n",
       "        text-align: right;\n",
       "    }\n",
       "</style>\n",
       "<table border=\"1\" class=\"dataframe\">\n",
       "  <thead>\n",
       "    <tr style=\"text-align: right;\">\n",
       "      <th></th>\n",
       "      <th>County</th>\n",
       "      <th>State</th>\n",
       "    </tr>\n",
       "  </thead>\n",
       "  <tbody>\n",
       "    <tr>\n",
       "      <th>0</th>\n",
       "      <td>De Witt County</td>\n",
       "      <td>IL</td>\n",
       "    </tr>\n",
       "    <tr>\n",
       "      <th>1</th>\n",
       "      <td>Lac qui Parle County</td>\n",
       "      <td>MN</td>\n",
       "    </tr>\n",
       "    <tr>\n",
       "      <th>2</th>\n",
       "      <td>Lewis and Clark County</td>\n",
       "      <td>MT</td>\n",
       "    </tr>\n",
       "    <tr>\n",
       "      <th>3</th>\n",
       "      <td>St John the Baptist Parish</td>\n",
       "      <td>LS</td>\n",
       "    </tr>\n",
       "  </tbody>\n",
       "</table>\n",
       "</div>"
      ],
      "text/plain": [
       "                       County State\n",
       "0              De Witt County    IL\n",
       "1        Lac qui Parle County    MN\n",
       "2      Lewis and Clark County    MT\n",
       "3  St John the Baptist Parish    LS"
      ]
     },
     "metadata": {},
     "output_type": "display_data"
    },
    {
     "data": {
      "text/html": [
       "<div>\n",
       "<style scoped>\n",
       "    .dataframe tbody tr th:only-of-type {\n",
       "        vertical-align: middle;\n",
       "    }\n",
       "\n",
       "    .dataframe tbody tr th {\n",
       "        vertical-align: top;\n",
       "    }\n",
       "\n",
       "    .dataframe thead th {\n",
       "        text-align: right;\n",
       "    }\n",
       "</style>\n",
       "<table border=\"1\" class=\"dataframe\">\n",
       "  <thead>\n",
       "    <tr style=\"text-align: right;\">\n",
       "      <th></th>\n",
       "      <th>County</th>\n",
       "      <th>Population</th>\n",
       "    </tr>\n",
       "  </thead>\n",
       "  <tbody>\n",
       "    <tr>\n",
       "      <th>0</th>\n",
       "      <td>DeWitt</td>\n",
       "      <td>16798</td>\n",
       "    </tr>\n",
       "    <tr>\n",
       "      <th>1</th>\n",
       "      <td>Lac Qui Parle</td>\n",
       "      <td>8067</td>\n",
       "    </tr>\n",
       "    <tr>\n",
       "      <th>2</th>\n",
       "      <td>Lewis &amp; Clark</td>\n",
       "      <td>55716</td>\n",
       "    </tr>\n",
       "    <tr>\n",
       "      <th>3</th>\n",
       "      <td>St. John the Baptist</td>\n",
       "      <td>43044</td>\n",
       "    </tr>\n",
       "  </tbody>\n",
       "</table>\n",
       "</div>"
      ],
      "text/plain": [
       "                 County  Population\n",
       "0                DeWitt       16798\n",
       "1         Lac Qui Parle        8067\n",
       "2         Lewis & Clark       55716\n",
       "3  St. John the Baptist       43044"
      ]
     },
     "execution_count": 2,
     "metadata": {},
     "output_type": "execute_result"
    }
   ],
   "source": [
    "states = pd.read_csv(\"../DATA/county_and_state.csv\")\n",
    "populations = pd.read_csv(\"../DATA/county_and_population.csv\")\n",
    "\n",
    "# display allows us to view a DataFrame without returning it as an object\n",
    "display(states)\n",
    "\n",
    "populations"
   ]
  },
  {
   "cell_type": "markdown",
   "metadata": {},
   "source": [
    "Both of these DataFrames share a \"County\" column. Unfortunately, formatting differences mean that we can't directly merge the two DataFrames using the \"County\"s."
   ]
  },
  {
   "cell_type": "code",
   "execution_count": 3,
   "metadata": {},
   "outputs": [
    {
     "data": {
      "text/html": [
       "<div>\n",
       "<style scoped>\n",
       "    .dataframe tbody tr th:only-of-type {\n",
       "        vertical-align: middle;\n",
       "    }\n",
       "\n",
       "    .dataframe tbody tr th {\n",
       "        vertical-align: top;\n",
       "    }\n",
       "\n",
       "    .dataframe thead th {\n",
       "        text-align: right;\n",
       "    }\n",
       "</style>\n",
       "<table border=\"1\" class=\"dataframe\">\n",
       "  <thead>\n",
       "    <tr style=\"text-align: right;\">\n",
       "      <th></th>\n",
       "      <th>County</th>\n",
       "      <th>State</th>\n",
       "      <th>Population</th>\n",
       "    </tr>\n",
       "  </thead>\n",
       "  <tbody>\n",
       "  </tbody>\n",
       "</table>\n",
       "</div>"
      ],
      "text/plain": [
       "Empty DataFrame\n",
       "Columns: [County, State, Population]\n",
       "Index: []"
      ]
     },
     "execution_count": 3,
     "metadata": {},
     "output_type": "execute_result"
    }
   ],
   "source": [
    "states.merge(populations, left_on = \"County\", right_on = \"County\")"
   ]
  },
  {
   "cell_type": "markdown",
   "metadata": {},
   "source": [
    "To address this, we can **canonicalize** the \"County\" string data to apply a common formatting.\n",
    "Things to do\n",
    "* lower case everything\n",
    "* remove space\n",
    "* replace &\n",
    "* remove dot\n",
    "* remove county\n",
    "* remove parish "
   ]
  },
  {
   "cell_type": "code",
   "execution_count": 4,
   "metadata": {},
   "outputs": [
    {
     "data": {
      "text/html": [
       "<div>\n",
       "<style scoped>\n",
       "    .dataframe tbody tr th:only-of-type {\n",
       "        vertical-align: middle;\n",
       "    }\n",
       "\n",
       "    .dataframe tbody tr th {\n",
       "        vertical-align: top;\n",
       "    }\n",
       "\n",
       "    .dataframe thead th {\n",
       "        text-align: right;\n",
       "    }\n",
       "</style>\n",
       "<table border=\"1\" class=\"dataframe\">\n",
       "  <thead>\n",
       "    <tr style=\"text-align: right;\">\n",
       "      <th></th>\n",
       "      <th>County</th>\n",
       "      <th>State</th>\n",
       "    </tr>\n",
       "  </thead>\n",
       "  <tbody>\n",
       "    <tr>\n",
       "      <th>0</th>\n",
       "      <td>dewitt</td>\n",
       "      <td>IL</td>\n",
       "    </tr>\n",
       "    <tr>\n",
       "      <th>1</th>\n",
       "      <td>lacquiparle</td>\n",
       "      <td>MN</td>\n",
       "    </tr>\n",
       "    <tr>\n",
       "      <th>2</th>\n",
       "      <td>lewisandclark</td>\n",
       "      <td>MT</td>\n",
       "    </tr>\n",
       "    <tr>\n",
       "      <th>3</th>\n",
       "      <td>stjohnthebaptist</td>\n",
       "      <td>LS</td>\n",
       "    </tr>\n",
       "  </tbody>\n",
       "</table>\n",
       "</div>"
      ],
      "text/plain": [
       "             County State\n",
       "0            dewitt    IL\n",
       "1       lacquiparle    MN\n",
       "2     lewisandclark    MT\n",
       "3  stjohnthebaptist    LS"
      ]
     },
     "metadata": {},
     "output_type": "display_data"
    },
    {
     "data": {
      "text/html": [
       "<div>\n",
       "<style scoped>\n",
       "    .dataframe tbody tr th:only-of-type {\n",
       "        vertical-align: middle;\n",
       "    }\n",
       "\n",
       "    .dataframe tbody tr th {\n",
       "        vertical-align: top;\n",
       "    }\n",
       "\n",
       "    .dataframe thead th {\n",
       "        text-align: right;\n",
       "    }\n",
       "</style>\n",
       "<table border=\"1\" class=\"dataframe\">\n",
       "  <thead>\n",
       "    <tr style=\"text-align: right;\">\n",
       "      <th></th>\n",
       "      <th>County</th>\n",
       "      <th>Population</th>\n",
       "    </tr>\n",
       "  </thead>\n",
       "  <tbody>\n",
       "    <tr>\n",
       "      <th>0</th>\n",
       "      <td>dewitt</td>\n",
       "      <td>16798</td>\n",
       "    </tr>\n",
       "    <tr>\n",
       "      <th>1</th>\n",
       "      <td>lacquiparle</td>\n",
       "      <td>8067</td>\n",
       "    </tr>\n",
       "    <tr>\n",
       "      <th>2</th>\n",
       "      <td>lewisandclark</td>\n",
       "      <td>55716</td>\n",
       "    </tr>\n",
       "    <tr>\n",
       "      <th>3</th>\n",
       "      <td>stjohnthebaptist</td>\n",
       "      <td>43044</td>\n",
       "    </tr>\n",
       "  </tbody>\n",
       "</table>\n",
       "</div>"
      ],
      "text/plain": [
       "             County  Population\n",
       "0            dewitt       16798\n",
       "1       lacquiparle        8067\n",
       "2     lewisandclark       55716\n",
       "3  stjohnthebaptist       43044"
      ]
     },
     "metadata": {},
     "output_type": "display_data"
    }
   ],
   "source": [
    "def canonicalise (county_series):\n",
    "    '''\n",
    "    Input: a series of county names\n",
    "    Output: a series of standardised county names\n",
    "    '''\n",
    "    county_series = (\n",
    "        county_series\n",
    "        .str.lower()\n",
    "        .str.replace(' ', '')\n",
    "        .str.replace('&', '')\n",
    "        .str.replace('.', '')\n",
    "        .str.replace('county', '')\n",
    "        .str.replace('parish', '')\n",
    "    )\n",
    "    return county_series\n",
    "\n",
    "states['County'] = canonicalise(states['County'])\n",
    "display(states.head())\n",
    "\n",
    "populations['County'] = canonicalise(states['County'])\n",
    "display(populations.head())"
   ]
  },
  {
   "cell_type": "markdown",
   "metadata": {},
   "source": [
    "Now, the merge works as expected!"
   ]
  },
  {
   "cell_type": "code",
   "execution_count": 5,
   "metadata": {},
   "outputs": [
    {
     "data": {
      "text/html": [
       "<div>\n",
       "<style scoped>\n",
       "    .dataframe tbody tr th:only-of-type {\n",
       "        vertical-align: middle;\n",
       "    }\n",
       "\n",
       "    .dataframe tbody tr th {\n",
       "        vertical-align: top;\n",
       "    }\n",
       "\n",
       "    .dataframe thead th {\n",
       "        text-align: right;\n",
       "    }\n",
       "</style>\n",
       "<table border=\"1\" class=\"dataframe\">\n",
       "  <thead>\n",
       "    <tr style=\"text-align: right;\">\n",
       "      <th></th>\n",
       "      <th>County</th>\n",
       "      <th>State</th>\n",
       "      <th>Population</th>\n",
       "    </tr>\n",
       "  </thead>\n",
       "  <tbody>\n",
       "    <tr>\n",
       "      <th>0</th>\n",
       "      <td>dewitt</td>\n",
       "      <td>IL</td>\n",
       "      <td>16798</td>\n",
       "    </tr>\n",
       "    <tr>\n",
       "      <th>1</th>\n",
       "      <td>lacquiparle</td>\n",
       "      <td>MN</td>\n",
       "      <td>8067</td>\n",
       "    </tr>\n",
       "    <tr>\n",
       "      <th>2</th>\n",
       "      <td>lewisandclark</td>\n",
       "      <td>MT</td>\n",
       "      <td>55716</td>\n",
       "    </tr>\n",
       "    <tr>\n",
       "      <th>3</th>\n",
       "      <td>stjohnthebaptist</td>\n",
       "      <td>LS</td>\n",
       "      <td>43044</td>\n",
       "    </tr>\n",
       "  </tbody>\n",
       "</table>\n",
       "</div>"
      ],
      "text/plain": [
       "             County State  Population\n",
       "0            dewitt    IL       16798\n",
       "1       lacquiparle    MN        8067\n",
       "2     lewisandclark    MT       55716\n",
       "3  stjohnthebaptist    LS       43044"
      ]
     },
     "execution_count": 5,
     "metadata": {},
     "output_type": "execute_result"
    }
   ],
   "source": [
    "states.merge(populations, left_on = \"County\", right_on = \"County\")"
   ]
  },
  {
   "cell_type": "markdown",
   "metadata": {},
   "source": [
    "## Demo 2: Extracting Log Data"
   ]
  },
  {
   "cell_type": "markdown",
   "metadata": {},
   "source": [
    "### How to read txt file using zipfile\n",
    "\n",
    "with open('file', 'r') as anyword:\n",
    "    fileaslist = anyword.readlines()"
   ]
  },
  {
   "cell_type": "code",
   "execution_count": 6,
   "metadata": {},
   "outputs": [
    {
     "data": {
      "text/plain": [
       "list"
      ]
     },
     "execution_count": 6,
     "metadata": {},
     "output_type": "execute_result"
    }
   ],
   "source": [
    "with open('../DATA/log.txt', 'r') as anyword:\n",
    "    log_lines = anyword.readlines()\n",
    "type(log_lines)   "
   ]
  },
  {
   "cell_type": "markdown",
   "metadata": {},
   "source": [
    "Suppose we want to extract the day, month, year, hour, minutes, seconds, and timezone. Looking at the data, we see that these items are not in a fixed position relative to the beginning of the string. That is, slicing by some fixed offset isn't going to work."
   ]
  },
  {
   "cell_type": "code",
   "execution_count": 7,
   "metadata": {},
   "outputs": [
    {
     "data": {
      "text/plain": [
       "'26/Jan/2014'"
      ]
     },
     "execution_count": 7,
     "metadata": {},
     "output_type": "execute_result"
    }
   ],
   "source": [
    "log_lines[0][20:31]"
   ]
  },
  {
   "cell_type": "code",
   "execution_count": 8,
   "metadata": {},
   "outputs": [
    {
     "data": {
      "text/plain": [
       "'/Feb/2005:1'"
      ]
     },
     "execution_count": 8,
     "metadata": {},
     "output_type": "execute_result"
    }
   ],
   "source": [
    "log_lines[1][20:31]"
   ]
  },
  {
   "cell_type": "markdown",
   "metadata": {},
   "source": [
    "Instead, we'll need to use some more sophisticated thinking. Let's focus on only the first line of the file."
   ]
  },
  {
   "cell_type": "code",
   "execution_count": 9,
   "metadata": {},
   "outputs": [
    {
     "data": {
      "text/plain": [
       "'169.237.46.168 - - [26/Jan/2014:10:47:58 -0800] \"GET /stat141/Winter04/ HTTP/1.1\" 200 2585 \"http://anson.ucdavis.edu/courses/\"\\n'"
      ]
     },
     "execution_count": 9,
     "metadata": {},
     "output_type": "execute_result"
    }
   ],
   "source": [
    "first = log_lines[0]\n",
    "first"
   ]
  },
  {
   "cell_type": "code",
   "execution_count": 10,
   "metadata": {
    "tags": []
   },
   "outputs": [
    {
     "data": {
      "text/plain": [
       "('26', 'Jan', '2014', '10', '47', '58', '-0800')"
      ]
     },
     "execution_count": 10,
     "metadata": {},
     "output_type": "execute_result"
    }
   ],
   "source": [
    "pertinent = first.split(\"[\")[1].split(']')[0] # find the text enclosed in square brackets\n",
    "day, month, rest = pertinent.split('/')       # split up the date/month/year \n",
    "year, hour, minute, rest = rest.split(':')    # split up the hour:minute:second\n",
    "seconds, time_zone = rest.split(' ')          # split the timezone after the blank space\n",
    "day, month, year, hour, minute, seconds, time_zone"
   ]
  },
  {
   "cell_type": "markdown",
   "metadata": {},
   "source": [
    "This worked, but felt fairly \"hacky\" – the code above isn't particularly elegant. A much more sophisticated but common approach is to extract the information we need using a *regular expression*."
   ]
  },
  {
   "cell_type": "markdown",
   "metadata": {},
   "source": [
    "\n",
    "# Regular Expressions"
   ]
  },
  {
   "cell_type": "markdown",
   "metadata": {
    "tags": []
   },
   "source": [
    "\n",
    "## String Extraction with Regex\n",
    "\n",
    "Python `re.findall` returns a list of all extracted matches:"
   ]
  },
  {
   "cell_type": "code",
   "execution_count": 11,
   "metadata": {},
   "outputs": [
    {
     "data": {
      "text/plain": [
       "['123-45-6789', '321-45-6789']"
      ]
     },
     "execution_count": 11,
     "metadata": {},
     "output_type": "execute_result"
    }
   ],
   "source": [
    "import re\n",
    "\n",
    "text = \"My social security number is 123-45-6789 bro, or actually maybe it’s 321-45-6789.\";\n",
    "pattern = r\"[0-9]{3}-[0-9]{2}-[0-9]{4}\"\n",
    "re.findall(pattern, text)"
   ]
  },
  {
   "cell_type": "markdown",
   "metadata": {},
   "source": [
    "Now, let's see vectorized extraction in `pandas`:"
   ]
  },
  {
   "cell_type": "markdown",
   "metadata": {},
   "source": [
    " `.str.findall` returns a `Series` of lists of all matches in each record."
   ]
  },
  {
   "cell_type": "code",
   "execution_count": 12,
   "metadata": {},
   "outputs": [
    {
     "data": {
      "text/html": [
       "<div>\n",
       "<style scoped>\n",
       "    .dataframe tbody tr th:only-of-type {\n",
       "        vertical-align: middle;\n",
       "    }\n",
       "\n",
       "    .dataframe tbody tr th {\n",
       "        vertical-align: top;\n",
       "    }\n",
       "\n",
       "    .dataframe thead th {\n",
       "        text-align: right;\n",
       "    }\n",
       "</style>\n",
       "<table border=\"1\" class=\"dataframe\">\n",
       "  <thead>\n",
       "    <tr style=\"text-align: right;\">\n",
       "      <th></th>\n",
       "      <th>SSN</th>\n",
       "    </tr>\n",
       "  </thead>\n",
       "  <tbody>\n",
       "    <tr>\n",
       "      <th>0</th>\n",
       "      <td>987-65-4321</td>\n",
       "    </tr>\n",
       "    <tr>\n",
       "      <th>1</th>\n",
       "      <td>forty</td>\n",
       "    </tr>\n",
       "    <tr>\n",
       "      <th>2</th>\n",
       "      <td>123-45-6789 bro or 321-45-6789</td>\n",
       "    </tr>\n",
       "    <tr>\n",
       "      <th>3</th>\n",
       "      <td>999-99-9999</td>\n",
       "    </tr>\n",
       "  </tbody>\n",
       "</table>\n",
       "</div>"
      ],
      "text/plain": [
       "                              SSN\n",
       "0                     987-65-4321\n",
       "1                           forty\n",
       "2  123-45-6789 bro or 321-45-6789\n",
       "3                     999-99-9999"
      ]
     },
     "execution_count": 12,
     "metadata": {},
     "output_type": "execute_result"
    }
   ],
   "source": [
    "df_ssn = pd.DataFrame(\n",
    "    ['987-65-4321',\n",
    "     'forty',\n",
    "     '123-45-6789 bro or 321-45-6789',\n",
    "     '999-99-9999'],\n",
    "    columns = ['SSN'])\n",
    "df_ssn"
   ]
  },
  {
   "cell_type": "markdown",
   "metadata": {},
   "source": [
    "Say we wanna find the pattern in a column in a df. -> Use `.str.findall` instead of `re.findall`"
   ]
  },
  {
   "cell_type": "code",
   "execution_count": 13,
   "metadata": {},
   "outputs": [
    {
     "data": {
      "text/plain": [
       "0                 [987-65-4321]\n",
       "1                            []\n",
       "2    [123-45-6789, 321-45-6789]\n",
       "3                 [999-99-9999]\n",
       "Name: SSN, dtype: object"
      ]
     },
     "execution_count": 13,
     "metadata": {},
     "output_type": "execute_result"
    }
   ],
   "source": [
    "pattern = r\"[0-9]{3}-[0-9]{2}-[0-9]{4}\"\n",
    "df_ssn['SSN'].str.findall(pattern)"
   ]
  },
  {
   "cell_type": "markdown",
   "metadata": {},
   "source": [
    "## Extraction Using Regex Capture Groups"
   ]
  },
  {
   "cell_type": "markdown",
   "metadata": {},
   "source": [
    "### Regular expressions quantifiers"
   ]
  },
  {
   "cell_type": "code",
   "execution_count": 14,
   "metadata": {},
   "outputs": [
    {
     "data": {
      "text/plain": [
       "['a', 'c', 'z', 'z']"
      ]
     },
     "metadata": {},
     "output_type": "display_data"
    },
    {
     "data": {
      "text/plain": [
       "['a', 'c', 'z', '3', '1', '3', '_', 'D', 'z']"
      ]
     },
     "metadata": {},
     "output_type": "display_data"
    },
    {
     "data": {
      "text/plain": [
       "['3', '1', '3']"
      ]
     },
     "metadata": {},
     "output_type": "display_data"
    },
    {
     "data": {
      "text/plain": [
       "['a', '-', '=', 'c', 'z', '3', '#', '1', '3', '_', 'D', ':', 'z', '&']"
      ]
     },
     "metadata": {},
     "output_type": "display_data"
    },
    {
     "data": {
      "text/plain": [
       "['a', 'c', 'z', '3', '1', '3', 'D', 'z']"
      ]
     },
     "metadata": {},
     "output_type": "display_data"
    },
    {
     "data": {
      "text/plain": [
       "['a', '-', 'c', 'z', '3', '1', '3', 'z']"
      ]
     },
     "metadata": {},
     "output_type": "display_data"
    },
    {
     "data": {
      "text/plain": [
       "[]"
      ]
     },
     "metadata": {},
     "output_type": "display_data"
    }
   ],
   "source": [
    "text = r\"a-=cz3#13_D:z&\"\n",
    "\n",
    "pattern0 = r\"[a-z]\" # Match all lowercase letters\n",
    "result0 = re.findall(pattern0, text)\n",
    "display(result0)\n",
    "\n",
    "pattern1 = r\"\\w\" # Match all 'word' char: A-Z, a-z, 0-9, undrscr _\n",
    "result1 = re.findall(pattern1, text)\n",
    "display(result1)\n",
    "# Opposite: \\W (non-word)\n",
    "\n",
    "pattern2 = r\"\\d\" # Match all digits\n",
    "result2 = re.findall(pattern2, text)\n",
    "display(result2)\n",
    "# Opposite: \\D (non-digit)\n",
    "\n",
    "pattern3 = r\".\" # Match verything EXCEPT new line \\n\n",
    "result3 = re.findall(pattern3, text)\n",
    "display(result3)\n",
    "\n",
    "pattern4 = r\"[a-zA-Z0-9]\" # Combined alphanumeric\n",
    "result4 = re.findall(pattern4, text)\n",
    "display(result4)\n",
    "\n",
    "pattern5 = r\"[a-z-0-9]\" # To match '-' must place not btwn chars (start/end only)\n",
    "result5 = re.findall(pattern5, text)\n",
    "display(result5)\n",
    "\n",
    "pattern6 = r\"\\s\" # Match whitespaces (including \\n)\n",
    "result6 = re.findall(pattern6, text)\n",
    "display(result6)\n",
    "# Opposite: \\S (non-whitespace)\n",
    "\n",
    "# I dont understand asterisks TT and pluses too TT"
   ]
  },
  {
   "cell_type": "markdown",
   "metadata": {},
   "source": [
    "### Capturing groups using () in pattern"
   ]
  },
  {
   "cell_type": "markdown",
   "metadata": {},
   "source": [
    "The Python function `re.findall`, in combination with parentheses returns specific substrings (i.e., **capture groups**) within each matched string, or **match**."
   ]
  },
  {
   "cell_type": "code",
   "execution_count": 15,
   "metadata": {},
   "outputs": [
    {
     "data": {
      "text/plain": [
       "[('08', '30', '00')]"
      ]
     },
     "execution_count": 15,
     "metadata": {},
     "output_type": "execute_result"
    }
   ],
   "source": [
    "text = \"\"\"I will meet you at 08:30:00 pm tomorrow\"\"\"       \n",
    "pattern = r\"(\\d\\d):(\\d\\d):(\\d\\d)\"\n",
    "matches = re.findall(pattern, text)\n",
    "matches"
   ]
  },
  {
   "cell_type": "markdown",
   "metadata": {},
   "source": [
    "Here, (\\d\\d), (\\d\\d), and (\\d\\d) are capture groups that match two digits each for hours, minutes, and seconds. The findall function returns a list of tuples, where each tuple contains the matched content of the capture groups. In this case, it returns [('08', '30', '00')]."
   ]
  },
  {
   "cell_type": "code",
   "execution_count": 16,
   "metadata": {},
   "outputs": [
    {
     "data": {
      "text/plain": [
       "['08:30:00']"
      ]
     },
     "execution_count": 16,
     "metadata": {},
     "output_type": "execute_result"
    }
   ],
   "source": [
    "text2 = \"\"\"I will meet you at 08:30:00 pm tomorrow\"\"\"       \n",
    "pattern2 = r\"\\d\\d:\\d\\d:\\d\\d\"\n",
    "matches2 = re.findall(pattern2, text2)\n",
    "matches2"
   ]
  },
  {
   "cell_type": "markdown",
   "metadata": {},
   "source": [
    "Here, without using capture groups, the pattern \\d\\d:\\d\\d:\\d\\d directly matches the entire time format. The findall function returns a list of strings, where each string represents the entire matched pattern. In this case, it returns ['08:30:00'].\n",
    "\n",
    "**If you need to extract specific components (hours, minutes, seconds) individually, using capture groups with parentheses is useful. This is especially helpful when you want to process or analyze each component separately.**"
   ]
  },
  {
   "cell_type": "markdown",
   "metadata": {},
   "source": [
    "The importance of asterisk: SEARCH FOR OTHER INSTANCES OF MATCH CASES EVEN IF SEPARATED FROM THE 1st ONE BY TEXT"
   ]
  },
  {
   "cell_type": "markdown",
   "metadata": {},
   "source": [
    "From the above -> importance of r: AVOID SYNTAX WARNING\n",
    "* without it \\ is treated as an escape character.\n",
    "\n",
    "Solution\n",
    "* use raw strings OR\n",
    "* double backslash"
   ]
  },
  {
   "cell_type": "markdown",
   "metadata": {},
   "source": [
    "### Assigning matched values to variables\n",
    "\n",
    "`matches[0]` is unpacking the values from the first match tuple into the variables hour, minute, and second. After this line, hour will be assigned the value '08', minute will be assigned the value '30', and second will be assigned the value '00'. This can be useful if you want to work with the extracted time components individually in your code."
   ]
  },
  {
   "cell_type": "code",
   "execution_count": 17,
   "metadata": {},
   "outputs": [
    {
     "data": {
      "text/plain": [
       "'08'"
      ]
     },
     "execution_count": 17,
     "metadata": {},
     "output_type": "execute_result"
    }
   ],
   "source": [
    "# the three capture groups in the first matched string\n",
    "hour, minute, second = matches[0]\n",
    "hour"
   ]
  },
  {
   "cell_type": "markdown",
   "metadata": {},
   "source": [
    "If the number of names of var doesnt match the number of groups captured -> ValueError."
   ]
  },
  {
   "cell_type": "code",
   "execution_count": 18,
   "metadata": {},
   "outputs": [],
   "source": [
    "# text = \"12:34:56\"\n",
    "# pattern = r\"(\\d\\d):(\\d\\d)\"\n",
    "# matches = re.findall(pattern, text)\n",
    "\n",
    "# Trying to unpack two values into three variables\n",
    "# hour, minute, second = matches[0]"
   ]
  },
  {
   "cell_type": "markdown",
   "metadata": {},
   "source": [
    "### .str.extract"
   ]
  },
  {
   "cell_type": "markdown",
   "metadata": {},
   "source": [
    "In `pandas`, we can use `.str.extract` to extract each capture group of **only the first match** of each record into separate columns."
   ]
  },
  {
   "cell_type": "code",
   "execution_count": 19,
   "metadata": {},
   "outputs": [
    {
     "data": {
      "text/html": [
       "<div>\n",
       "<style scoped>\n",
       "    .dataframe tbody tr th:only-of-type {\n",
       "        vertical-align: middle;\n",
       "    }\n",
       "\n",
       "    .dataframe tbody tr th {\n",
       "        vertical-align: top;\n",
       "    }\n",
       "\n",
       "    .dataframe thead th {\n",
       "        text-align: right;\n",
       "    }\n",
       "</style>\n",
       "<table border=\"1\" class=\"dataframe\">\n",
       "  <thead>\n",
       "    <tr style=\"text-align: right;\">\n",
       "      <th></th>\n",
       "      <th>SSN</th>\n",
       "    </tr>\n",
       "  </thead>\n",
       "  <tbody>\n",
       "    <tr>\n",
       "      <th>0</th>\n",
       "      <td>987-65-4321</td>\n",
       "    </tr>\n",
       "    <tr>\n",
       "      <th>1</th>\n",
       "      <td>forty</td>\n",
       "    </tr>\n",
       "    <tr>\n",
       "      <th>2</th>\n",
       "      <td>123-45-6789 bro or 321-45-6789</td>\n",
       "    </tr>\n",
       "    <tr>\n",
       "      <th>3</th>\n",
       "      <td>999-99-9999</td>\n",
       "    </tr>\n",
       "  </tbody>\n",
       "</table>\n",
       "</div>"
      ],
      "text/plain": [
       "                              SSN\n",
       "0                     987-65-4321\n",
       "1                           forty\n",
       "2  123-45-6789 bro or 321-45-6789\n",
       "3                     999-99-9999"
      ]
     },
     "execution_count": 19,
     "metadata": {},
     "output_type": "execute_result"
    }
   ],
   "source": [
    "df_ssn"
   ]
  },
  {
   "cell_type": "markdown",
   "metadata": {},
   "source": [
    "str.findall revisited (column version of re.findall)"
   ]
  },
  {
   "cell_type": "code",
   "execution_count": 20,
   "metadata": {},
   "outputs": [
    {
     "data": {
      "text/plain": [
       "0                 [987-65-4321]\n",
       "1                            []\n",
       "2    [123-45-6789, 321-45-6789]\n",
       "3                 [999-99-9999]\n",
       "Name: SSN, dtype: object"
      ]
     },
     "metadata": {},
     "output_type": "display_data"
    },
    {
     "data": {
      "text/plain": [
       "0                     [(987, 65, 4321)]\n",
       "1                                    []\n",
       "2    [(123, 45, 6789), (321, 45, 6789)]\n",
       "3                     [(999, 99, 9999)]\n",
       "Name: SSN, dtype: object"
      ]
     },
     "metadata": {},
     "output_type": "display_data"
    }
   ],
   "source": [
    "# no groups\n",
    "pattern_group_mult = r'\\d{3}-\\d{2}-\\d{4}' # 3 groups\n",
    "ssn1 = df_ssn['SSN'].str.findall(pattern_group_mult)\n",
    "display(ssn1)\n",
    "\n",
    "# yes groups\n",
    "pattern_group_mult = r'(\\d{3})-(\\d{2})-(\\d{4})' # 3 groups\n",
    "ssn2 = df_ssn['SSN'].str.findall(pattern_group_mult)\n",
    "display(ssn2)"
   ]
  },
  {
   "cell_type": "markdown",
   "metadata": {},
   "source": [
    "Using str.extract (extract instead of find)"
   ]
  },
  {
   "cell_type": "code",
   "execution_count": 21,
   "metadata": {},
   "outputs": [
    {
     "data": {
      "text/html": [
       "<div>\n",
       "<style scoped>\n",
       "    .dataframe tbody tr th:only-of-type {\n",
       "        vertical-align: middle;\n",
       "    }\n",
       "\n",
       "    .dataframe tbody tr th {\n",
       "        vertical-align: top;\n",
       "    }\n",
       "\n",
       "    .dataframe thead th {\n",
       "        text-align: right;\n",
       "    }\n",
       "</style>\n",
       "<table border=\"1\" class=\"dataframe\">\n",
       "  <thead>\n",
       "    <tr style=\"text-align: right;\">\n",
       "      <th></th>\n",
       "      <th>0</th>\n",
       "      <th>1</th>\n",
       "      <th>2</th>\n",
       "    </tr>\n",
       "  </thead>\n",
       "  <tbody>\n",
       "    <tr>\n",
       "      <th>0</th>\n",
       "      <td>987</td>\n",
       "      <td>65</td>\n",
       "      <td>4321</td>\n",
       "    </tr>\n",
       "    <tr>\n",
       "      <th>1</th>\n",
       "      <td>NaN</td>\n",
       "      <td>NaN</td>\n",
       "      <td>NaN</td>\n",
       "    </tr>\n",
       "    <tr>\n",
       "      <th>2</th>\n",
       "      <td>123</td>\n",
       "      <td>45</td>\n",
       "      <td>6789</td>\n",
       "    </tr>\n",
       "    <tr>\n",
       "      <th>3</th>\n",
       "      <td>999</td>\n",
       "      <td>99</td>\n",
       "      <td>9999</td>\n",
       "    </tr>\n",
       "  </tbody>\n",
       "</table>\n",
       "</div>"
      ],
      "text/plain": [
       "     0    1     2\n",
       "0  987   65  4321\n",
       "1  NaN  NaN   NaN\n",
       "2  123   45  6789\n",
       "3  999   99  9999"
      ]
     },
     "execution_count": 21,
     "metadata": {},
     "output_type": "execute_result"
    }
   ],
   "source": [
    "pattern_group_mult = r'(\\d{3})-(\\d{2})-(\\d{4})' # 3 groups\n",
    "df_ssn['SSN'].str.extract(pattern_group_mult)"
   ]
  },
  {
   "cell_type": "markdown",
   "metadata": {},
   "source": [
    "Essentially what it does is assigning the groups into columns auto (instead of named variables like above (*hour, minute, second = matches[0]*)). Alternatively, `.str.extractall` extracts **all matches** of each record into separate columns. Rows are then MultiIndexed by original record index and match index. (aka it also shows the number of matches per row too)"
   ]
  },
  {
   "cell_type": "code",
   "execution_count": 22,
   "metadata": {},
   "outputs": [
    {
     "data": {
      "text/html": [
       "<div>\n",
       "<style scoped>\n",
       "    .dataframe tbody tr th:only-of-type {\n",
       "        vertical-align: middle;\n",
       "    }\n",
       "\n",
       "    .dataframe tbody tr th {\n",
       "        vertical-align: top;\n",
       "    }\n",
       "\n",
       "    .dataframe thead th {\n",
       "        text-align: right;\n",
       "    }\n",
       "</style>\n",
       "<table border=\"1\" class=\"dataframe\">\n",
       "  <thead>\n",
       "    <tr style=\"text-align: right;\">\n",
       "      <th></th>\n",
       "      <th></th>\n",
       "      <th>0</th>\n",
       "      <th>1</th>\n",
       "      <th>2</th>\n",
       "    </tr>\n",
       "    <tr>\n",
       "      <th></th>\n",
       "      <th>match</th>\n",
       "      <th></th>\n",
       "      <th></th>\n",
       "      <th></th>\n",
       "    </tr>\n",
       "  </thead>\n",
       "  <tbody>\n",
       "    <tr>\n",
       "      <th>0</th>\n",
       "      <th>0</th>\n",
       "      <td>987</td>\n",
       "      <td>65</td>\n",
       "      <td>4321</td>\n",
       "    </tr>\n",
       "    <tr>\n",
       "      <th rowspan=\"2\" valign=\"top\">2</th>\n",
       "      <th>0</th>\n",
       "      <td>123</td>\n",
       "      <td>45</td>\n",
       "      <td>6789</td>\n",
       "    </tr>\n",
       "    <tr>\n",
       "      <th>1</th>\n",
       "      <td>321</td>\n",
       "      <td>45</td>\n",
       "      <td>6789</td>\n",
       "    </tr>\n",
       "    <tr>\n",
       "      <th>3</th>\n",
       "      <th>0</th>\n",
       "      <td>999</td>\n",
       "      <td>99</td>\n",
       "      <td>9999</td>\n",
       "    </tr>\n",
       "  </tbody>\n",
       "</table>\n",
       "</div>"
      ],
      "text/plain": [
       "           0   1     2\n",
       "  match               \n",
       "0 0      987  65  4321\n",
       "2 0      123  45  6789\n",
       "  1      321  45  6789\n",
       "3 0      999  99  9999"
      ]
     },
     "execution_count": 22,
     "metadata": {},
     "output_type": "execute_result"
    }
   ],
   "source": [
    "# -> DataFrame, one row per match\n",
    "df_ssn['SSN'].str.extractall(pattern_group_mult)"
   ]
  },
  {
   "cell_type": "markdown",
   "metadata": {},
   "source": [
    "## Canonicalisation with Regex\n",
    "\n",
    "We could either use `re.sub` or `str.replace`. The syntax is <- `(pattern, \"\" regex = True)`\n",
    "* (pattern *(i.e. the text to be match)*, \"\" *(aka to be replaced with nothing)*, regex = True)"
   ]
  },
  {
   "cell_type": "markdown",
   "metadata": {},
   "source": [
    "### re.sub\n",
    "In regular Python, canonicalize with `re.sub` (standing for \"substitute\"):"
   ]
  },
  {
   "cell_type": "code",
   "execution_count": 23,
   "metadata": {},
   "outputs": [
    {
     "data": {
      "text/plain": [
       "['<div>', '<td valign=\"top\">', '</td>', '</div>']"
      ]
     },
     "metadata": {},
     "output_type": "display_data"
    },
    {
     "data": {
      "text/plain": [
       "'Moo'"
      ]
     },
     "execution_count": 23,
     "metadata": {},
     "output_type": "execute_result"
    }
   ],
   "source": [
    "import re\n",
    "\n",
    "text = '<div><td valign=\"top\">Moo</td></div>'\n",
    "pattern = r'<[^>]+>'\n",
    "# matches any HTML-like tag, including the opening and closing angle brackets and everything in between.\n",
    "out1 = re.findall(pattern, text)\n",
    "display(out1)\n",
    "re.sub(pattern, '', text)"
   ]
  },
  {
   "cell_type": "markdown",
   "metadata": {},
   "source": [
    "WHAT THE ABOVE IS DOING\n",
    "\n",
    "Match a string that starts with <, followed by one or more characters that are not >, and ends with >.\" This effectively matches HTML or XML tags and allows for capturing the content between the opening and closing tags."
   ]
  },
  {
   "cell_type": "code",
   "execution_count": 24,
   "metadata": {},
   "outputs": [
    {
     "data": {
      "text/plain": [
       "['<div><td valign=\"top\">Moo</td></div>']"
      ]
     },
     "metadata": {},
     "output_type": "display_data"
    },
    {
     "data": {
      "text/plain": [
       "''"
      ]
     },
     "execution_count": 24,
     "metadata": {},
     "output_type": "execute_result"
    }
   ],
   "source": [
    "text = '<div><td valign=\"top\">Moo</td></div>'\n",
    "pattern = r'<.*>'\n",
    "out2 = re.findall(pattern, text)\n",
    "display(out2)\n",
    "re.sub(pattern, '', text)"
   ]
  },
  {
   "cell_type": "markdown",
   "metadata": {},
   "source": [
    "Why the above is problematic:\n",
    "\n",
    "The pattern <.*> starts matching from the first < and continues to match everything until the last >, including all the nested tags and content. As a result, the entire string `<div><td valign=\"top\">Moo</td></div>` is matched as a single occurrence."
   ]
  },
  {
   "cell_type": "code",
   "execution_count": 25,
   "metadata": {},
   "outputs": [
    {
     "data": {
      "text/plain": [
       "'Moo'"
      ]
     },
     "execution_count": 25,
     "metadata": {},
     "output_type": "execute_result"
    }
   ],
   "source": [
    "text = '<div><td valign=\"top\">Moo</td></div>'\n",
    "pattern = r'<.*?>'\n",
    "re.findall(pattern, text)\n",
    "re.sub(pattern, '', text)"
   ]
  },
  {
   "cell_type": "markdown",
   "metadata": {},
   "source": [
    "To fix we could add the `?` cos it tells the code to be less 'greedy' and look for the minimum amount of those that match.\n",
    "\n",
    "Again the first method is the most superior (at least for now) since it prevents any complications from happening even if there are nested tags."
   ]
  },
  {
   "cell_type": "markdown",
   "metadata": {},
   "source": [
    "Breakding down the correct (& recommended) pattern syntax:\n",
    "\n",
    "NEGATE\n",
    "* `[^>]`: This is a character class that matches any character except the closing angle bracket (>). The ^ inside the square brackets negates the character class, meaning it matches any character that is not >. This is useful if you want to ensure that you don't match across multiple HTML tags.\n",
    "\n",
    "WHY DO WE NEED THE + AFTER TH\n",
    "* `r'<[^>]>'`: This pattern matches an opening angle bracket <, followed by a single character that is not >, and then a closing angle bracket >. However, it only matches a single non `>` character.\n",
    "* `+` If you have input like <td>, this pattern would match only <t> because it looks for a single character between < and >. To match the entire tag content, including multiple characters between < and >, you need to use the + quantifier.\n",
    "\n",
    "\n"
   ]
  },
  {
   "cell_type": "markdown",
   "metadata": {},
   "source": [
    "### str.replace\n",
    "\n",
    "In `pandas`, canonicalize with `Series.str.replace`."
   ]
  },
  {
   "cell_type": "code",
   "execution_count": 26,
   "metadata": {},
   "outputs": [
    {
     "data": {
      "text/html": [
       "<div>\n",
       "<style scoped>\n",
       "    .dataframe tbody tr th:only-of-type {\n",
       "        vertical-align: middle;\n",
       "    }\n",
       "\n",
       "    .dataframe tbody tr th {\n",
       "        vertical-align: top;\n",
       "    }\n",
       "\n",
       "    .dataframe thead th {\n",
       "        text-align: right;\n",
       "    }\n",
       "</style>\n",
       "<table border=\"1\" class=\"dataframe\">\n",
       "  <thead>\n",
       "    <tr style=\"text-align: right;\">\n",
       "      <th></th>\n",
       "      <th>Html</th>\n",
       "    </tr>\n",
       "  </thead>\n",
       "  <tbody>\n",
       "    <tr>\n",
       "      <th>0</th>\n",
       "      <td>&lt;div&gt;&lt;td valign=\"top\"&gt;Moo&lt;/td&gt;&lt;/div&gt;</td>\n",
       "    </tr>\n",
       "    <tr>\n",
       "      <th>1</th>\n",
       "      <td>&lt;a href=\"http://ds100.org\"&gt;Link&lt;/a&gt;</td>\n",
       "    </tr>\n",
       "    <tr>\n",
       "      <th>2</th>\n",
       "      <td>&lt;b&gt;Bold text&lt;/b&gt;</td>\n",
       "    </tr>\n",
       "  </tbody>\n",
       "</table>\n",
       "</div>"
      ],
      "text/plain": [
       "                                   Html\n",
       "0  <div><td valign=\"top\">Moo</td></div>\n",
       "1   <a href=\"http://ds100.org\">Link</a>\n",
       "2                      <b>Bold text</b>"
      ]
     },
     "execution_count": 26,
     "metadata": {},
     "output_type": "execute_result"
    }
   ],
   "source": [
    "# example dataframe of strings\n",
    "df_html = pd.DataFrame(['<div><td valign=\"top\">Moo</td></div>',\n",
    "                   '<a href=\"http://ds100.org\">Link</a>',\n",
    "                   '<b>Bold text</b>'], columns = ['Html'])\n",
    "df_html"
   ]
  },
  {
   "cell_type": "markdown",
   "metadata": {},
   "source": [
    "Without setting regex = True, it's looking for literally the word \"html_tag_removal_pattern\" and obvie theres no such thing in the df so the output is a entire, unchanged df."
   ]
  },
  {
   "cell_type": "code",
   "execution_count": 27,
   "metadata": {},
   "outputs": [
    {
     "data": {
      "text/plain": [
       "0    <div><td valign=\"top\">Moo</td></div>\n",
       "1     <a href=\"http://ds100.org\">Link</a>\n",
       "2                        <b>Bold text</b>\n",
       "Name: Html, dtype: object"
      ]
     },
     "execution_count": 27,
     "metadata": {},
     "output_type": "execute_result"
    }
   ],
   "source": [
    "html_tag_removal_pattern = r'<[^>]+>'\n",
    "df_html['Html'].str.replace(html_tag_removal_pattern, \"\")"
   ]
  },
  {
   "cell_type": "markdown",
   "metadata": {},
   "source": [
    "regex = True"
   ]
  },
  {
   "cell_type": "code",
   "execution_count": 28,
   "metadata": {},
   "outputs": [
    {
     "data": {
      "text/plain": [
       "0          Moo\n",
       "1         Link\n",
       "2    Bold text\n",
       "Name: Html, dtype: object"
      ]
     },
     "execution_count": 28,
     "metadata": {},
     "output_type": "execute_result"
    }
   ],
   "source": [
    "df_html['Html'].str.replace(html_tag_removal_pattern, \"\", regex = True)"
   ]
  },
  {
   "cell_type": "markdown",
   "metadata": {},
   "source": [
    "To make it better looking add `to.frame()`"
   ]
  },
  {
   "cell_type": "code",
   "execution_count": 29,
   "metadata": {},
   "outputs": [
    {
     "data": {
      "text/html": [
       "<div>\n",
       "<style scoped>\n",
       "    .dataframe tbody tr th:only-of-type {\n",
       "        vertical-align: middle;\n",
       "    }\n",
       "\n",
       "    .dataframe tbody tr th {\n",
       "        vertical-align: top;\n",
       "    }\n",
       "\n",
       "    .dataframe thead th {\n",
       "        text-align: right;\n",
       "    }\n",
       "</style>\n",
       "<table border=\"1\" class=\"dataframe\">\n",
       "  <thead>\n",
       "    <tr style=\"text-align: right;\">\n",
       "      <th></th>\n",
       "      <th>Html</th>\n",
       "    </tr>\n",
       "  </thead>\n",
       "  <tbody>\n",
       "    <tr>\n",
       "      <th>0</th>\n",
       "      <td>Moo</td>\n",
       "    </tr>\n",
       "    <tr>\n",
       "      <th>1</th>\n",
       "      <td>Link</td>\n",
       "    </tr>\n",
       "    <tr>\n",
       "      <th>2</th>\n",
       "      <td>Bold text</td>\n",
       "    </tr>\n",
       "  </tbody>\n",
       "</table>\n",
       "</div>"
      ],
      "text/plain": [
       "        Html\n",
       "0        Moo\n",
       "1       Link\n",
       "2  Bold text"
      ]
     },
     "execution_count": 29,
     "metadata": {},
     "output_type": "execute_result"
    }
   ],
   "source": [
    "# Series -> df\n",
    "df_html[\"Html\"].str.replace(html_tag_removal_pattern, '', regex = True).to_frame()"
   ]
  },
  {
   "cell_type": "markdown",
   "metadata": {},
   "source": [
    "\n",
    "# Revisiting Text Log Processing using Regex"
   ]
  },
  {
   "cell_type": "markdown",
   "metadata": {},
   "source": [
    "ok back to the intial example of the txt file - we took a detour to learn how regex works now its application time "
   ]
  },
  {
   "cell_type": "markdown",
   "metadata": {},
   "source": [
    "### Python `re` version"
   ]
  },
  {
   "cell_type": "code",
   "execution_count": 30,
   "metadata": {},
   "outputs": [
    {
     "data": {
      "text/plain": [
       "['169.237.46.168 - - [26/Jan/2014:10:47:58 -0800] \"GET /stat141/Winter04/ HTTP/1.1\" 200 2585 \"http://anson.ucdavis.edu/courses/\"\\n',\n",
       " '193.205.203.3 - - [2/Feb/2005:17:23:6 -0800] \"GET /stat141/Notes/dim.html HTTP/1.0\" 404 302 \"http://eeyore.ucdavis.edu/stat141/Notes/session.html\"\\n',\n",
       " '169.237.46.240 - \"\" [3/Feb/2006:10:18:37 -0800] \"GET /stat141/homework/Solutions/hw1Sol.pdf HTTP/1.1\"\\n']"
      ]
     },
     "execution_count": 30,
     "metadata": {},
     "output_type": "execute_result"
    }
   ],
   "source": [
    "log_lines"
   ]
  },
  {
   "cell_type": "code",
   "execution_count": 31,
   "metadata": {},
   "outputs": [
    {
     "data": {
      "text/plain": [
       "'169.237.46.168 - - [26/Jan/2014:10:47:58 -0800] \"GET /stat141/Winter04/ HTTP/1.1\" 200 2585 \"http://anson.ucdavis.edu/courses/\"\\n'"
      ]
     },
     "execution_count": 31,
     "metadata": {},
     "output_type": "execute_result"
    }
   ],
   "source": [
    "# extracting the first line of the file \n",
    "line1 = log_lines[0]\n",
    "line1"
   ]
  },
  {
   "cell_type": "code",
   "execution_count": 32,
   "metadata": {},
   "outputs": [
    {
     "data": {
      "text/plain": [
       "('26', 'Jan', '2014', '10', '47', '58', '-0800')"
      ]
     },
     "execution_count": 32,
     "metadata": {},
     "output_type": "execute_result"
    }
   ],
   "source": [
    "# Goal: we re tryna extract the date, month, year, hour, min, second, and -0800 im assuming its time zone.\n",
    "# error: line1.str.findall(log_pattern)\n",
    "# str object doesnt have attribute str - weird? If str.findall X work -> use re.findall\n",
    "\n",
    "log_pattern = r'(d{2})/(\\w){3}/(\\d{4}):(\\d{2}):(\\d{2})(\\d{2}) (-\\d{4})'\n",
    "# wrong cos i forgot the [], which hugs all the elements you want to find next to each other as a clump (they always exist in [], not any numbers outside of it)\n",
    "# instead of specifying the number of characters you could just use +\n",
    "\n",
    "log_pattern = r'[(\\d+)\\/(\\w+)/(\\d+):(\\d+):(\\d+):(\\d+) (-\\d{4})]'\n",
    "# wrong cos ValueError: not enough values to unpack (expected 7, got 1)\n",
    "# also cant use d or w for the time_zone, for anything complicated just use . for everything\n",
    "\n",
    "log_pattern = r'\\[(\\d+)\\/(\\w+)\\/(\\d+):(\\d+):(\\d+):(\\d+) (.+)\\]'\n",
    "# Breakdown:\n",
    "# type in the og [], replace numbers with \\d, words with \\w\n",
    "# place the groups () around the value groups you wanna extract\n",
    "# time_zone -> complicated -> use .\n",
    "# Instead of specifying the # of characters for each group ({2}), use +.\n",
    "#   The thing is we have to specify where it ends, which is \\ right after the group closing brackets\n",
    "\n",
    "day, month, year, hour, minute, second, time_zone = re.findall(log_pattern, line1)[0]\n",
    "# Without the [0] -> ValueError: not enough values to unpack (expected 7, got 1)\n",
    "# YOU MUST SPECIFY THAT YOURE GETTING THE FIRST MATCH OTHERWISE ITS GONNA SAY VALUEERROR EXPECTED 7 GROUPS BUT ONLY GETTING 1!!! [0]\n",
    "\n",
    "day, month, year, hour, minute, second, time_zone\n",
    "# to print multiple items, separate them with a ,"
   ]
  },
  {
   "cell_type": "markdown",
   "metadata": {},
   "source": [
    "### `pandas` version"
   ]
  },
  {
   "cell_type": "code",
   "execution_count": 33,
   "metadata": {},
   "outputs": [
    {
     "data": {
      "text/html": [
       "<div>\n",
       "<style scoped>\n",
       "    .dataframe tbody tr th:only-of-type {\n",
       "        vertical-align: middle;\n",
       "    }\n",
       "\n",
       "    .dataframe tbody tr th {\n",
       "        vertical-align: top;\n",
       "    }\n",
       "\n",
       "    .dataframe thead th {\n",
       "        text-align: right;\n",
       "    }\n",
       "</style>\n",
       "<table border=\"1\" class=\"dataframe\">\n",
       "  <thead>\n",
       "    <tr style=\"text-align: right;\">\n",
       "      <th></th>\n",
       "      <th>log</th>\n",
       "    </tr>\n",
       "  </thead>\n",
       "  <tbody>\n",
       "    <tr>\n",
       "      <th>0</th>\n",
       "      <td>169.237.46.168 - - [26/Jan/2014:10:47:58 -0800...</td>\n",
       "    </tr>\n",
       "    <tr>\n",
       "      <th>1</th>\n",
       "      <td>193.205.203.3 - - [2/Feb/2005:17:23:6 -0800] \"...</td>\n",
       "    </tr>\n",
       "    <tr>\n",
       "      <th>2</th>\n",
       "      <td>169.237.46.240 - \"\" [3/Feb/2006:10:18:37 -0800...</td>\n",
       "    </tr>\n",
       "  </tbody>\n",
       "</table>\n",
       "</div>"
      ],
      "text/plain": [
       "                                                 log\n",
       "0  169.237.46.168 - - [26/Jan/2014:10:47:58 -0800...\n",
       "1  193.205.203.3 - - [2/Feb/2005:17:23:6 -0800] \"...\n",
       "2  169.237.46.240 - \"\" [3/Feb/2006:10:18:37 -0800..."
      ]
     },
     "execution_count": 33,
     "metadata": {},
     "output_type": "execute_result"
    }
   ],
   "source": [
    "# converting log_lines from series to dataframe using pd instead of to_frame()\n",
    "df = pd.DataFrame(log_lines, columns = ['log'])\n",
    "df"
   ]
  },
  {
   "cell_type": "markdown",
   "metadata": {},
   "source": [
    "Option 1: `Series.str.findall`"
   ]
  },
  {
   "cell_type": "code",
   "execution_count": 34,
   "metadata": {},
   "outputs": [
    {
     "data": {
      "text/plain": [
       "0    [(26, Jan, 2014, 10, 47, 58, -0800)]\n",
       "1      [(2, Feb, 2005, 17, 23, 6, -0800)]\n",
       "2     [(3, Feb, 2006, 10, 18, 37, -0800)]\n",
       "Name: log, dtype: object"
      ]
     },
     "execution_count": 34,
     "metadata": {},
     "output_type": "execute_result"
    }
   ],
   "source": [
    "pattern = r'\\[(\\d+)\\/(\\w+)\\/(\\d+)\\:(\\d+)\\:(\\d+)\\:(\\d+)\\ (.+)\\]'\n",
    "df['log'].str.findall(pattern)"
   ]
  },
  {
   "cell_type": "markdown",
   "metadata": {},
   "source": [
    "\\[ is used to match a literal opening square bracket ([).\n",
    "In regular expressions, some characters have special meanings (e.g., ^, $, ., *, +, ?, (, ), [, {, |, \\). If you want to match one of these characters literally, you need to escape it with a backslash (\\). That's why \\[ is used to match a literal opening square bracket.\n",
    "\n",
    "In your case, when you have text like [26/Jan/2014:10:47:58 -0800], the square brackets are part of the text, and you want to match them literally. Hence, the use of \\[ in the regular expression ensures that the pattern looks for an actual opening square bracket in the text.\n",
    "\n",
    "Without the backslash \\, the square bracket [ would be interpreted as the start of a character class in a regular expression. A character class allows you to match any one of the characters within the brackets.\n",
    "\n",
    "For example, if you have a pattern like [abc], it would match any single character that is either 'a', 'b', or 'c'.\n",
    "\n",
    "To match a literal square bracket, you need to use the backslash \\ to escape it, as in:\n",
    "pattern = r'\\[(\\d+)\\/(\\w+)\\/(\\d+)\\:(\\d+)\\:(\\d+)\\:(\\d+)\\ (.+)\\]'"
   ]
  },
  {
   "cell_type": "code",
   "execution_count": 35,
   "metadata": {},
   "outputs": [
    {
     "data": {
      "text/plain": [
       "0    [(26, Jan, 2014, 10, 47, 58, -0800)]\n",
       "1      [(2, Feb, 2005, 17, 23, 6, -0800)]\n",
       "2     [(3, Feb, 2006, 10, 18, 37, -0800)]\n",
       "Name: log, dtype: object"
      ]
     },
     "execution_count": 35,
     "metadata": {},
     "output_type": "execute_result"
    }
   ],
   "source": [
    "pattern = r'\\[(\\d+)\\/(\\w+)\\/(\\d+):(\\d+):(\\d+):(\\d+) (.+)\\]'\n",
    "df['log'].str.findall(pattern)\n",
    "# have to put a \\ before every [] to make sure it's interpreted literally."
   ]
  },
  {
   "cell_type": "code",
   "execution_count": 36,
   "metadata": {},
   "outputs": [
    {
     "data": {
      "text/html": [
       "<div>\n",
       "<style scoped>\n",
       "    .dataframe tbody tr th:only-of-type {\n",
       "        vertical-align: middle;\n",
       "    }\n",
       "\n",
       "    .dataframe tbody tr th {\n",
       "        vertical-align: top;\n",
       "    }\n",
       "\n",
       "    .dataframe thead th {\n",
       "        text-align: right;\n",
       "    }\n",
       "</style>\n",
       "<table border=\"1\" class=\"dataframe\">\n",
       "  <thead>\n",
       "    <tr style=\"text-align: right;\">\n",
       "      <th></th>\n",
       "      <th></th>\n",
       "      <th>0</th>\n",
       "      <th>1</th>\n",
       "      <th>2</th>\n",
       "      <th>3</th>\n",
       "      <th>4</th>\n",
       "      <th>5</th>\n",
       "      <th>6</th>\n",
       "    </tr>\n",
       "    <tr>\n",
       "      <th></th>\n",
       "      <th>match</th>\n",
       "      <th></th>\n",
       "      <th></th>\n",
       "      <th></th>\n",
       "      <th></th>\n",
       "      <th></th>\n",
       "      <th></th>\n",
       "      <th></th>\n",
       "    </tr>\n",
       "  </thead>\n",
       "  <tbody>\n",
       "    <tr>\n",
       "      <th>0</th>\n",
       "      <th>0</th>\n",
       "      <td>26</td>\n",
       "      <td>Jan</td>\n",
       "      <td>2014</td>\n",
       "      <td>10</td>\n",
       "      <td>47</td>\n",
       "      <td>58</td>\n",
       "      <td>-0800</td>\n",
       "    </tr>\n",
       "    <tr>\n",
       "      <th>1</th>\n",
       "      <th>0</th>\n",
       "      <td>2</td>\n",
       "      <td>Feb</td>\n",
       "      <td>2005</td>\n",
       "      <td>17</td>\n",
       "      <td>23</td>\n",
       "      <td>6</td>\n",
       "      <td>-0800</td>\n",
       "    </tr>\n",
       "    <tr>\n",
       "      <th>2</th>\n",
       "      <th>0</th>\n",
       "      <td>3</td>\n",
       "      <td>Feb</td>\n",
       "      <td>2006</td>\n",
       "      <td>10</td>\n",
       "      <td>18</td>\n",
       "      <td>37</td>\n",
       "      <td>-0800</td>\n",
       "    </tr>\n",
       "  </tbody>\n",
       "</table>\n",
       "</div>"
      ],
      "text/plain": [
       "          0    1     2   3   4   5      6\n",
       "  match                                  \n",
       "0 0      26  Jan  2014  10  47  58  -0800\n",
       "1 0       2  Feb  2005  17  23   6  -0800\n",
       "2 0       3  Feb  2006  10  18  37  -0800"
      ]
     },
     "execution_count": 36,
     "metadata": {},
     "output_type": "execute_result"
    }
   ],
   "source": [
    "dfclean = df['log'].str.extractall(pattern)\n",
    "dfclean"
   ]
  },
  {
   "cell_type": "markdown",
   "metadata": {},
   "source": [
    "Option 2: `Series.str.extractall`"
   ]
  },
  {
   "cell_type": "markdown",
   "metadata": {},
   "source": [
    "Wrangling either of these two DataFrames into a nice format (like below) is left as an exercise for you! You will do a related problem on the homework.\n",
    "\n",
    "\n",
    "||Day|Month|Year|Hour|Minute|Second|Time Zone|\n",
    "|---|---|---|---|---|---|---|---|\n",
    "|0|26|Jan|2014|10|47|58|-0800|\n",
    "|1|2|Feb|2005|17|23|6|-0800|\n",
    "|2|3|Feb|2006|10|18|37|-0800|\n"
   ]
  },
  {
   "cell_type": "code",
   "execution_count": 37,
   "metadata": {},
   "outputs": [
    {
     "data": {
      "text/html": [
       "<div>\n",
       "<style scoped>\n",
       "    .dataframe tbody tr th:only-of-type {\n",
       "        vertical-align: middle;\n",
       "    }\n",
       "\n",
       "    .dataframe tbody tr th {\n",
       "        vertical-align: top;\n",
       "    }\n",
       "\n",
       "    .dataframe thead th {\n",
       "        text-align: right;\n",
       "    }\n",
       "</style>\n",
       "<table border=\"1\" class=\"dataframe\">\n",
       "  <thead>\n",
       "    <tr style=\"text-align: right;\">\n",
       "      <th></th>\n",
       "      <th>0</th>\n",
       "      <th>1</th>\n",
       "      <th>2</th>\n",
       "      <th>3</th>\n",
       "      <th>4</th>\n",
       "      <th>5</th>\n",
       "      <th>6</th>\n",
       "    </tr>\n",
       "  </thead>\n",
       "  <tbody>\n",
       "    <tr>\n",
       "      <th>0</th>\n",
       "      <td>26</td>\n",
       "      <td>Jan</td>\n",
       "      <td>2014</td>\n",
       "      <td>10</td>\n",
       "      <td>47</td>\n",
       "      <td>58</td>\n",
       "      <td>-0800</td>\n",
       "    </tr>\n",
       "    <tr>\n",
       "      <th>1</th>\n",
       "      <td>2</td>\n",
       "      <td>Feb</td>\n",
       "      <td>2005</td>\n",
       "      <td>17</td>\n",
       "      <td>23</td>\n",
       "      <td>6</td>\n",
       "      <td>-0800</td>\n",
       "    </tr>\n",
       "    <tr>\n",
       "      <th>2</th>\n",
       "      <td>3</td>\n",
       "      <td>Feb</td>\n",
       "      <td>2006</td>\n",
       "      <td>10</td>\n",
       "      <td>18</td>\n",
       "      <td>37</td>\n",
       "      <td>-0800</td>\n",
       "    </tr>\n",
       "  </tbody>\n",
       "</table>\n",
       "</div>"
      ],
      "text/plain": [
       "    0    1     2   3   4   5      6\n",
       "0  26  Jan  2014  10  47  58  -0800\n",
       "1   2  Feb  2005  17  23   6  -0800\n",
       "2   3  Feb  2006  10  18  37  -0800"
      ]
     },
     "execution_count": 37,
     "metadata": {},
     "output_type": "execute_result"
    }
   ],
   "source": [
    "dfclean = dfclean.reset_index(drop = True)\n",
    "dfclean"
   ]
  },
  {
   "cell_type": "code",
   "execution_count": 38,
   "metadata": {},
   "outputs": [
    {
     "data": {
      "text/html": [
       "<div>\n",
       "<style scoped>\n",
       "    .dataframe tbody tr th:only-of-type {\n",
       "        vertical-align: middle;\n",
       "    }\n",
       "\n",
       "    .dataframe tbody tr th {\n",
       "        vertical-align: top;\n",
       "    }\n",
       "\n",
       "    .dataframe thead th {\n",
       "        text-align: right;\n",
       "    }\n",
       "</style>\n",
       "<table border=\"1\" class=\"dataframe\">\n",
       "  <thead>\n",
       "    <tr style=\"text-align: right;\">\n",
       "      <th></th>\n",
       "      <th>Year</th>\n",
       "      <th>Hour</th>\n",
       "      <th>Minute</th>\n",
       "      <th>Day</th>\n",
       "      <th>Month</th>\n",
       "      <th>Second</th>\n",
       "      <th>Time Zone</th>\n",
       "    </tr>\n",
       "  </thead>\n",
       "  <tbody>\n",
       "    <tr>\n",
       "      <th>0</th>\n",
       "      <td>26</td>\n",
       "      <td>Jan</td>\n",
       "      <td>2014</td>\n",
       "      <td>10</td>\n",
       "      <td>47</td>\n",
       "      <td>58</td>\n",
       "      <td>-0800</td>\n",
       "    </tr>\n",
       "    <tr>\n",
       "      <th>1</th>\n",
       "      <td>2</td>\n",
       "      <td>Feb</td>\n",
       "      <td>2005</td>\n",
       "      <td>17</td>\n",
       "      <td>23</td>\n",
       "      <td>6</td>\n",
       "      <td>-0800</td>\n",
       "    </tr>\n",
       "    <tr>\n",
       "      <th>2</th>\n",
       "      <td>3</td>\n",
       "      <td>Feb</td>\n",
       "      <td>2006</td>\n",
       "      <td>10</td>\n",
       "      <td>18</td>\n",
       "      <td>37</td>\n",
       "      <td>-0800</td>\n",
       "    </tr>\n",
       "  </tbody>\n",
       "</table>\n",
       "</div>"
      ],
      "text/plain": [
       "  Year Hour Minute Day Month Second Time Zone\n",
       "0   26  Jan   2014  10    47     58     -0800\n",
       "1    2  Feb   2005  17    23      6     -0800\n",
       "2    3  Feb   2006  10    18     37     -0800"
      ]
     },
     "execution_count": 38,
     "metadata": {},
     "output_type": "execute_result"
    }
   ],
   "source": [
    "dfclean.columns = {'Day', 'Month', 'Year', 'Hour', 'Minute', 'Second', 'Time Zone'}\n",
    "dfclean"
   ]
  },
  {
   "cell_type": "markdown",
   "metadata": {},
   "source": [
    "---\n",
    "\n",
    "# Real World Case Study: Restaurant Data\n",
    "\n",
    "In this example, we will show how regexes can allow us to track quantitative data across categories defined by the appearance of various text fields.\n",
    "\n",
    "In this example we'll see how the presence of certain keywords can affect quantitative data:\n",
    "\n",
    "> **How do restaurant health scores vary as a function of the number of violations that mention a particular keyword?** \n",
    "> <br/>\n",
    "> (e.g., unclean surfaces, vermin, permits, etc.)"
   ]
  },
  {
   "cell_type": "markdown",
   "metadata": {},
   "source": [
    "Task 1. Shorten column names -> Create a dataframe that prints all the descriptions and their counts."
   ]
  },
  {
   "cell_type": "code",
   "execution_count": 39,
   "metadata": {},
   "outputs": [
    {
     "data": {
      "text/html": [
       "<div>\n",
       "<style scoped>\n",
       "    .dataframe tbody tr th:only-of-type {\n",
       "        vertical-align: middle;\n",
       "    }\n",
       "\n",
       "    .dataframe tbody tr th {\n",
       "        vertical-align: top;\n",
       "    }\n",
       "\n",
       "    .dataframe thead th {\n",
       "        text-align: right;\n",
       "    }\n",
       "</style>\n",
       "<table border=\"1\" class=\"dataframe\">\n",
       "  <thead>\n",
       "    <tr style=\"text-align: right;\">\n",
       "      <th></th>\n",
       "      <th>id</th>\n",
       "      <th>date</th>\n",
       "      <th>desc</th>\n",
       "    </tr>\n",
       "  </thead>\n",
       "  <tbody>\n",
       "    <tr>\n",
       "      <th>0</th>\n",
       "      <td>19</td>\n",
       "      <td>20171211</td>\n",
       "      <td>Inadequate food safety knowledge or lack of ce...</td>\n",
       "    </tr>\n",
       "    <tr>\n",
       "      <th>1</th>\n",
       "      <td>19</td>\n",
       "      <td>20171211</td>\n",
       "      <td>Unapproved or unmaintained equipment or utensils</td>\n",
       "    </tr>\n",
       "    <tr>\n",
       "      <th>2</th>\n",
       "      <td>19</td>\n",
       "      <td>20160513</td>\n",
       "      <td>Unapproved or unmaintained equipment or utensi...</td>\n",
       "    </tr>\n",
       "    <tr>\n",
       "      <th>3</th>\n",
       "      <td>19</td>\n",
       "      <td>20160513</td>\n",
       "      <td>Unclean or degraded floors walls or ceilings  ...</td>\n",
       "    </tr>\n",
       "    <tr>\n",
       "      <th>4</th>\n",
       "      <td>19</td>\n",
       "      <td>20160513</td>\n",
       "      <td>Food safety certificate or food handler card n...</td>\n",
       "    </tr>\n",
       "    <tr>\n",
       "      <th>...</th>\n",
       "      <td>...</td>\n",
       "      <td>...</td>\n",
       "      <td>...</td>\n",
       "    </tr>\n",
       "    <tr>\n",
       "      <th>39037</th>\n",
       "      <td>94189</td>\n",
       "      <td>20171130</td>\n",
       "      <td>Insufficient hot water or running water</td>\n",
       "    </tr>\n",
       "    <tr>\n",
       "      <th>39038</th>\n",
       "      <td>94231</td>\n",
       "      <td>20171214</td>\n",
       "      <td>Unclean nonfood contact surfaces  [ date viola...</td>\n",
       "    </tr>\n",
       "    <tr>\n",
       "      <th>39039</th>\n",
       "      <td>94231</td>\n",
       "      <td>20171214</td>\n",
       "      <td>High risk vermin infestation  [ date violation...</td>\n",
       "    </tr>\n",
       "    <tr>\n",
       "      <th>39040</th>\n",
       "      <td>94231</td>\n",
       "      <td>20171214</td>\n",
       "      <td>Moderate risk food holding temperature   [ dat...</td>\n",
       "    </tr>\n",
       "    <tr>\n",
       "      <th>39041</th>\n",
       "      <td>94231</td>\n",
       "      <td>20171214</td>\n",
       "      <td>Wiping cloths not clean or properly stored or ...</td>\n",
       "    </tr>\n",
       "  </tbody>\n",
       "</table>\n",
       "<p>39042 rows × 3 columns</p>\n",
       "</div>"
      ],
      "text/plain": [
       "          id      date                                               desc\n",
       "0         19  20171211  Inadequate food safety knowledge or lack of ce...\n",
       "1         19  20171211   Unapproved or unmaintained equipment or utensils\n",
       "2         19  20160513  Unapproved or unmaintained equipment or utensi...\n",
       "3         19  20160513  Unclean or degraded floors walls or ceilings  ...\n",
       "4         19  20160513  Food safety certificate or food handler card n...\n",
       "...      ...       ...                                                ...\n",
       "39037  94189  20171130            Insufficient hot water or running water\n",
       "39038  94231  20171214  Unclean nonfood contact surfaces  [ date viola...\n",
       "39039  94231  20171214  High risk vermin infestation  [ date violation...\n",
       "39040  94231  20171214  Moderate risk food holding temperature   [ dat...\n",
       "39041  94231  20171214  Wiping cloths not clean or properly stored or ...\n",
       "\n",
       "[39042 rows x 3 columns]"
      ]
     },
     "execution_count": 39,
     "metadata": {},
     "output_type": "execute_result"
    }
   ],
   "source": [
    "vio = pd.read_csv('../DATA/violations.csv')\n",
    "vio.columns = ['id', 'date', 'desc']\n",
    "vio"
   ]
  },
  {
   "cell_type": "code",
   "execution_count": 49,
   "metadata": {},
   "outputs": [
    {
     "name": "stdout",
     "output_type": "stream",
     "text": [
      "(14253, 2)\n"
     ]
    },
    {
     "data": {
      "text/html": [
       "<div>\n",
       "<style scoped>\n",
       "    .dataframe tbody tr th:only-of-type {\n",
       "        vertical-align: middle;\n",
       "    }\n",
       "\n",
       "    .dataframe tbody tr th {\n",
       "        vertical-align: top;\n",
       "    }\n",
       "\n",
       "    .dataframe thead th {\n",
       "        text-align: right;\n",
       "    }\n",
       "</style>\n",
       "<table border=\"1\" class=\"dataframe\">\n",
       "  <thead>\n",
       "    <tr style=\"text-align: right;\">\n",
       "      <th></th>\n",
       "      <th>desc</th>\n",
       "      <th>count</th>\n",
       "    </tr>\n",
       "  </thead>\n",
       "  <tbody>\n",
       "    <tr>\n",
       "      <th>0</th>\n",
       "      <td>Unclean or degraded floors walls or ceilings</td>\n",
       "      <td>999</td>\n",
       "    </tr>\n",
       "    <tr>\n",
       "      <th>1</th>\n",
       "      <td>Unapproved or unmaintained equipment or utensils</td>\n",
       "      <td>659</td>\n",
       "    </tr>\n",
       "    <tr>\n",
       "      <th>2</th>\n",
       "      <td>Inadequately cleaned or sanitized food contact...</td>\n",
       "      <td>493</td>\n",
       "    </tr>\n",
       "    <tr>\n",
       "      <th>3</th>\n",
       "      <td>Improper food storage</td>\n",
       "      <td>476</td>\n",
       "    </tr>\n",
       "    <tr>\n",
       "      <th>4</th>\n",
       "      <td>Inadequate and inaccessible handwashing facili...</td>\n",
       "      <td>467</td>\n",
       "    </tr>\n",
       "    <tr>\n",
       "      <th>...</th>\n",
       "      <td>...</td>\n",
       "      <td>...</td>\n",
       "    </tr>\n",
       "    <tr>\n",
       "      <th>14248</th>\n",
       "      <td>Unclean nonfood contact surfaces  [ date viola...</td>\n",
       "      <td>1</td>\n",
       "    </tr>\n",
       "    <tr>\n",
       "      <th>14249</th>\n",
       "      <td>Inadequate warewashing facilities or equipment...</td>\n",
       "      <td>1</td>\n",
       "    </tr>\n",
       "    <tr>\n",
       "      <th>14250</th>\n",
       "      <td>Moderate risk food holding temperature   [ dat...</td>\n",
       "      <td>1</td>\n",
       "    </tr>\n",
       "    <tr>\n",
       "      <th>14251</th>\n",
       "      <td>Improper cooling methods  [ date violation cor...</td>\n",
       "      <td>1</td>\n",
       "    </tr>\n",
       "    <tr>\n",
       "      <th>14252</th>\n",
       "      <td>Other moderate risk violation  [ date violatio...</td>\n",
       "      <td>1</td>\n",
       "    </tr>\n",
       "  </tbody>\n",
       "</table>\n",
       "<p>14253 rows × 2 columns</p>\n",
       "</div>"
      ],
      "text/plain": [
       "                                                    desc  count\n",
       "0           Unclean or degraded floors walls or ceilings    999\n",
       "1       Unapproved or unmaintained equipment or utensils    659\n",
       "2      Inadequately cleaned or sanitized food contact...    493\n",
       "3                                  Improper food storage    476\n",
       "4      Inadequate and inaccessible handwashing facili...    467\n",
       "...                                                  ...    ...\n",
       "14248  Unclean nonfood contact surfaces  [ date viola...      1\n",
       "14249  Inadequate warewashing facilities or equipment...      1\n",
       "14250  Moderate risk food holding temperature   [ dat...      1\n",
       "14251  Improper cooling methods  [ date violation cor...      1\n",
       "14252  Other moderate risk violation  [ date violatio...      1\n",
       "\n",
       "[14253 rows x 2 columns]"
      ]
     },
     "execution_count": 49,
     "metadata": {},
     "output_type": "execute_result"
    }
   ],
   "source": [
    "desc_counts = vio['desc'].value_counts().reset_index()\n",
    "print(desc_counts.shape)\n",
    "desc_counts"
   ]
  },
  {
   "cell_type": "markdown",
   "metadata": {},
   "source": [
    "That's a lot of different descriptions!! Can we **canonicalize** at all? Let's explore two sets of 10 rows."
   ]
  },
  {
   "cell_type": "code",
   "execution_count": 44,
   "metadata": {
    "scrolled": true
   },
   "outputs": [
    {
     "data": {
      "text/html": [
       "<div>\n",
       "<style scoped>\n",
       "    .dataframe tbody tr th:only-of-type {\n",
       "        vertical-align: middle;\n",
       "    }\n",
       "\n",
       "    .dataframe tbody tr th {\n",
       "        vertical-align: top;\n",
       "    }\n",
       "\n",
       "    .dataframe thead th {\n",
       "        text-align: right;\n",
       "    }\n",
       "</style>\n",
       "<table border=\"1\" class=\"dataframe\">\n",
       "  <thead>\n",
       "    <tr style=\"text-align: right;\">\n",
       "      <th></th>\n",
       "      <th>desc</th>\n",
       "      <th>count</th>\n",
       "    </tr>\n",
       "  </thead>\n",
       "  <tbody>\n",
       "    <tr>\n",
       "      <th>52</th>\n",
       "      <td>Inadequate HACCP plan record keeping</td>\n",
       "      <td>16</td>\n",
       "    </tr>\n",
       "    <tr>\n",
       "      <th>53</th>\n",
       "      <td>Unclean or degraded floors walls or ceilings  ...</td>\n",
       "      <td>15</td>\n",
       "    </tr>\n",
       "    <tr>\n",
       "      <th>54</th>\n",
       "      <td>Unclean or degraded floors walls or ceilings  ...</td>\n",
       "      <td>15</td>\n",
       "    </tr>\n",
       "    <tr>\n",
       "      <th>55</th>\n",
       "      <td>Inadequately cleaned or sanitized food contact...</td>\n",
       "      <td>14</td>\n",
       "    </tr>\n",
       "    <tr>\n",
       "      <th>56</th>\n",
       "      <td>Unclean or degraded floors walls or ceilings  ...</td>\n",
       "      <td>14</td>\n",
       "    </tr>\n",
       "  </tbody>\n",
       "</table>\n",
       "</div>"
      ],
      "text/plain": [
       "                                                 desc  count\n",
       "52               Inadequate HACCP plan record keeping     16\n",
       "53  Unclean or degraded floors walls or ceilings  ...     15\n",
       "54  Unclean or degraded floors walls or ceilings  ...     15\n",
       "55  Inadequately cleaned or sanitized food contact...     14\n",
       "56  Unclean or degraded floors walls or ceilings  ...     14"
      ]
     },
     "execution_count": 44,
     "metadata": {},
     "output_type": "execute_result"
    }
   ],
   "source": [
    "desc_counts[52:57]"
   ]
  },
  {
   "cell_type": "markdown",
   "metadata": {},
   "source": [
    "Task 2. Identify problem -> clean up text data.\n",
    "\n",
    "We wanna remove the [] thingies."
   ]
  },
  {
   "cell_type": "code",
   "execution_count": 45,
   "metadata": {},
   "outputs": [
    {
     "data": {
      "text/plain": [
       "0                                               []\n",
       "1                                               []\n",
       "2                                               []\n",
       "3                                               []\n",
       "4                                               []\n",
       "                           ...                    \n",
       "14248    [[ date violation corrected: 6/15/2017 ]]\n",
       "14249    [[ date violation corrected: 7/21/2015 ]]\n",
       "14250    [[ date violation corrected: 7/21/2015 ]]\n",
       "14251     [[ date violation corrected: 9/1/2017 ]]\n",
       "14252    [[ date violation corrected: 1/12/2018 ]]\n",
       "Name: desc, Length: 14253, dtype: object"
      ]
     },
     "execution_count": 45,
     "metadata": {},
     "output_type": "execute_result"
    }
   ],
   "source": [
    "# 1. Basic raw string: r''\n",
    "# 2. We wanna capture every betwene [] -> [.]\n",
    "# 3. We want the [] to be interpreted literally, not as signs denoting character class so we need to put a \\ in front.\n",
    "# -> \\[.\\]. but this will only match the first valid character -> need a +\n",
    "clean_pattern = r'\\[.+\\]'\n",
    "\n",
    "import re\n",
    "desc_counts['desc'].str.findall(clean_pattern)"
   ]
  },
  {
   "cell_type": "markdown",
   "metadata": {},
   "source": [
    "normal replace X work cos we r finding the clean_pattern lITERALLY. it should be interpreted as regex -> set regex = True"
   ]
  },
  {
   "cell_type": "code",
   "execution_count": 46,
   "metadata": {},
   "outputs": [
    {
     "data": {
      "text/html": [
       "<div>\n",
       "<style scoped>\n",
       "    .dataframe tbody tr th:only-of-type {\n",
       "        vertical-align: middle;\n",
       "    }\n",
       "\n",
       "    .dataframe tbody tr th {\n",
       "        vertical-align: top;\n",
       "    }\n",
       "\n",
       "    .dataframe thead th {\n",
       "        text-align: right;\n",
       "    }\n",
       "</style>\n",
       "<table border=\"1\" class=\"dataframe\">\n",
       "  <thead>\n",
       "    <tr style=\"text-align: right;\">\n",
       "      <th></th>\n",
       "      <th>id</th>\n",
       "      <th>date</th>\n",
       "      <th>desc</th>\n",
       "      <th>clean_desc</th>\n",
       "    </tr>\n",
       "  </thead>\n",
       "  <tbody>\n",
       "    <tr>\n",
       "      <th>0</th>\n",
       "      <td>19</td>\n",
       "      <td>20171211</td>\n",
       "      <td>Inadequate food safety knowledge or lack of ce...</td>\n",
       "      <td>inadequate food safety knowledge or lack of ce...</td>\n",
       "    </tr>\n",
       "    <tr>\n",
       "      <th>1</th>\n",
       "      <td>19</td>\n",
       "      <td>20171211</td>\n",
       "      <td>Unapproved or unmaintained equipment or utensils</td>\n",
       "      <td>unapproved or unmaintained equipment or utensils</td>\n",
       "    </tr>\n",
       "    <tr>\n",
       "      <th>2</th>\n",
       "      <td>19</td>\n",
       "      <td>20160513</td>\n",
       "      <td>Unapproved or unmaintained equipment or utensi...</td>\n",
       "      <td>unapproved or unmaintained equipment or utensils</td>\n",
       "    </tr>\n",
       "    <tr>\n",
       "      <th>3</th>\n",
       "      <td>19</td>\n",
       "      <td>20160513</td>\n",
       "      <td>Unclean or degraded floors walls or ceilings  ...</td>\n",
       "      <td>unclean or degraded floors walls or ceilings</td>\n",
       "    </tr>\n",
       "    <tr>\n",
       "      <th>4</th>\n",
       "      <td>19</td>\n",
       "      <td>20160513</td>\n",
       "      <td>Food safety certificate or food handler card n...</td>\n",
       "      <td>food safety certificate or food handler card n...</td>\n",
       "    </tr>\n",
       "    <tr>\n",
       "      <th>...</th>\n",
       "      <td>...</td>\n",
       "      <td>...</td>\n",
       "      <td>...</td>\n",
       "      <td>...</td>\n",
       "    </tr>\n",
       "    <tr>\n",
       "      <th>39037</th>\n",
       "      <td>94189</td>\n",
       "      <td>20171130</td>\n",
       "      <td>Insufficient hot water or running water</td>\n",
       "      <td>insufficient hot water or running water</td>\n",
       "    </tr>\n",
       "    <tr>\n",
       "      <th>39038</th>\n",
       "      <td>94231</td>\n",
       "      <td>20171214</td>\n",
       "      <td>Unclean nonfood contact surfaces  [ date viola...</td>\n",
       "      <td>unclean nonfood contact surfaces</td>\n",
       "    </tr>\n",
       "    <tr>\n",
       "      <th>39039</th>\n",
       "      <td>94231</td>\n",
       "      <td>20171214</td>\n",
       "      <td>High risk vermin infestation  [ date violation...</td>\n",
       "      <td>high risk vermin infestation</td>\n",
       "    </tr>\n",
       "    <tr>\n",
       "      <th>39040</th>\n",
       "      <td>94231</td>\n",
       "      <td>20171214</td>\n",
       "      <td>Moderate risk food holding temperature   [ dat...</td>\n",
       "      <td>moderate risk food holding temperature</td>\n",
       "    </tr>\n",
       "    <tr>\n",
       "      <th>39041</th>\n",
       "      <td>94231</td>\n",
       "      <td>20171214</td>\n",
       "      <td>Wiping cloths not clean or properly stored or ...</td>\n",
       "      <td>wiping cloths not clean or properly stored or ...</td>\n",
       "    </tr>\n",
       "  </tbody>\n",
       "</table>\n",
       "<p>39042 rows × 4 columns</p>\n",
       "</div>"
      ],
      "text/plain": [
       "          id      date                                               desc  \\\n",
       "0         19  20171211  Inadequate food safety knowledge or lack of ce...   \n",
       "1         19  20171211   Unapproved or unmaintained equipment or utensils   \n",
       "2         19  20160513  Unapproved or unmaintained equipment or utensi...   \n",
       "3         19  20160513  Unclean or degraded floors walls or ceilings  ...   \n",
       "4         19  20160513  Food safety certificate or food handler card n...   \n",
       "...      ...       ...                                                ...   \n",
       "39037  94189  20171130            Insufficient hot water or running water   \n",
       "39038  94231  20171214  Unclean nonfood contact surfaces  [ date viola...   \n",
       "39039  94231  20171214  High risk vermin infestation  [ date violation...   \n",
       "39040  94231  20171214  Moderate risk food holding temperature   [ dat...   \n",
       "39041  94231  20171214  Wiping cloths not clean or properly stored or ...   \n",
       "\n",
       "                                              clean_desc  \n",
       "0      inadequate food safety knowledge or lack of ce...  \n",
       "1       unapproved or unmaintained equipment or utensils  \n",
       "2       unapproved or unmaintained equipment or utensils  \n",
       "3           unclean or degraded floors walls or ceilings  \n",
       "4      food safety certificate or food handler card n...  \n",
       "...                                                  ...  \n",
       "39037            insufficient hot water or running water  \n",
       "39038                   unclean nonfood contact surfaces  \n",
       "39039                       high risk vermin infestation  \n",
       "39040             moderate risk food holding temperature  \n",
       "39041  wiping cloths not clean or properly stored or ...  \n",
       "\n",
       "[39042 rows x 4 columns]"
      ]
     },
     "execution_count": 46,
     "metadata": {},
     "output_type": "execute_result"
    }
   ],
   "source": [
    "vio['clean_desc'] = (\n",
    "    vio['desc']\n",
    "    .str.replace(clean_pattern, \"\", regex = True)\n",
    "    .str.strip() # to remove trailing white spaces\n",
    "    .str.lower()\n",
    ")\n",
    "vio"
   ]
  },
  {
   "cell_type": "code",
   "execution_count": 47,
   "metadata": {},
   "outputs": [
    {
     "data": {
      "text/plain": [
       "(68,)"
      ]
     },
     "execution_count": 47,
     "metadata": {},
     "output_type": "execute_result"
    }
   ],
   "source": [
    "vio['clean_desc'].value_counts().shape"
   ]
  },
  {
   "cell_type": "code",
   "execution_count": 48,
   "metadata": {},
   "outputs": [
    {
     "data": {
      "text/plain": [
       "clean_desc\n",
       "unclean or degraded floors walls or ceilings               3507\n",
       "moderate risk food holding temperature                     2542\n",
       "inadequate and inaccessible handwashing facilities         2529\n",
       "unapproved or unmaintained equipment or utensils           2382\n",
       "inadequately cleaned or sanitized food contact surfaces    2301\n",
       "Name: count, dtype: int64"
      ]
     },
     "execution_count": 48,
     "metadata": {},
     "output_type": "execute_result"
    }
   ],
   "source": [
    "vio['clean_desc'].value_counts().head()"
   ]
  },
  {
   "cell_type": "markdown",
   "metadata": {},
   "source": [
    "Remember our research question:\n",
    "\n",
    "> **How do restaurant health scores vary as a function of the number of violations that mention a particular keyword?** \n",
    "> <br/>\n",
    "> (e.g., unclean surfaces, vermin, permits, etc.)\n",
    "\n",
    "<br/>\n",
    "\n",
    "Below, we use regular expressions and `df.assign()` ([documentation](https://pandas.pydata.org/pandas-docs/stable/reference/api/pandas.DataFrame.assign.html?highlight=assign#pandas.DataFrame.assign)) to **method chain** our creation of new boolean features, one per keyword. Assign new columns to a DataFrame.\n",
    "\n",
    "Returns a new object with all original columns in addition to new ones. Existing columns that are re-assigned will be overwritten. The difference concerns whether you wish to modify an existing frame, or create a new frame while maintaining the original frame as it was.\n",
    "\n",
    "**In particular, DataFrame.assign returns you a new object that has a copy of the original data with the requested changes ... the original frame remains unchanged.**"
   ]
  },
  {
   "cell_type": "code",
   "execution_count": 50,
   "metadata": {},
   "outputs": [
    {
     "data": {
      "text/html": [
       "<div>\n",
       "<style scoped>\n",
       "    .dataframe tbody tr th:only-of-type {\n",
       "        vertical-align: middle;\n",
       "    }\n",
       "\n",
       "    .dataframe tbody tr th {\n",
       "        vertical-align: top;\n",
       "    }\n",
       "\n",
       "    .dataframe thead th {\n",
       "        text-align: right;\n",
       "    }\n",
       "</style>\n",
       "<table border=\"1\" class=\"dataframe\">\n",
       "  <thead>\n",
       "    <tr style=\"text-align: right;\">\n",
       "      <th></th>\n",
       "      <th>id</th>\n",
       "      <th>date</th>\n",
       "      <th>desc</th>\n",
       "      <th>clean_desc</th>\n",
       "      <th>is_unclean</th>\n",
       "      <th>is_high_risk</th>\n",
       "      <th>is_vermin</th>\n",
       "      <th>is_surface</th>\n",
       "      <th>is_human</th>\n",
       "      <th>is_permit</th>\n",
       "    </tr>\n",
       "  </thead>\n",
       "  <tbody>\n",
       "    <tr>\n",
       "      <th>0</th>\n",
       "      <td>19</td>\n",
       "      <td>20171211</td>\n",
       "      <td>Inadequate food safety knowledge or lack of ce...</td>\n",
       "      <td>inadequate food safety knowledge or lack of ce...</td>\n",
       "      <td>False</td>\n",
       "      <td>False</td>\n",
       "      <td>False</td>\n",
       "      <td>False</td>\n",
       "      <td>False</td>\n",
       "      <td>True</td>\n",
       "    </tr>\n",
       "    <tr>\n",
       "      <th>1</th>\n",
       "      <td>19</td>\n",
       "      <td>20171211</td>\n",
       "      <td>Unapproved or unmaintained equipment or utensils</td>\n",
       "      <td>unapproved or unmaintained equipment or utensils</td>\n",
       "      <td>False</td>\n",
       "      <td>False</td>\n",
       "      <td>False</td>\n",
       "      <td>False</td>\n",
       "      <td>False</td>\n",
       "      <td>False</td>\n",
       "    </tr>\n",
       "    <tr>\n",
       "      <th>2</th>\n",
       "      <td>19</td>\n",
       "      <td>20160513</td>\n",
       "      <td>Unapproved or unmaintained equipment or utensi...</td>\n",
       "      <td>unapproved or unmaintained equipment or utensils</td>\n",
       "      <td>False</td>\n",
       "      <td>False</td>\n",
       "      <td>False</td>\n",
       "      <td>False</td>\n",
       "      <td>False</td>\n",
       "      <td>False</td>\n",
       "    </tr>\n",
       "    <tr>\n",
       "      <th>3</th>\n",
       "      <td>19</td>\n",
       "      <td>20160513</td>\n",
       "      <td>Unclean or degraded floors walls or ceilings  ...</td>\n",
       "      <td>unclean or degraded floors walls or ceilings</td>\n",
       "      <td>True</td>\n",
       "      <td>False</td>\n",
       "      <td>False</td>\n",
       "      <td>True</td>\n",
       "      <td>False</td>\n",
       "      <td>False</td>\n",
       "    </tr>\n",
       "    <tr>\n",
       "      <th>4</th>\n",
       "      <td>19</td>\n",
       "      <td>20160513</td>\n",
       "      <td>Food safety certificate or food handler card n...</td>\n",
       "      <td>food safety certificate or food handler card n...</td>\n",
       "      <td>False</td>\n",
       "      <td>False</td>\n",
       "      <td>False</td>\n",
       "      <td>False</td>\n",
       "      <td>True</td>\n",
       "      <td>True</td>\n",
       "    </tr>\n",
       "  </tbody>\n",
       "</table>\n",
       "</div>"
      ],
      "text/plain": [
       "   id      date                                               desc  \\\n",
       "0  19  20171211  Inadequate food safety knowledge or lack of ce...   \n",
       "1  19  20171211   Unapproved or unmaintained equipment or utensils   \n",
       "2  19  20160513  Unapproved or unmaintained equipment or utensi...   \n",
       "3  19  20160513  Unclean or degraded floors walls or ceilings  ...   \n",
       "4  19  20160513  Food safety certificate or food handler card n...   \n",
       "\n",
       "                                          clean_desc  is_unclean  \\\n",
       "0  inadequate food safety knowledge or lack of ce...       False   \n",
       "1   unapproved or unmaintained equipment or utensils       False   \n",
       "2   unapproved or unmaintained equipment or utensils       False   \n",
       "3       unclean or degraded floors walls or ceilings        True   \n",
       "4  food safety certificate or food handler card n...       False   \n",
       "\n",
       "   is_high_risk  is_vermin  is_surface  is_human  is_permit  \n",
       "0         False      False       False     False       True  \n",
       "1         False      False       False     False      False  \n",
       "2         False      False       False     False      False  \n",
       "3         False      False        True     False      False  \n",
       "4         False      False       False      True       True  "
      ]
     },
     "execution_count": 50,
     "metadata": {},
     "output_type": "execute_result"
    }
   ],
   "source": [
    "# use regular expressions to assign new features for the presence of various keywords\n",
    "# regex metacharacter | \n",
    "with_features = (vio\n",
    " .assign(is_unclean     = vio['clean_desc'].str.contains('clean|sanit'))\n",
    " .assign(is_high_risk = vio['clean_desc'].str.contains('high risk'))\n",
    " .assign(is_vermin    = vio['clean_desc'].str.contains('vermin'))\n",
    " .assign(is_surface   = vio['clean_desc'].str.contains('wall|ceiling|floor|surface'))\n",
    " .assign(is_human     = vio['clean_desc'].str.contains('hand|glove|hair|nail'))\n",
    " .assign(is_permit    = vio['clean_desc'].str.contains('permit|certif'))\n",
    ")\n",
    "with_features.head()"
   ]
  },
  {
   "cell_type": "markdown",
   "metadata": {},
   "source": [
    "<br/><br/>\n",
    "\n",
    "### EDA\n",
    "\n",
    "That's the end of our text wrangling. Now let's do some more analysis to analyze restaurant health as a function of the number of violation keywords.\n",
    "\n",
    "To do so we'll first group so that our **granularity** is one inspection for a business on particular date. This effectively counts the number of violations by keyword for a given inspection."
   ]
  },
  {
   "cell_type": "code",
   "execution_count": 52,
   "metadata": {},
   "outputs": [
    {
     "data": {
      "text/html": [
       "<div>\n",
       "<style scoped>\n",
       "    .dataframe tbody tr th:only-of-type {\n",
       "        vertical-align: middle;\n",
       "    }\n",
       "\n",
       "    .dataframe tbody tr th {\n",
       "        vertical-align: top;\n",
       "    }\n",
       "\n",
       "    .dataframe thead th {\n",
       "        text-align: right;\n",
       "    }\n",
       "</style>\n",
       "<table border=\"1\" class=\"dataframe\">\n",
       "  <thead>\n",
       "    <tr style=\"text-align: right;\">\n",
       "      <th></th>\n",
       "      <th>id</th>\n",
       "      <th>date</th>\n",
       "      <th>desc</th>\n",
       "      <th>clean_desc</th>\n",
       "      <th>is_unclean</th>\n",
       "      <th>is_high_risk</th>\n",
       "      <th>is_vermin</th>\n",
       "      <th>is_surface</th>\n",
       "      <th>is_human</th>\n",
       "      <th>is_permit</th>\n",
       "    </tr>\n",
       "  </thead>\n",
       "  <tbody>\n",
       "    <tr>\n",
       "      <th>0</th>\n",
       "      <td>19</td>\n",
       "      <td>100823961</td>\n",
       "      <td>Inadequate food safety knowledge or lack of ce...</td>\n",
       "      <td>inadequate food safety knowledge or lack of ce...</td>\n",
       "      <td>1</td>\n",
       "      <td>0</td>\n",
       "      <td>0</td>\n",
       "      <td>1</td>\n",
       "      <td>1</td>\n",
       "      <td>2</td>\n",
       "    </tr>\n",
       "    <tr>\n",
       "      <th>1</th>\n",
       "      <td>24</td>\n",
       "      <td>80652728</td>\n",
       "      <td>Improper food storageUnclean or degraded floor...</td>\n",
       "      <td>improper food storageunclean or degraded floor...</td>\n",
       "      <td>3</td>\n",
       "      <td>0</td>\n",
       "      <td>0</td>\n",
       "      <td>3</td>\n",
       "      <td>0</td>\n",
       "      <td>0</td>\n",
       "    </tr>\n",
       "    <tr>\n",
       "      <th>2</th>\n",
       "      <td>31</td>\n",
       "      <td>20151204</td>\n",
       "      <td>Food safety certificate or food handler card n...</td>\n",
       "      <td>food safety certificate or food handler card n...</td>\n",
       "      <td>0</td>\n",
       "      <td>0</td>\n",
       "      <td>0</td>\n",
       "      <td>0</td>\n",
       "      <td>1</td>\n",
       "      <td>1</td>\n",
       "    </tr>\n",
       "    <tr>\n",
       "      <th>3</th>\n",
       "      <td>45</td>\n",
       "      <td>423458989</td>\n",
       "      <td>Unclean nonfood contact surfacesModerate risk ...</td>\n",
       "      <td>unclean nonfood contact surfacesmoderate risk ...</td>\n",
       "      <td>9</td>\n",
       "      <td>1</td>\n",
       "      <td>3</td>\n",
       "      <td>8</td>\n",
       "      <td>2</td>\n",
       "      <td>3</td>\n",
       "    </tr>\n",
       "    <tr>\n",
       "      <th>4</th>\n",
       "      <td>54</td>\n",
       "      <td>60510645</td>\n",
       "      <td>Moderate risk food holding temperature Unappro...</td>\n",
       "      <td>moderate risk food holding temperatureunapprov...</td>\n",
       "      <td>0</td>\n",
       "      <td>1</td>\n",
       "      <td>1</td>\n",
       "      <td>0</td>\n",
       "      <td>0</td>\n",
       "      <td>0</td>\n",
       "    </tr>\n",
       "  </tbody>\n",
       "</table>\n",
       "</div>"
      ],
      "text/plain": [
       "   id       date                                               desc  \\\n",
       "0  19  100823961  Inadequate food safety knowledge or lack of ce...   \n",
       "1  24   80652728  Improper food storageUnclean or degraded floor...   \n",
       "2  31   20151204  Food safety certificate or food handler card n...   \n",
       "3  45  423458989  Unclean nonfood contact surfacesModerate risk ...   \n",
       "4  54   60510645  Moderate risk food holding temperature Unappro...   \n",
       "\n",
       "                                          clean_desc  is_unclean  \\\n",
       "0  inadequate food safety knowledge or lack of ce...           1   \n",
       "1  improper food storageunclean or degraded floor...           3   \n",
       "2  food safety certificate or food handler card n...           0   \n",
       "3  unclean nonfood contact surfacesmoderate risk ...           9   \n",
       "4  moderate risk food holding temperatureunapprov...           0   \n",
       "\n",
       "   is_high_risk  is_vermin  is_surface  is_human  is_permit  \n",
       "0             0          0           1         1          2  \n",
       "1             0          0           3         0          0  \n",
       "2             0          0           0         1          1  \n",
       "3             1          3           8         2          3  \n",
       "4             1          1           0         0          0  "
      ]
     },
     "execution_count": 52,
     "metadata": {},
     "output_type": "execute_result"
    }
   ],
   "source": [
    "count_features = (\n",
    "    with_features.groupby('id').sum()\n",
    "    .reset_index()\n",
    ")\n",
    "count_features.head()"
   ]
  },
  {
   "cell_type": "code",
   "execution_count": 54,
   "metadata": {},
   "outputs": [
    {
     "data": {
      "text/html": [
       "<div>\n",
       "<style scoped>\n",
       "    .dataframe tbody tr th:only-of-type {\n",
       "        vertical-align: middle;\n",
       "    }\n",
       "\n",
       "    .dataframe tbody tr th {\n",
       "        vertical-align: top;\n",
       "    }\n",
       "\n",
       "    .dataframe thead th {\n",
       "        text-align: right;\n",
       "    }\n",
       "</style>\n",
       "<table border=\"1\" class=\"dataframe\">\n",
       "  <thead>\n",
       "    <tr style=\"text-align: right;\">\n",
       "      <th></th>\n",
       "      <th>id</th>\n",
       "      <th>date</th>\n",
       "      <th>is_unclean</th>\n",
       "      <th>is_high_risk</th>\n",
       "      <th>is_vermin</th>\n",
       "      <th>is_surface</th>\n",
       "      <th>is_human</th>\n",
       "      <th>is_permit</th>\n",
       "    </tr>\n",
       "  </thead>\n",
       "  <tbody>\n",
       "    <tr>\n",
       "      <th>0</th>\n",
       "      <td>19</td>\n",
       "      <td>100823961</td>\n",
       "      <td>1</td>\n",
       "      <td>0</td>\n",
       "      <td>0</td>\n",
       "      <td>1</td>\n",
       "      <td>1</td>\n",
       "      <td>2</td>\n",
       "    </tr>\n",
       "    <tr>\n",
       "      <th>1</th>\n",
       "      <td>24</td>\n",
       "      <td>80652728</td>\n",
       "      <td>3</td>\n",
       "      <td>0</td>\n",
       "      <td>0</td>\n",
       "      <td>3</td>\n",
       "      <td>0</td>\n",
       "      <td>0</td>\n",
       "    </tr>\n",
       "    <tr>\n",
       "      <th>2</th>\n",
       "      <td>31</td>\n",
       "      <td>20151204</td>\n",
       "      <td>0</td>\n",
       "      <td>0</td>\n",
       "      <td>0</td>\n",
       "      <td>0</td>\n",
       "      <td>1</td>\n",
       "      <td>1</td>\n",
       "    </tr>\n",
       "    <tr>\n",
       "      <th>3</th>\n",
       "      <td>45</td>\n",
       "      <td>423458989</td>\n",
       "      <td>9</td>\n",
       "      <td>1</td>\n",
       "      <td>3</td>\n",
       "      <td>8</td>\n",
       "      <td>2</td>\n",
       "      <td>3</td>\n",
       "    </tr>\n",
       "    <tr>\n",
       "      <th>4</th>\n",
       "      <td>54</td>\n",
       "      <td>60510645</td>\n",
       "      <td>0</td>\n",
       "      <td>1</td>\n",
       "      <td>1</td>\n",
       "      <td>0</td>\n",
       "      <td>0</td>\n",
       "      <td>0</td>\n",
       "    </tr>\n",
       "  </tbody>\n",
       "</table>\n",
       "</div>"
      ],
      "text/plain": [
       "   id       date  is_unclean  is_high_risk  is_vermin  is_surface  is_human  \\\n",
       "0  19  100823961           1             0          0           1         1   \n",
       "1  24   80652728           3             0          0           3         0   \n",
       "2  31   20151204           0             0          0           0         1   \n",
       "3  45  423458989           9             1          3           8         2   \n",
       "4  54   60510645           0             1          1           0         0   \n",
       "\n",
       "   is_permit  \n",
       "0          2  \n",
       "1          0  \n",
       "2          1  \n",
       "3          3  \n",
       "4          0  "
      ]
     },
     "execution_count": 54,
     "metadata": {},
     "output_type": "execute_result"
    }
   ],
   "source": [
    "# add numeric_only = true -> only retain nume columns\n",
    "\n",
    "count_features = (\n",
    "    with_features.groupby('id').sum(numeric_only = True)\n",
    "    .reset_index()\n",
    ")\n",
    "count_features.head()"
   ]
  },
  {
   "cell_type": "code",
   "execution_count": 56,
   "metadata": {},
   "outputs": [
    {
     "data": {
      "text/html": [
       "<div>\n",
       "<style scoped>\n",
       "    .dataframe tbody tr th:only-of-type {\n",
       "        vertical-align: middle;\n",
       "    }\n",
       "\n",
       "    .dataframe tbody tr th {\n",
       "        vertical-align: top;\n",
       "    }\n",
       "\n",
       "    .dataframe thead th {\n",
       "        text-align: right;\n",
       "    }\n",
       "</style>\n",
       "<table border=\"1\" class=\"dataframe\">\n",
       "  <thead>\n",
       "    <tr style=\"text-align: right;\">\n",
       "      <th></th>\n",
       "      <th>id</th>\n",
       "      <th>date</th>\n",
       "      <th>is_unclean</th>\n",
       "      <th>is_high_risk</th>\n",
       "      <th>is_vermin</th>\n",
       "      <th>is_surface</th>\n",
       "      <th>is_human</th>\n",
       "      <th>is_permit</th>\n",
       "    </tr>\n",
       "  </thead>\n",
       "  <tbody>\n",
       "    <tr>\n",
       "      <th>255</th>\n",
       "      <td>489</td>\n",
       "      <td>20150728</td>\n",
       "      <td>5</td>\n",
       "      <td>0</td>\n",
       "      <td>2</td>\n",
       "      <td>3</td>\n",
       "      <td>0</td>\n",
       "      <td>0</td>\n",
       "    </tr>\n",
       "    <tr>\n",
       "      <th>256</th>\n",
       "      <td>489</td>\n",
       "      <td>20150807</td>\n",
       "      <td>1</td>\n",
       "      <td>0</td>\n",
       "      <td>0</td>\n",
       "      <td>1</td>\n",
       "      <td>0</td>\n",
       "      <td>0</td>\n",
       "    </tr>\n",
       "    <tr>\n",
       "      <th>257</th>\n",
       "      <td>489</td>\n",
       "      <td>20160308</td>\n",
       "      <td>2</td>\n",
       "      <td>2</td>\n",
       "      <td>1</td>\n",
       "      <td>0</td>\n",
       "      <td>1</td>\n",
       "      <td>0</td>\n",
       "    </tr>\n",
       "    <tr>\n",
       "      <th>258</th>\n",
       "      <td>489</td>\n",
       "      <td>20160721</td>\n",
       "      <td>2</td>\n",
       "      <td>1</td>\n",
       "      <td>1</td>\n",
       "      <td>1</td>\n",
       "      <td>0</td>\n",
       "      <td>1</td>\n",
       "    </tr>\n",
       "    <tr>\n",
       "      <th>259</th>\n",
       "      <td>489</td>\n",
       "      <td>20161220</td>\n",
       "      <td>3</td>\n",
       "      <td>0</td>\n",
       "      <td>1</td>\n",
       "      <td>2</td>\n",
       "      <td>0</td>\n",
       "      <td>0</td>\n",
       "    </tr>\n",
       "  </tbody>\n",
       "</table>\n",
       "</div>"
      ],
      "text/plain": [
       "      id      date  is_unclean  is_high_risk  is_vermin  is_surface  is_human  \\\n",
       "255  489  20150728           5             0          2           3         0   \n",
       "256  489  20150807           1             0          0           1         0   \n",
       "257  489  20160308           2             2          1           0         1   \n",
       "258  489  20160721           2             1          1           1         0   \n",
       "259  489  20161220           3             0          1           2         0   \n",
       "\n",
       "     is_permit  \n",
       "255          0  \n",
       "256          0  \n",
       "257          0  \n",
       "258          1  \n",
       "259          0  "
      ]
     },
     "execution_count": 56,
     "metadata": {},
     "output_type": "execute_result"
    }
   ],
   "source": [
    "count_features = (with_features\n",
    " .groupby(['id', 'date'])\n",
    " .sum(numeric_only=True)\n",
    " .reset_index()\n",
    ")\n",
    "count_features.iloc[255:260, :]"
   ]
  },
  {
   "cell_type": "markdown",
   "metadata": {},
   "source": [
    "Check out our new dataframe in action:"
   ]
  },
  {
   "cell_type": "code",
   "execution_count": 57,
   "metadata": {},
   "outputs": [
    {
     "data": {
      "text/html": [
       "<div>\n",
       "<style scoped>\n",
       "    .dataframe tbody tr th:only-of-type {\n",
       "        vertical-align: middle;\n",
       "    }\n",
       "\n",
       "    .dataframe tbody tr th {\n",
       "        vertical-align: top;\n",
       "    }\n",
       "\n",
       "    .dataframe thead th {\n",
       "        text-align: right;\n",
       "    }\n",
       "</style>\n",
       "<table border=\"1\" class=\"dataframe\">\n",
       "  <thead>\n",
       "    <tr style=\"text-align: right;\">\n",
       "      <th></th>\n",
       "      <th>id</th>\n",
       "      <th>date</th>\n",
       "      <th>is_unclean</th>\n",
       "      <th>is_high_risk</th>\n",
       "      <th>is_vermin</th>\n",
       "      <th>is_surface</th>\n",
       "      <th>is_human</th>\n",
       "      <th>is_permit</th>\n",
       "    </tr>\n",
       "  </thead>\n",
       "  <tbody>\n",
       "    <tr>\n",
       "      <th>255</th>\n",
       "      <td>489</td>\n",
       "      <td>20150728</td>\n",
       "      <td>5</td>\n",
       "      <td>0</td>\n",
       "      <td>2</td>\n",
       "      <td>3</td>\n",
       "      <td>0</td>\n",
       "      <td>0</td>\n",
       "    </tr>\n",
       "    <tr>\n",
       "      <th>291</th>\n",
       "      <td>527</td>\n",
       "      <td>20170821</td>\n",
       "      <td>1</td>\n",
       "      <td>1</td>\n",
       "      <td>2</td>\n",
       "      <td>1</td>\n",
       "      <td>1</td>\n",
       "      <td>1</td>\n",
       "    </tr>\n",
       "    <tr>\n",
       "      <th>1508</th>\n",
       "      <td>2622</td>\n",
       "      <td>20160526</td>\n",
       "      <td>4</td>\n",
       "      <td>2</td>\n",
       "      <td>2</td>\n",
       "      <td>3</td>\n",
       "      <td>0</td>\n",
       "      <td>0</td>\n",
       "    </tr>\n",
       "    <tr>\n",
       "      <th>1573</th>\n",
       "      <td>2721</td>\n",
       "      <td>20150422</td>\n",
       "      <td>2</td>\n",
       "      <td>1</td>\n",
       "      <td>2</td>\n",
       "      <td>1</td>\n",
       "      <td>0</td>\n",
       "      <td>0</td>\n",
       "    </tr>\n",
       "    <tr>\n",
       "      <th>1746</th>\n",
       "      <td>2945</td>\n",
       "      <td>20150921</td>\n",
       "      <td>2</td>\n",
       "      <td>1</td>\n",
       "      <td>2</td>\n",
       "      <td>2</td>\n",
       "      <td>2</td>\n",
       "      <td>1</td>\n",
       "    </tr>\n",
       "  </tbody>\n",
       "</table>\n",
       "</div>"
      ],
      "text/plain": [
       "        id      date  is_unclean  is_high_risk  is_vermin  is_surface  \\\n",
       "255    489  20150728           5             0          2           3   \n",
       "291    527  20170821           1             1          2           1   \n",
       "1508  2622  20160526           4             2          2           3   \n",
       "1573  2721  20150422           2             1          2           1   \n",
       "1746  2945  20150921           2             1          2           2   \n",
       "\n",
       "      is_human  is_permit  \n",
       "255          0          0  \n",
       "291          1          1  \n",
       "1508         0          0  \n",
       "1573         0          0  \n",
       "1746         2          1  "
      ]
     },
     "execution_count": 57,
     "metadata": {},
     "output_type": "execute_result"
    }
   ],
   "source": [
    "count_features[count_features['is_vermin'] > 1].head(5)"
   ]
  },
  {
   "cell_type": "markdown",
   "metadata": {},
   "source": [
    "Now we'll reshape this \"wide\" table into a \"tidy\" table using a pandas feature called `pd.melt` ([documentation](https://pandas.pydata.org/pandas-docs/stable/reference/api/pandas.DataFrame.melt.html?highlight=pd%20melt)) which we won't describe in any detail, other than that it's effectively the inverse of `pd.pivot_table`.\n",
    "\n",
    "Our **granularity** is now a violation type for a given inspection (for a business on a particular date)."
   ]
  },
  {
   "cell_type": "code",
   "execution_count": 59,
   "metadata": {},
   "outputs": [
    {
     "data": {
      "text/html": [
       "<div>\n",
       "<style scoped>\n",
       "    .dataframe tbody tr th:only-of-type {\n",
       "        vertical-align: middle;\n",
       "    }\n",
       "\n",
       "    .dataframe tbody tr th {\n",
       "        vertical-align: top;\n",
       "    }\n",
       "\n",
       "    .dataframe thead th {\n",
       "        text-align: right;\n",
       "    }\n",
       "</style>\n",
       "<table border=\"1\" class=\"dataframe\">\n",
       "  <thead>\n",
       "    <tr style=\"text-align: right;\">\n",
       "      <th></th>\n",
       "      <th>id</th>\n",
       "      <th>date</th>\n",
       "      <th>feature</th>\n",
       "      <th>num_vios</th>\n",
       "    </tr>\n",
       "  </thead>\n",
       "  <tbody>\n",
       "    <tr>\n",
       "      <th>0</th>\n",
       "      <td>19</td>\n",
       "      <td>20160513</td>\n",
       "      <td>is_unclean</td>\n",
       "      <td>1</td>\n",
       "    </tr>\n",
       "    <tr>\n",
       "      <th>1</th>\n",
       "      <td>19</td>\n",
       "      <td>20171211</td>\n",
       "      <td>is_unclean</td>\n",
       "      <td>0</td>\n",
       "    </tr>\n",
       "    <tr>\n",
       "      <th>2</th>\n",
       "      <td>24</td>\n",
       "      <td>20160311</td>\n",
       "      <td>is_unclean</td>\n",
       "      <td>2</td>\n",
       "    </tr>\n",
       "    <tr>\n",
       "      <th>3</th>\n",
       "      <td>24</td>\n",
       "      <td>20161005</td>\n",
       "      <td>is_unclean</td>\n",
       "      <td>1</td>\n",
       "    </tr>\n",
       "    <tr>\n",
       "      <th>4</th>\n",
       "      <td>24</td>\n",
       "      <td>20171101</td>\n",
       "      <td>is_unclean</td>\n",
       "      <td>0</td>\n",
       "    </tr>\n",
       "    <tr>\n",
       "      <th>...</th>\n",
       "      <td>...</td>\n",
       "      <td>...</td>\n",
       "      <td>...</td>\n",
       "      <td>...</td>\n",
       "    </tr>\n",
       "    <tr>\n",
       "      <th>73567</th>\n",
       "      <td>93969</td>\n",
       "      <td>20171221</td>\n",
       "      <td>is_permit</td>\n",
       "      <td>0</td>\n",
       "    </tr>\n",
       "    <tr>\n",
       "      <th>73568</th>\n",
       "      <td>93977</td>\n",
       "      <td>20171219</td>\n",
       "      <td>is_permit</td>\n",
       "      <td>0</td>\n",
       "    </tr>\n",
       "    <tr>\n",
       "      <th>73569</th>\n",
       "      <td>94012</td>\n",
       "      <td>20180112</td>\n",
       "      <td>is_permit</td>\n",
       "      <td>0</td>\n",
       "    </tr>\n",
       "    <tr>\n",
       "      <th>73570</th>\n",
       "      <td>94189</td>\n",
       "      <td>20171130</td>\n",
       "      <td>is_permit</td>\n",
       "      <td>0</td>\n",
       "    </tr>\n",
       "    <tr>\n",
       "      <th>73571</th>\n",
       "      <td>94231</td>\n",
       "      <td>20171214</td>\n",
       "      <td>is_permit</td>\n",
       "      <td>0</td>\n",
       "    </tr>\n",
       "  </tbody>\n",
       "</table>\n",
       "<p>73572 rows × 4 columns</p>\n",
       "</div>"
      ],
      "text/plain": [
       "          id      date     feature  num_vios\n",
       "0         19  20160513  is_unclean         1\n",
       "1         19  20171211  is_unclean         0\n",
       "2         24  20160311  is_unclean         2\n",
       "3         24  20161005  is_unclean         1\n",
       "4         24  20171101  is_unclean         0\n",
       "...      ...       ...         ...       ...\n",
       "73567  93969  20171221   is_permit         0\n",
       "73568  93977  20171219   is_permit         0\n",
       "73569  94012  20180112   is_permit         0\n",
       "73570  94189  20171130   is_permit         0\n",
       "73571  94231  20171214   is_permit         0\n",
       "\n",
       "[73572 rows x 4 columns]"
      ]
     },
     "execution_count": 59,
     "metadata": {},
     "output_type": "execute_result"
    }
   ],
   "source": [
    "# task: use pd.melt\n",
    "\n",
    "violation_type_df = pd.melt(count_features, var_name = 'feature', value_name = 'num_vios', id_vars = ['id', 'date'])\n",
    "violation_type_df"
   ]
  },
  {
   "cell_type": "code",
   "execution_count": 63,
   "metadata": {},
   "outputs": [
    {
     "data": {
      "text/html": [
       "<div>\n",
       "<style scoped>\n",
       "    .dataframe tbody tr th:only-of-type {\n",
       "        vertical-align: middle;\n",
       "    }\n",
       "\n",
       "    .dataframe tbody tr th {\n",
       "        vertical-align: top;\n",
       "    }\n",
       "\n",
       "    .dataframe thead th {\n",
       "        text-align: right;\n",
       "    }\n",
       "</style>\n",
       "<table border=\"1\" class=\"dataframe\">\n",
       "  <thead>\n",
       "    <tr style=\"text-align: right;\">\n",
       "      <th></th>\n",
       "      <th>id</th>\n",
       "      <th>date</th>\n",
       "      <th>feature</th>\n",
       "      <th>num_vios</th>\n",
       "    </tr>\n",
       "  </thead>\n",
       "  <tbody>\n",
       "    <tr>\n",
       "      <th>0</th>\n",
       "      <td>19</td>\n",
       "      <td>20160513</td>\n",
       "      <td>is_unclean</td>\n",
       "      <td>1</td>\n",
       "    </tr>\n",
       "    <tr>\n",
       "      <th>1</th>\n",
       "      <td>19</td>\n",
       "      <td>20171211</td>\n",
       "      <td>is_unclean</td>\n",
       "      <td>0</td>\n",
       "    </tr>\n",
       "    <tr>\n",
       "      <th>2</th>\n",
       "      <td>24</td>\n",
       "      <td>20160311</td>\n",
       "      <td>is_unclean</td>\n",
       "      <td>2</td>\n",
       "    </tr>\n",
       "    <tr>\n",
       "      <th>3</th>\n",
       "      <td>24</td>\n",
       "      <td>20161005</td>\n",
       "      <td>is_unclean</td>\n",
       "      <td>1</td>\n",
       "    </tr>\n",
       "    <tr>\n",
       "      <th>4</th>\n",
       "      <td>24</td>\n",
       "      <td>20171101</td>\n",
       "      <td>is_unclean</td>\n",
       "      <td>0</td>\n",
       "    </tr>\n",
       "    <tr>\n",
       "      <th>...</th>\n",
       "      <td>...</td>\n",
       "      <td>...</td>\n",
       "      <td>...</td>\n",
       "      <td>...</td>\n",
       "    </tr>\n",
       "    <tr>\n",
       "      <th>73567</th>\n",
       "      <td>93969</td>\n",
       "      <td>20171221</td>\n",
       "      <td>is_permit</td>\n",
       "      <td>0</td>\n",
       "    </tr>\n",
       "    <tr>\n",
       "      <th>73568</th>\n",
       "      <td>93977</td>\n",
       "      <td>20171219</td>\n",
       "      <td>is_permit</td>\n",
       "      <td>0</td>\n",
       "    </tr>\n",
       "    <tr>\n",
       "      <th>73569</th>\n",
       "      <td>94012</td>\n",
       "      <td>20180112</td>\n",
       "      <td>is_permit</td>\n",
       "      <td>0</td>\n",
       "    </tr>\n",
       "    <tr>\n",
       "      <th>73570</th>\n",
       "      <td>94189</td>\n",
       "      <td>20171130</td>\n",
       "      <td>is_permit</td>\n",
       "      <td>0</td>\n",
       "    </tr>\n",
       "    <tr>\n",
       "      <th>73571</th>\n",
       "      <td>94231</td>\n",
       "      <td>20171214</td>\n",
       "      <td>is_permit</td>\n",
       "      <td>0</td>\n",
       "    </tr>\n",
       "  </tbody>\n",
       "</table>\n",
       "<p>73572 rows × 4 columns</p>\n",
       "</div>"
      ],
      "text/plain": [
       "          id      date     feature  num_vios\n",
       "0         19  20160513  is_unclean         1\n",
       "1         19  20171211  is_unclean         0\n",
       "2         24  20160311  is_unclean         2\n",
       "3         24  20161005  is_unclean         1\n",
       "4         24  20171101  is_unclean         0\n",
       "...      ...       ...         ...       ...\n",
       "73567  93969  20171221   is_permit         0\n",
       "73568  93977  20171219   is_permit         0\n",
       "73569  94012  20180112   is_permit         0\n",
       "73570  94189  20171130   is_permit         0\n",
       "73571  94231  20171214   is_permit         0\n",
       "\n",
       "[73572 rows x 4 columns]"
      ]
     },
     "execution_count": 63,
     "metadata": {},
     "output_type": "execute_result"
    }
   ],
   "source": [
    "violation_type_df"
   ]
  },
  {
   "cell_type": "markdown",
   "metadata": {},
   "source": [
    "Remember our research question:\n",
    "\n",
    "> **How do restaurant health scores vary as a function of the number of violations that mention a particular keyword?** \n",
    "> <br/>\n",
    "> (e.g., unclean surfaces, vermin, permits, etc.)\n",
    "\n",
    "<br/>\n",
    "\n",
    "We have the second half of this question! Now let's **join** our table with the inspection scores, located in `inspections.csv`."
   ]
  },
  {
   "cell_type": "code",
   "execution_count": 66,
   "metadata": {},
   "outputs": [
    {
     "data": {
      "text/html": [
       "<div>\n",
       "<style scoped>\n",
       "    .dataframe tbody tr th:only-of-type {\n",
       "        vertical-align: middle;\n",
       "    }\n",
       "\n",
       "    .dataframe tbody tr th {\n",
       "        vertical-align: top;\n",
       "    }\n",
       "\n",
       "    .dataframe thead th {\n",
       "        text-align: right;\n",
       "    }\n",
       "</style>\n",
       "<table border=\"1\" class=\"dataframe\">\n",
       "  <thead>\n",
       "    <tr style=\"text-align: right;\">\n",
       "      <th></th>\n",
       "      <th>id</th>\n",
       "      <th>score</th>\n",
       "      <th>date</th>\n",
       "    </tr>\n",
       "  </thead>\n",
       "  <tbody>\n",
       "    <tr>\n",
       "      <th>0</th>\n",
       "      <td>19</td>\n",
       "      <td>94</td>\n",
       "      <td>20160513</td>\n",
       "    </tr>\n",
       "    <tr>\n",
       "      <th>1</th>\n",
       "      <td>19</td>\n",
       "      <td>94</td>\n",
       "      <td>20171211</td>\n",
       "    </tr>\n",
       "    <tr>\n",
       "      <th>2</th>\n",
       "      <td>24</td>\n",
       "      <td>98</td>\n",
       "      <td>20171101</td>\n",
       "    </tr>\n",
       "    <tr>\n",
       "      <th>3</th>\n",
       "      <td>24</td>\n",
       "      <td>98</td>\n",
       "      <td>20161005</td>\n",
       "    </tr>\n",
       "    <tr>\n",
       "      <th>4</th>\n",
       "      <td>24</td>\n",
       "      <td>96</td>\n",
       "      <td>20160311</td>\n",
       "    </tr>\n",
       "  </tbody>\n",
       "</table>\n",
       "</div>"
      ],
      "text/plain": [
       "   id  score      date\n",
       "0  19     94  20160513\n",
       "1  19     94  20171211\n",
       "2  24     98  20171101\n",
       "3  24     98  20161005\n",
       "4  24     96  20160311"
      ]
     },
     "execution_count": 66,
     "metadata": {},
     "output_type": "execute_result"
    }
   ],
   "source": [
    "# read in the scores\n",
    "inspection_df = pd.read_csv('../DATA/inspections.csv',\n",
    "                  header=0,\n",
    "                  usecols=[0, 1, 2],\n",
    "                  names=['id', 'score', 'date'])\n",
    "inspection_df.head()"
   ]
  },
  {
   "cell_type": "markdown",
   "metadata": {},
   "source": [
    "While the inspection scores were stored in a separate file from the violation descriptions, we notice that the **primary key** in inspections is (`bid`, `date`)! So we can reference this key in our join."
   ]
  },
  {
   "cell_type": "code",
   "execution_count": 68,
   "metadata": {},
   "outputs": [
    {
     "data": {
      "text/html": [
       "<div>\n",
       "<style scoped>\n",
       "    .dataframe tbody tr th:only-of-type {\n",
       "        vertical-align: middle;\n",
       "    }\n",
       "\n",
       "    .dataframe tbody tr th {\n",
       "        vertical-align: top;\n",
       "    }\n",
       "\n",
       "    .dataframe thead th {\n",
       "        text-align: right;\n",
       "    }\n",
       "</style>\n",
       "<table border=\"1\" class=\"dataframe\">\n",
       "  <thead>\n",
       "    <tr style=\"text-align: right;\">\n",
       "      <th></th>\n",
       "      <th>id</th>\n",
       "      <th>date</th>\n",
       "      <th>feature</th>\n",
       "      <th>num_vios</th>\n",
       "      <th>score</th>\n",
       "    </tr>\n",
       "  </thead>\n",
       "  <tbody>\n",
       "    <tr>\n",
       "      <th>0</th>\n",
       "      <td>19</td>\n",
       "      <td>20160513</td>\n",
       "      <td>is_unclean</td>\n",
       "      <td>1</td>\n",
       "      <td>94</td>\n",
       "    </tr>\n",
       "    <tr>\n",
       "      <th>1</th>\n",
       "      <td>19</td>\n",
       "      <td>20171211</td>\n",
       "      <td>is_unclean</td>\n",
       "      <td>0</td>\n",
       "      <td>94</td>\n",
       "    </tr>\n",
       "    <tr>\n",
       "      <th>2</th>\n",
       "      <td>24</td>\n",
       "      <td>20160311</td>\n",
       "      <td>is_unclean</td>\n",
       "      <td>2</td>\n",
       "      <td>96</td>\n",
       "    </tr>\n",
       "    <tr>\n",
       "      <th>3</th>\n",
       "      <td>24</td>\n",
       "      <td>20161005</td>\n",
       "      <td>is_unclean</td>\n",
       "      <td>1</td>\n",
       "      <td>98</td>\n",
       "    </tr>\n",
       "    <tr>\n",
       "      <th>4</th>\n",
       "      <td>24</td>\n",
       "      <td>20171101</td>\n",
       "      <td>is_unclean</td>\n",
       "      <td>0</td>\n",
       "      <td>98</td>\n",
       "    </tr>\n",
       "    <tr>\n",
       "      <th>5</th>\n",
       "      <td>31</td>\n",
       "      <td>20151204</td>\n",
       "      <td>is_unclean</td>\n",
       "      <td>0</td>\n",
       "      <td>98</td>\n",
       "    </tr>\n",
       "    <tr>\n",
       "      <th>6</th>\n",
       "      <td>45</td>\n",
       "      <td>20160104</td>\n",
       "      <td>is_unclean</td>\n",
       "      <td>3</td>\n",
       "      <td>78</td>\n",
       "    </tr>\n",
       "    <tr>\n",
       "      <th>7</th>\n",
       "      <td>45</td>\n",
       "      <td>20160614</td>\n",
       "      <td>is_unclean</td>\n",
       "      <td>1</td>\n",
       "      <td>84</td>\n",
       "    </tr>\n",
       "    <tr>\n",
       "      <th>8</th>\n",
       "      <td>45</td>\n",
       "      <td>20170307</td>\n",
       "      <td>is_unclean</td>\n",
       "      <td>3</td>\n",
       "      <td>88</td>\n",
       "    </tr>\n",
       "    <tr>\n",
       "      <th>9</th>\n",
       "      <td>45</td>\n",
       "      <td>20170914</td>\n",
       "      <td>is_unclean</td>\n",
       "      <td>2</td>\n",
       "      <td>85</td>\n",
       "    </tr>\n",
       "    <tr>\n",
       "      <th>10</th>\n",
       "      <td>54</td>\n",
       "      <td>20170215</td>\n",
       "      <td>is_unclean</td>\n",
       "      <td>0</td>\n",
       "      <td>87</td>\n",
       "    </tr>\n",
       "    <tr>\n",
       "      <th>11</th>\n",
       "      <td>56</td>\n",
       "      <td>20151222</td>\n",
       "      <td>is_unclean</td>\n",
       "      <td>1</td>\n",
       "      <td>88</td>\n",
       "    </tr>\n",
       "  </tbody>\n",
       "</table>\n",
       "</div>"
      ],
      "text/plain": [
       "    id      date     feature  num_vios  score\n",
       "0   19  20160513  is_unclean         1     94\n",
       "1   19  20171211  is_unclean         0     94\n",
       "2   24  20160311  is_unclean         2     96\n",
       "3   24  20161005  is_unclean         1     98\n",
       "4   24  20171101  is_unclean         0     98\n",
       "5   31  20151204  is_unclean         0     98\n",
       "6   45  20160104  is_unclean         3     78\n",
       "7   45  20160614  is_unclean         1     84\n",
       "8   45  20170307  is_unclean         3     88\n",
       "9   45  20170914  is_unclean         2     85\n",
       "10  54  20170215  is_unclean         0     87\n",
       "11  56  20151222  is_unclean         1     88"
      ]
     },
     "execution_count": 68,
     "metadata": {},
     "output_type": "execute_result"
    }
   ],
   "source": [
    "# join scores with the table broken down by violation type\n",
    "violation_type_and_scores = (\n",
    "    violation_type_df\n",
    "    .merge(inspection_df, on=['id', 'date'])\n",
    ")\n",
    "violation_type_and_scores.head(12)"
   ]
  },
  {
   "cell_type": "markdown",
   "metadata": {},
   "source": [
    "<br/><br/>\n",
    "\n",
    "---\n",
    "\n",
    "Let's plot the distribution of scores, broken down by violation counts, for each inspection feature (`is_clean`, `is_high_risk`, `is_vermin`, `is_surface`)."
   ]
  },
  {
   "cell_type": "code",
   "execution_count": 69,
   "metadata": {},
   "outputs": [
    {
     "data": {
      "image/png": "[encoded data removed]",
      "text/plain": [
       "<Figure size 1011.11x1500 with 6 Axes>"
      ]
     },
     "metadata": {},
     "output_type": "display_data"
    }
   ],
   "source": [
    "# you will learn this syntax next week. Focus on interpreting for now.\n",
    "sns.catplot(x='num_vios', y='score',\n",
    "               col='feature', col_wrap=2,\n",
    "               kind='box',\n",
    "               data=violation_type_and_scores);"
   ]
  },
  {
   "cell_type": "markdown",
   "metadata": {},
   "source": [
    "Above we can observe:\n",
    "* The inspection score generally goes down with increasing numbers of violations, as expected.\n",
    "* Depending on the violation keyword, inspections scores on average go down at slightly different rates.\n",
    "* For example, that if a restaurant inspection involved 2 violations with the keyword \"vermin\", the average score for that inspection would be a little bit below 80."
   ]
  }
 ],
 "metadata": {
  "kernelspec": {
   "display_name": "Python 3 (ipykernel)",
   "language": "python",
   "name": "python3"
  },
  "language_info": {
   "codemirror_mode": {
    "name": "ipython",
    "version": 3
   },
   "file_extension": ".py",
   "mimetype": "text/x-python",
   "name": "python",
   "nbconvert_exporter": "python",
   "pygments_lexer": "ipython3",
   "version": "3.12.2"
  }
 },
 "nbformat": 4,
 "nbformat_minor": 4
}
